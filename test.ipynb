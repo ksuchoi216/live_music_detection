{
 "cells": [
  {
   "cell_type": "code",
   "execution_count": null,
   "metadata": {},
   "outputs": [],
   "source": [
    "test = df['name'].apply(lambda x: x.lower())\n",
    "test.head(4)"
   ]
  },
  {
   "cell_type": "code",
   "execution_count": null,
   "metadata": {},
   "outputs": [],
   "source": [
    "import re\n",
    "strs = ['How High the Moon - Live','Don Giovanni, K. 527, Act I: Giovinette, che fate all\\'amore (Live)',\n",
    "        'Quicksilver - Live At Birdland, New York/1954','Skin Deep - Live','Real Live Girl',\n",
    "        'Nothing Was Delivered', 'The Eleven - Live in San Francisco, 1969; 2001 Remaster',\n",
    "        'A Man A City (live at the Fillmore West) [Bonus Track]', 'Got My Mojo Working - Pt. 2 / Live At Newport Jazz Festival, 1960',\n",
    "        'C\\'mon And Love Me - Live/1975']\n",
    "print(strs,'\\n')\n",
    "\n",
    "for i, str in enumerate(strs):\n",
    "    tokens = re.findall(r'([-/] [Ll]ive|\\([Ll]ive\\))', str)\n",
    "    print(i,': ',str)\n",
    "    if tokens:\n",
    "        print(tokens, ' found!!')\n",
    "    print('\\n')\n",
    "\n",
    "# print(tokens)\n",
    "\n",
    "\n",
    "# print(tokens)\n",
    "# for token in tokens:\n",
    "#     token=token.lower()\n",
    "#     if token == 'live':\n",
    "#         print(\"found!\")\n",
    "\n",
    "# print(df['name'][1])"
   ]
  },
  {
   "cell_type": "code",
   "execution_count": null,
   "metadata": {},
   "outputs": [],
   "source": [
    "#data preparation and preprocessiong\n",
    "audio_fts.isna().sum() # check null values\n",
    "\n",
    "from sklearn import preprocessing\n",
    "import numpy as np\n",
    "\n",
    "dft = pd.DataFrame(np.array([[1, 3, 3], [1, 5, 6], [4, 5, 9]]),\n",
    "                   columns=['a', 'b', 'c'])\n",
    "\n",
    "dft\n",
    "# print(dft.sum()/dft.shape[0])\n",
    "# print(dft.max())\n",
    "print(dft.min())\n",
    "# print(dft.max()-dft.min())\n",
    "x = dft.values\n",
    "min_max_scaler = preprocessing.MinMaxScaler()\n",
    "x_scaled = min_max_scaler.fit_transform(x)\n",
    "# x_scaled2 = (dft-dft.min())/(dft.max()-dft.min())"
   ]
  },
  {
   "cell_type": "code",
   "execution_count": null,
   "metadata": {},
   "outputs": [],
   "source": []
  }
 ],
 "metadata": {
  "interpreter": {
   "hash": "45d80257ccf4ae77bb116447a323b4ded5c7d4f4eb3ea993cf039511269910c8"
  },
  "kernelspec": {
   "display_name": "Python 3.8.8 64-bit ('base': conda)",
   "language": "python",
   "name": "python3"
  },
  "language_info": {
   "name": "python",
   "version": "3.8.8"
  },
  "orig_nbformat": 4
 },
 "nbformat": 4,
 "nbformat_minor": 2
}
