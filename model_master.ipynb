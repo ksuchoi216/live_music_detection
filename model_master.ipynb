{
 "cells": [
  {
   "cell_type": "code",
   "execution_count": 1,
   "metadata": {},
   "outputs": [
    {
     "data": {
      "text/html": [
       "<div>\n",
       "<style scoped>\n",
       "    .dataframe tbody tr th:only-of-type {\n",
       "        vertical-align: middle;\n",
       "    }\n",
       "\n",
       "    .dataframe tbody tr th {\n",
       "        vertical-align: top;\n",
       "    }\n",
       "\n",
       "    .dataframe thead th {\n",
       "        text-align: right;\n",
       "    }\n",
       "</style>\n",
       "<table border=\"1\" class=\"dataframe\">\n",
       "  <thead>\n",
       "    <tr style=\"text-align: right;\">\n",
       "      <th></th>\n",
       "      <th>danceability</th>\n",
       "      <th>energy</th>\n",
       "      <th>key</th>\n",
       "      <th>loudness</th>\n",
       "      <th>mode</th>\n",
       "      <th>speechiness</th>\n",
       "      <th>acousticness</th>\n",
       "      <th>instrumentalness</th>\n",
       "      <th>liveness</th>\n",
       "      <th>valence</th>\n",
       "      <th>tempo</th>\n",
       "      <th>duration_ms</th>\n",
       "      <th>time_signature</th>\n",
       "      <th>live</th>\n",
       "      <th>outlier</th>\n",
       "    </tr>\n",
       "  </thead>\n",
       "  <tbody>\n",
       "    <tr>\n",
       "      <th>0</th>\n",
       "      <td>-1.509609</td>\n",
       "      <td>-0.950819</td>\n",
       "      <td>1.371512</td>\n",
       "      <td>-1.484222</td>\n",
       "      <td>0.640996</td>\n",
       "      <td>-0.381994</td>\n",
       "      <td>1.196042</td>\n",
       "      <td>2.235733</td>\n",
       "      <td>2.802696</td>\n",
       "      <td>-1.827616</td>\n",
       "      <td>-1.154106</td>\n",
       "      <td>4.978012</td>\n",
       "      <td>0.292319</td>\n",
       "      <td>0</td>\n",
       "      <td>1</td>\n",
       "    </tr>\n",
       "    <tr>\n",
       "      <th>1</th>\n",
       "      <td>1.588714</td>\n",
       "      <td>-0.458713</td>\n",
       "      <td>0.515464</td>\n",
       "      <td>-0.133135</td>\n",
       "      <td>0.640996</td>\n",
       "      <td>1.764213</td>\n",
       "      <td>0.532930</td>\n",
       "      <td>-0.538791</td>\n",
       "      <td>-0.250113</td>\n",
       "      <td>1.637829</td>\n",
       "      <td>-1.805774</td>\n",
       "      <td>-0.384110</td>\n",
       "      <td>0.292319</td>\n",
       "      <td>0</td>\n",
       "      <td>0</td>\n",
       "    </tr>\n",
       "    <tr>\n",
       "      <th>2</th>\n",
       "      <td>-1.228465</td>\n",
       "      <td>-1.121164</td>\n",
       "      <td>-0.625932</td>\n",
       "      <td>-0.558317</td>\n",
       "      <td>0.640996</td>\n",
       "      <td>-0.397308</td>\n",
       "      <td>1.140341</td>\n",
       "      <td>2.346335</td>\n",
       "      <td>-0.606778</td>\n",
       "      <td>-1.904319</td>\n",
       "      <td>-0.197504</td>\n",
       "      <td>2.247228</td>\n",
       "      <td>0.292319</td>\n",
       "      <td>0</td>\n",
       "      <td>0</td>\n",
       "    </tr>\n",
       "    <tr>\n",
       "      <th>3</th>\n",
       "      <td>-1.532560</td>\n",
       "      <td>-0.579847</td>\n",
       "      <td>-0.055234</td>\n",
       "      <td>0.418419</td>\n",
       "      <td>0.640996</td>\n",
       "      <td>-0.388801</td>\n",
       "      <td>1.156256</td>\n",
       "      <td>-0.538704</td>\n",
       "      <td>1.085869</td>\n",
       "      <td>-1.422624</td>\n",
       "      <td>-0.530532</td>\n",
       "      <td>-0.141447</td>\n",
       "      <td>-1.633903</td>\n",
       "      <td>0</td>\n",
       "      <td>1</td>\n",
       "    </tr>\n",
       "    <tr>\n",
       "      <th>4</th>\n",
       "      <td>-0.712078</td>\n",
       "      <td>-1.018957</td>\n",
       "      <td>-0.625932</td>\n",
       "      <td>0.280751</td>\n",
       "      <td>0.640996</td>\n",
       "      <td>-0.374054</td>\n",
       "      <td>1.129731</td>\n",
       "      <td>-0.538786</td>\n",
       "      <td>0.167003</td>\n",
       "      <td>-1.085130</td>\n",
       "      <td>-0.479878</td>\n",
       "      <td>-0.498083</td>\n",
       "      <td>0.292319</td>\n",
       "      <td>0</td>\n",
       "      <td>0</td>\n",
       "    </tr>\n",
       "  </tbody>\n",
       "</table>\n",
       "</div>"
      ],
      "text/plain": [
       "   danceability    energy       key  loudness      mode  speechiness  \\\n",
       "0     -1.509609 -0.950819  1.371512 -1.484222  0.640996    -0.381994   \n",
       "1      1.588714 -0.458713  0.515464 -0.133135  0.640996     1.764213   \n",
       "2     -1.228465 -1.121164 -0.625932 -0.558317  0.640996    -0.397308   \n",
       "3     -1.532560 -0.579847 -0.055234  0.418419  0.640996    -0.388801   \n",
       "4     -0.712078 -1.018957 -0.625932  0.280751  0.640996    -0.374054   \n",
       "\n",
       "   acousticness  instrumentalness  liveness   valence     tempo  duration_ms  \\\n",
       "0      1.196042          2.235733  2.802696 -1.827616 -1.154106     4.978012   \n",
       "1      0.532930         -0.538791 -0.250113  1.637829 -1.805774    -0.384110   \n",
       "2      1.140341          2.346335 -0.606778 -1.904319 -0.197504     2.247228   \n",
       "3      1.156256         -0.538704  1.085869 -1.422624 -0.530532    -0.141447   \n",
       "4      1.129731         -0.538786  0.167003 -1.085130 -0.479878    -0.498083   \n",
       "\n",
       "   time_signature  live  outlier  \n",
       "0        0.292319     0        1  \n",
       "1        0.292319     0        0  \n",
       "2        0.292319     0        0  \n",
       "3       -1.633903     0        1  \n",
       "4        0.292319     0        0  "
      ]
     },
     "execution_count": 1,
     "metadata": {},
     "output_type": "execute_result"
    }
   ],
   "source": [
    "import pandas as pd\n",
    "from mmcv import Config\n",
    "from utils import *\n",
    "\n",
    "config_path = '/Users/KC/My Drive/soundmouse/config/cfg_setting.py'\n",
    "cfg = Config.fromfile(config_path)\n",
    "filename = 'data.csv'\n",
    "path = cfg.filepath_save + filename\n",
    "data = pd.read_csv(path)\n",
    "data.head()"
   ]
  },
  {
   "cell_type": "code",
   "execution_count": 2,
   "metadata": {},
   "outputs": [
    {
     "name": "stdout",
     "output_type": "stream",
     "text": [
      "outlier             : 24747 \n",
      "data shape          : (99000, 15) \n",
      "data shape [train]  : (99000, 13) \n",
      "data shape [label]  : (99000,) \n"
     ]
    }
   ],
   "source": [
    "#basic info\n",
    "fprint('outlier', data['outlier'].sum())\n",
    "fprint('data shape',data.shape)\n",
    "fprint('data shape [train]', data.drop(columns=cfg.drop_cols).shape)\n",
    "fprint('data shape [label]', data[cfg.label_col].shape)"
   ]
  },
  {
   "cell_type": "code",
   "execution_count": 3,
   "metadata": {},
   "outputs": [
    {
     "data": {
      "image/png": "[encoded data removed]",
      "text/plain": [
       "<Figure size 720x576 with 1 Axes>"
      ]
     },
     "metadata": {},
     "output_type": "display_data"
    }
   ],
   "source": [
    "plot(df=data, x='liveness', plot_type='boxplot')"
   ]
  },
  {
   "cell_type": "code",
   "execution_count": 4,
   "metadata": {},
   "outputs": [
    {
     "data": {
      "image/png": "[encoded data removed]",
      "text/plain": [
       "<Figure size 720x576 with 1 Axes>"
      ]
     },
     "metadata": {},
     "output_type": "display_data"
    }
   ],
   "source": [
    "plot(df=data, x='liveness', plot_type='histplot')"
   ]
  },
  {
   "cell_type": "code",
   "execution_count": 5,
   "metadata": {},
   "outputs": [
    {
     "name": "stdout",
     "output_type": "stream",
     "text": [
      "[max/min/mean  ]----------------------------------------\n",
      "liveness max  : 4.8217818995868384 \n",
      "liveness min  : -1.2173400946427997 \n",
      "liveness mean : 4.721774037981196e-15 \n",
      "[quantile      ]----------------------------------------\n",
      "0.05   -0.854026\n",
      "0.25   -0.617660\n",
      "0.50   -0.395197\n",
      "0.75    0.336268\n",
      "0.95    2.216315\n",
      "Name: liveness, dtype: float64\n"
     ]
    }
   ],
   "source": [
    "df_print_info(data, 'liveness')"
   ]
  },
  {
   "cell_type": "markdown",
   "metadata": {},
   "source": [
    "data is transformed from dataframe to numpy(matrix)"
   ]
  },
  {
   "cell_type": "code",
   "execution_count": 7,
   "metadata": {},
   "outputs": [
    {
     "name": "stdout",
     "output_type": "stream",
     "text": [
      "(99000, 14)\n",
      "0  ...\n",
      "1  ...\n",
      "2  ...\n",
      "3  ...\n",
      "4  ...\n",
      "5  ...\n",
      "6  ...\n",
      "7  ...\n",
      "8  ...\n",
      "9  ...\n",
      "10  ...\n",
      "11  ...\n",
      "12  ...\n",
      "13  ...\n"
     ]
    },
    {
     "data": {
      "image/png": "[encoded data removed]",
      "text/plain": [
       "<Figure size 1440x576 with 14 Axes>"
      ]
     },
     "metadata": {},
     "output_type": "display_data"
    }
   ],
   "source": [
    "plot_data = data.drop(columns=['outlier'])\n",
    "print(plot_data.shape)\n",
    "multi_plot(plot_data, col_name='liveness', cols=7, rows=2)"
   ]
  },
  {
   "cell_type": "code",
   "execution_count": 8,
   "metadata": {},
   "outputs": [
    {
     "data": {
      "text/plain": [
       "danceability       -0.050251\n",
       "energy              0.119775\n",
       "key                -0.001366\n",
       "loudness            0.073484\n",
       "mode               -0.000725\n",
       "speechiness         0.117753\n",
       "acousticness       -0.048837\n",
       "instrumentalness   -0.061490\n",
       "liveness            0.784705\n",
       "valence             0.050513\n",
       "tempo               0.009524\n",
       "duration_ms         0.000636\n",
       "time_signature     -0.009322\n",
       "live                0.007537\n",
       "outlier             1.000000\n",
       "Name: outlier, dtype: float64"
      ]
     },
     "execution_count": 8,
     "metadata": {},
     "output_type": "execute_result"
    }
   ],
   "source": [
    "corr = data.corr()\n",
    "corr['outlier']"
   ]
  },
  {
   "cell_type": "markdown",
   "metadata": {},
   "source": [
    "# Imbalanced data"
   ]
  },
  {
   "cell_type": "markdown",
   "metadata": {},
   "source": [
    "## PCA before SMOTE"
   ]
  },
  {
   "cell_type": "code",
   "execution_count": 9,
   "metadata": {},
   "outputs": [
    {
     "data": {
      "image/png": "[encoded data removed]",
      "text/plain": [
       "<Figure size 720x720 with 1 Axes>"
      ]
     },
     "metadata": {},
     "output_type": "display_data"
    }
   ],
   "source": [
    "# PCA\n",
    "from sklearn.decomposition import PCA\n",
    "pca_y = data[cfg.label_col]\n",
    "pca_x = data.drop(columns=cfg.drop_cols)\n",
    "pca_y = pca_y.to_numpy().reshape(-1)\n",
    "pca_x = pca_x.to_numpy()\n",
    "\n",
    "\n",
    "pca = PCA(n_components=2)\n",
    "pca.fit(pca_x)\n",
    "pca_x = pca.transform(pca_x)\n",
    "fig = plt.figure(1, figsize=(10, 10))\n",
    "plt.scatter(pca_x[:,0],pca_x[:,1],c=pca_y)\n",
    "plt.title('PCA audio features (2 dimension)')\n",
    "plt.show()"
   ]
  },
  {
   "cell_type": "code",
   "execution_count": 27,
   "metadata": {},
   "outputs": [
    {
     "data": {
      "image/png": "[encoded data removed]",
      "text/plain": [
       "<Figure size 360x360 with 1 Axes>"
      ]
     },
     "metadata": {},
     "output_type": "display_data"
    },
    {
     "name": "stdout",
     "output_type": "stream",
     "text": [
      "before SMOTE        : Counter({0: 74253, 1: 24747}) \n"
     ]
    },
    {
     "data": {
      "image/png": "[encoded data removed]",
      "text/plain": [
       "<Figure size 360x360 with 1 Axes>"
      ]
     },
     "metadata": {},
     "output_type": "display_data"
    },
    {
     "name": "stdout",
     "output_type": "stream",
     "text": [
      "after SMOTE         : Counter({1: 74253, 0: 74253}) \n",
      "data columns        : Index(['danceability', 'energy', 'key', 'loudness', 'mode', 'speechiness',\n",
      "       'acousticness', 'instrumentalness', 'liveness', 'valence', 'tempo',\n",
      "       'duration_ms', 'time_signature'],\n",
      "      dtype='object') \n"
     ]
    }
   ],
   "source": [
    "from imblearn.over_sampling import SMOTE\n",
    "from collections import Counter\n",
    "import matplotlib.pyplot as plt\n",
    "matplotlib.rcParams['figure.figsize'] = [5, 5]\n",
    "y = data[cfg.label_col]\n",
    "counter = Counter(y)\n",
    "plt.bar(counter.keys(), counter.values())\n",
    "plt.show()\n",
    "fprint('before SMOTE', counter)\n",
    "\n",
    "oversampling=SMOTE(k_neighbors=1)\n",
    "\n",
    "x=data.drop(columns=cfg.drop_cols)\n",
    "x,y = oversampling.fit_resample(x, y)\n",
    "counter = Counter(y)\n",
    "plt.bar(counter.keys(), counter.values())\n",
    "plt.show()\n",
    "fprint('after SMOTE', counter)\n",
    "fprint('data columns', x.keys())"
   ]
  },
  {
   "cell_type": "markdown",
   "metadata": {},
   "source": [
    "### Transfromed dataframe to numpy"
   ]
  },
  {
   "cell_type": "code",
   "execution_count": 28,
   "metadata": {},
   "outputs": [
    {
     "name": "stdout",
     "output_type": "stream",
     "text": [
      "(148506, 13)\n",
      "(148506,)\n"
     ]
    }
   ],
   "source": [
    "keys = x.keys()\n",
    "x = x.to_numpy()\n",
    "y = y.to_numpy().reshape(-1)\n",
    "print(x.shape)\n",
    "print(y.shape)"
   ]
  },
  {
   "cell_type": "markdown",
   "metadata": {},
   "source": [
    "## PCA after SMOTE"
   ]
  },
  {
   "cell_type": "code",
   "execution_count": 29,
   "metadata": {},
   "outputs": [
    {
     "data": {
      "image/png": "[encoded data removed]",
      "text/plain": [
       "<Figure size 720x720 with 1 Axes>"
      ]
     },
     "metadata": {},
     "output_type": "display_data"
    }
   ],
   "source": [
    "pca_y = y\n",
    "pca_x = x\n",
    "# pca_y = pca_y.to_numpy().reshape(-1)\n",
    "# pca_x = pca_x.to_numpy()\n",
    "\n",
    "pca = PCA(n_components=2)\n",
    "pca.fit(pca_x)\n",
    "pca_x = pca.transform(pca_x)\n",
    "fig = plt.figure(1, figsize=(10, 10))\n",
    "plt.scatter(pca_x[:,0],pca_x[:,1],c=pca_y)\n",
    "plt.title('PCA audio features (2 dimension)')\n",
    "plt.show()"
   ]
  },
  {
   "cell_type": "markdown",
   "metadata": {},
   "source": [
    "# split"
   ]
  },
  {
   "cell_type": "code",
   "execution_count": 30,
   "metadata": {},
   "outputs": [
    {
     "name": "stdout",
     "output_type": "stream",
     "text": [
      "(118804, 13) (29702, 13) (118804,) (29702,)\n"
     ]
    }
   ],
   "source": [
    "from sklearn.model_selection import train_test_split\n",
    "\n",
    "x_tr, x_tt, y_tr, y_tt = train_test_split(x, y, test_size=0.2)\n",
    "print(x_tr.shape, x_tt.shape, y_tr.shape, y_tt.shape)"
   ]
  },
  {
   "cell_type": "markdown",
   "metadata": {},
   "source": [
    "# XGBCclassfier"
   ]
  },
  {
   "cell_type": "code",
   "execution_count": 31,
   "metadata": {},
   "outputs": [
    {
     "name": "stdout",
     "output_type": "stream",
     "text": [
      "XGBClassifier(base_score=0.5, booster='gbtree', colsample_bylevel=1,\n",
      "              colsample_bynode=1, colsample_bytree=1, gamma=0, gpu_id=-1,\n",
      "              importance_type='gain', interaction_constraints='',\n",
      "              learning_rate=0.300000012, max_delta_step=0, max_depth=6,\n",
      "              min_child_weight=1, missing=nan, monotone_constraints='()',\n",
      "              n_estimators=100, n_jobs=0, num_parallel_tree=1, random_state=0,\n",
      "              reg_alpha=0, reg_lambda=1, scale_pos_weight=1, subsample=1,\n",
      "              tree_method='exact', validate_parameters=1, verbosity=None)\n",
      "prob pred           : [9.9733597e-01 5.5136316e-04 9.9862778e-01 1.1706103e-03 9.9976510e-01\n",
      " 1.8109927e-03 9.9585849e-01 9.9990714e-01 9.9945194e-01 1.0618834e-03] \n",
      "predictions         : [1 0 1 0 1 0 1 1 1 0] \n"
     ]
    }
   ],
   "source": [
    "import xgboost as xgb\n",
    "import numpy as np\n",
    "model = xgb.XGBClassifier()\n",
    "model.fit(x_tr, y_tr)\n",
    "print(model)\n",
    "\n",
    "pred = model.predict_proba(x_tt)[:,1]\n",
    "fprint('prob pred', pred[:10])\n",
    "y_pred = np.where(pred>=0.5, 1, 0)\n",
    "fprint('predictions', y_pred[:10])"
   ]
  },
  {
   "cell_type": "code",
   "execution_count": 32,
   "metadata": {},
   "outputs": [
    {
     "name": "stdout",
     "output_type": "stream",
     "text": [
      "0 fold...\n",
      "1 fold...\n",
      "2 fold...\n",
      "3 fold...\n",
      "logloss: 0.0362, accuracy: 0.9923\n"
     ]
    }
   ],
   "source": [
    "import xgboost as xgb\n",
    "from sklearn.metrics import log_loss, accuracy_score\n",
    "from sklearn.model_selection import KFold\n",
    "#declare cross-validation\n",
    "kf = KFold(n_splits=4, shuffle=True, random_state=71)\n",
    "train_x = x_tr\n",
    "train_y = y_tr\n",
    "\n",
    "res_accuracy = []\n",
    "res_logloss = []\n",
    "for k, (tr_idx, va_idx) in enumerate(kf.split(train_x)):\n",
    "    print(f'{k} fold...')\n",
    "    tr_x, va_x = train_x[tr_idx], train_x[va_idx]\n",
    "    tr_y, va_y = train_y[tr_idx], train_y[va_idx]\n",
    "    \n",
    "    model = xgb.XGBClassifier()\n",
    "    model.fit(tr_x, tr_y)\n",
    "    \n",
    "    va_pred = model.predict_proba(va_x)[:, 1]\n",
    "    logloss = log_loss(va_y, va_pred)\n",
    "    accuracy = accuracy_score(va_y, va_pred > 0.5)\n",
    "    res_logloss.append(logloss)\n",
    "    res_accuracy.append(accuracy)\n",
    "    \n",
    "logloss = np.mean(res_logloss)\n",
    "accuracy = np.mean(res_accuracy)\n",
    "print(f'logloss: {logloss:.4f}, accuracy: {accuracy:.4f}')\n"
   ]
  },
  {
   "cell_type": "code",
   "execution_count": 33,
   "metadata": {},
   "outputs": [],
   "source": [
    "def print_keys(keys):\n",
    "    for i, key in enumerate(keys):\n",
    "        print(\"{} : {}\".format(i, key))"
   ]
  },
  {
   "cell_type": "code",
   "execution_count": 34,
   "metadata": {},
   "outputs": [
    {
     "name": "stdout",
     "output_type": "stream",
     "text": [
      "0 : danceability\n",
      "1 : energy\n",
      "2 : key\n",
      "3 : loudness\n",
      "4 : mode\n",
      "5 : speechiness\n",
      "6 : acousticness\n",
      "7 : instrumentalness\n",
      "8 : liveness\n",
      "9 : valence\n",
      "10 : tempo\n",
      "11 : duration_ms\n",
      "12 : time_signature\n"
     ]
    },
    {
     "data": {
      "text/plain": [
       "<AxesSubplot:title={'center':'Feature importance'}, xlabel='F score', ylabel='Features'>"
      ]
     },
     "execution_count": 34,
     "metadata": {},
     "output_type": "execute_result"
    },
    {
     "data": {
      "image/png": "[encoded data removed]",
      "text/plain": [
       "<Figure size 360x360 with 1 Axes>"
      ]
     },
     "metadata": {},
     "output_type": "display_data"
    }
   ],
   "source": [
    "print_keys(keys)\n",
    "xgb.plot_importance(model)\n",
    "# xgb.plot_importance(model._Booster)"
   ]
  },
  {
   "cell_type": "code",
   "execution_count": 35,
   "metadata": {},
   "outputs": [],
   "source": [
    "import graphviz\n",
    "dot = graphviz.Digraph('round-table', comment='The Round Table')  \n",
    "# dot"
   ]
  },
  {
   "cell_type": "code",
   "execution_count": 36,
   "metadata": {},
   "outputs": [
    {
     "name": "stdout",
     "output_type": "stream",
     "text": [
      "0 : danceability\n",
      "1 : energy\n",
      "2 : key\n",
      "3 : loudness\n",
      "4 : mode\n",
      "5 : speechiness\n",
      "6 : acousticness\n",
      "7 : instrumentalness\n",
      "8 : liveness\n",
      "9 : valence\n",
      "10 : tempo\n",
      "11 : duration_ms\n",
      "12 : time_signature\n"
     ]
    },
    {
     "data": {
      "image/svg+xml": "<?xml version=\"1.0\" encoding=\"UTF-8\" standalone=\"no\"?>\n<!DOCTYPE svg PUBLIC \"-//W3C//DTD SVG 1.1//EN\"\n \"http://www.w3.org/Graphics/SVG/1.1/DTD/svg11.dtd\">\n<!-- Generated by graphviz version 2.49.3 (20211023.0002)\n -->\n<!-- Pages: 1 -->\n<svg width=\"700pt\" height=\"566pt\"\n viewBox=\"0.00 0.00 700.19 566.00\" xmlns=\"http://www.w3.org/2000/svg\" xmlns:xlink=\"http://www.w3.org/1999/xlink\">\n<g id=\"graph0\" class=\"graph\" transform=\"scale(1 1) rotate(0) translate(4 562)\">\n<polygon fill=\"white\" stroke=\"transparent\" points=\"-4,4 -4,-562 696.19,-562 696.19,4 -4,4\"/>\n<!-- 0 -->\n<g id=\"node1\" class=\"node\">\n<title>0</title>\n<ellipse fill=\"none\" stroke=\"black\" cx=\"497.59\" cy=\"-540\" rx=\"66.89\" ry=\"18\"/>\n<text text-anchor=\"middle\" x=\"497.59\" y=\"-536.3\" font-family=\"Times,serif\" font-size=\"14.00\">f8&lt;0.33929044</text>\n</g>\n<!-- 1 -->\n<g id=\"node2\" class=\"node\">\n<title>1</title>\n<ellipse fill=\"none\" stroke=\"black\" cx=\"413.59\" cy=\"-453\" rx=\"74.19\" ry=\"18\"/>\n<text text-anchor=\"middle\" x=\"413.59\" y=\"-449.3\" font-family=\"Times,serif\" font-size=\"14.00\">f8&lt;&#45;0.634853005</text>\n</g>\n<!-- 0&#45;&gt;1 -->\n<g id=\"edge1\" class=\"edge\">\n<title>0&#45;&gt;1</title>\n<path fill=\"none\" stroke=\"#0000ff\" d=\"M481,-522.21C468.57,-509.63 451.39,-492.25 437.49,-478.18\"/>\n<polygon fill=\"#0000ff\" stroke=\"#0000ff\" points=\"439.67,-475.41 430.15,-470.76 434.69,-480.33 439.67,-475.41\"/>\n<text text-anchor=\"middle\" x=\"496.59\" y=\"-492.8\" font-family=\"Times,serif\" font-size=\"14.00\">yes, missing</text>\n</g>\n<!-- 2 -->\n<g id=\"node3\" class=\"node\">\n<title>2</title>\n<ellipse fill=\"none\" stroke=\"black\" cx=\"582.59\" cy=\"-453\" rx=\"77.19\" ry=\"18\"/>\n<text text-anchor=\"middle\" x=\"582.59\" y=\"-449.3\" font-family=\"Times,serif\" font-size=\"14.00\">leaf=0.594528794</text>\n</g>\n<!-- 0&#45;&gt;2 -->\n<g id=\"edge2\" class=\"edge\">\n<title>0&#45;&gt;2</title>\n<path fill=\"none\" stroke=\"#ff0000\" d=\"M516.01,-522.53C522.31,-516.76 529.35,-510.18 535.59,-504 543.81,-495.87 552.54,-486.72 560.23,-478.5\"/>\n<polygon fill=\"#ff0000\" stroke=\"#ff0000\" points=\"562.99,-480.67 567.22,-470.95 557.86,-475.91 562.99,-480.67\"/>\n<text text-anchor=\"middle\" x=\"558.09\" y=\"-492.8\" font-family=\"Times,serif\" font-size=\"14.00\">no</text>\n</g>\n<!-- 3 -->\n<g id=\"node4\" class=\"node\">\n<title>3</title>\n<ellipse fill=\"none\" stroke=\"black\" cx=\"329.59\" cy=\"-366\" rx=\"69.59\" ry=\"18\"/>\n<text text-anchor=\"middle\" x=\"329.59\" y=\"-362.3\" font-family=\"Times,serif\" font-size=\"14.00\">f6&lt;&#45;1.38301444</text>\n</g>\n<!-- 1&#45;&gt;3 -->\n<g id=\"edge3\" class=\"edge\">\n<title>1&#45;&gt;3</title>\n<path fill=\"none\" stroke=\"#0000ff\" d=\"M397,-435.21C384.57,-422.63 367.39,-405.25 353.49,-391.18\"/>\n<polygon fill=\"#0000ff\" stroke=\"#0000ff\" points=\"355.67,-388.41 346.15,-383.76 350.69,-393.33 355.67,-388.41\"/>\n<text text-anchor=\"middle\" x=\"412.59\" y=\"-405.8\" font-family=\"Times,serif\" font-size=\"14.00\">yes, missing</text>\n</g>\n<!-- 4 -->\n<g id=\"node5\" class=\"node\">\n<title>4</title>\n<ellipse fill=\"none\" stroke=\"black\" cx=\"497.59\" cy=\"-366\" rx=\"80.69\" ry=\"18\"/>\n<text text-anchor=\"middle\" x=\"497.59\" y=\"-362.3\" font-family=\"Times,serif\" font-size=\"14.00\">leaf=&#45;0.593348622</text>\n</g>\n<!-- 1&#45;&gt;4 -->\n<g id=\"edge4\" class=\"edge\">\n<title>1&#45;&gt;4</title>\n<path fill=\"none\" stroke=\"#ff0000\" d=\"M432.05,-435.56C438.35,-429.8 445.38,-423.22 451.59,-417 459.68,-408.91 468.24,-399.77 475.76,-391.54\"/>\n<polygon fill=\"#ff0000\" stroke=\"#ff0000\" points=\"478.48,-393.75 482.6,-383.99 473.29,-389.05 478.48,-393.75\"/>\n<text text-anchor=\"middle\" x=\"474.09\" y=\"-405.8\" font-family=\"Times,serif\" font-size=\"14.00\">no</text>\n</g>\n<!-- 5 -->\n<g id=\"node6\" class=\"node\">\n<title>5</title>\n<ellipse fill=\"none\" stroke=\"black\" cx=\"283.59\" cy=\"-279\" rx=\"76.09\" ry=\"18\"/>\n<text text-anchor=\"middle\" x=\"283.59\" y=\"-275.3\" font-family=\"Times,serif\" font-size=\"14.00\">leaf=&#45;0.59067142</text>\n</g>\n<!-- 3&#45;&gt;5 -->\n<g id=\"edge5\" class=\"edge\">\n<title>3&#45;&gt;5</title>\n<path fill=\"none\" stroke=\"#0000ff\" d=\"M320.28,-347.8C313.76,-335.74 304.92,-319.4 297.55,-305.79\"/>\n<polygon fill=\"#0000ff\" stroke=\"#0000ff\" points=\"300.57,-304.01 292.73,-296.89 294.41,-307.35 300.57,-304.01\"/>\n<text text-anchor=\"middle\" x=\"344.59\" y=\"-318.8\" font-family=\"Times,serif\" font-size=\"14.00\">yes, missing</text>\n</g>\n<!-- 6 -->\n<g id=\"node7\" class=\"node\">\n<title>6</title>\n<ellipse fill=\"none\" stroke=\"black\" cx=\"449.59\" cy=\"-279\" rx=\"71.49\" ry=\"18\"/>\n<text text-anchor=\"middle\" x=\"449.59\" y=\"-275.3\" font-family=\"Times,serif\" font-size=\"14.00\">f6&lt;0.969343066</text>\n</g>\n<!-- 3&#45;&gt;6 -->\n<g id=\"edge6\" class=\"edge\">\n<title>3&#45;&gt;6</title>\n<path fill=\"none\" stroke=\"#ff0000\" d=\"M354.85,-349.17C364,-343.29 374.36,-336.48 383.59,-330 396,-321.3 409.38,-311.28 420.83,-302.52\"/>\n<polygon fill=\"#ff0000\" stroke=\"#ff0000\" points=\"423,-305.26 428.78,-296.39 418.72,-299.72 423,-305.26\"/>\n<text text-anchor=\"middle\" x=\"412.09\" y=\"-318.8\" font-family=\"Times,serif\" font-size=\"14.00\">no</text>\n</g>\n<!-- 7 -->\n<g id=\"node8\" class=\"node\">\n<title>7</title>\n<ellipse fill=\"none\" stroke=\"black\" cx=\"346.59\" cy=\"-192\" rx=\"74.19\" ry=\"18\"/>\n<text text-anchor=\"middle\" x=\"346.59\" y=\"-188.3\" font-family=\"Times,serif\" font-size=\"14.00\">f7&lt;&#45;0.538791001</text>\n</g>\n<!-- 6&#45;&gt;7 -->\n<g id=\"edge7\" class=\"edge\">\n<title>6&#45;&gt;7</title>\n<path fill=\"none\" stroke=\"#0000ff\" d=\"M427.9,-261.48C420.45,-255.72 412.1,-249.15 404.59,-243 394.04,-234.36 382.63,-224.61 372.75,-216.04\"/>\n<polygon fill=\"#0000ff\" stroke=\"#0000ff\" points=\"375.03,-213.39 365.2,-209.46 370.44,-218.66 375.03,-213.39\"/>\n<text text-anchor=\"middle\" x=\"439.59\" y=\"-231.8\" font-family=\"Times,serif\" font-size=\"14.00\">yes, missing</text>\n</g>\n<!-- 8 -->\n<g id=\"node9\" class=\"node\">\n<title>8</title>\n<ellipse fill=\"none\" stroke=\"black\" cx=\"514.59\" cy=\"-192\" rx=\"76.09\" ry=\"18\"/>\n<text text-anchor=\"middle\" x=\"514.59\" y=\"-188.3\" font-family=\"Times,serif\" font-size=\"14.00\">leaf=&#45;0.57724458</text>\n</g>\n<!-- 6&#45;&gt;8 -->\n<g id=\"edge8\" class=\"edge\">\n<title>6&#45;&gt;8</title>\n<path fill=\"none\" stroke=\"#ff0000\" d=\"M462.43,-261.21C471.87,-248.87 484.85,-231.89 495.5,-217.97\"/>\n<polygon fill=\"#ff0000\" stroke=\"#ff0000\" points=\"498.48,-219.83 501.78,-209.76 492.92,-215.58 498.48,-219.83\"/>\n<text text-anchor=\"middle\" x=\"494.09\" y=\"-231.8\" font-family=\"Times,serif\" font-size=\"14.00\">no</text>\n</g>\n<!-- 9 -->\n<g id=\"node10\" class=\"node\">\n<title>9</title>\n<ellipse fill=\"none\" stroke=\"black\" cx=\"259.59\" cy=\"-105\" rx=\"66.89\" ry=\"18\"/>\n<text text-anchor=\"middle\" x=\"259.59\" y=\"-101.3\" font-family=\"Times,serif\" font-size=\"14.00\">f5&lt;4.83832645</text>\n</g>\n<!-- 7&#45;&gt;9 -->\n<g id=\"edge9\" class=\"edge\">\n<title>7&#45;&gt;9</title>\n<path fill=\"none\" stroke=\"#0000ff\" d=\"M329.4,-174.21C316.33,-161.43 298.18,-143.7 283.66,-129.52\"/>\n<polygon fill=\"#0000ff\" stroke=\"#0000ff\" points=\"286.05,-126.95 276.45,-122.47 281.16,-131.96 286.05,-126.95\"/>\n<text text-anchor=\"middle\" x=\"343.59\" y=\"-144.8\" font-family=\"Times,serif\" font-size=\"14.00\">yes, missing</text>\n</g>\n<!-- 10 -->\n<g id=\"node11\" class=\"node\">\n<title>10</title>\n<ellipse fill=\"none\" stroke=\"black\" cx=\"435.59\" cy=\"-105\" rx=\"74.19\" ry=\"18\"/>\n<text text-anchor=\"middle\" x=\"435.59\" y=\"-101.3\" font-family=\"Times,serif\" font-size=\"14.00\">f7&lt;&#45;0.538787961</text>\n</g>\n<!-- 7&#45;&gt;10 -->\n<g id=\"edge10\" class=\"edge\">\n<title>7&#45;&gt;10</title>\n<path fill=\"none\" stroke=\"#ff0000\" d=\"M364.18,-174.21C377.46,-161.52 395.88,-143.93 410.68,-129.79\"/>\n<polygon fill=\"#ff0000\" stroke=\"#ff0000\" points=\"413.23,-132.2 418.05,-122.76 408.4,-127.13 413.23,-132.2\"/>\n<text text-anchor=\"middle\" x=\"404.09\" y=\"-144.8\" font-family=\"Times,serif\" font-size=\"14.00\">no</text>\n</g>\n<!-- 11 -->\n<g id=\"node12\" class=\"node\">\n<title>11</title>\n<ellipse fill=\"none\" stroke=\"black\" cx=\"80.59\" cy=\"-18\" rx=\"80.69\" ry=\"18\"/>\n<text text-anchor=\"middle\" x=\"80.59\" y=\"-14.3\" font-family=\"Times,serif\" font-size=\"14.00\">leaf=&#45;0.566863179</text>\n</g>\n<!-- 9&#45;&gt;11 -->\n<g id=\"edge11\" class=\"edge\">\n<title>9&#45;&gt;11</title>\n<path fill=\"none\" stroke=\"#0000ff\" d=\"M227.9,-89.03C214.8,-82.84 199.46,-75.58 185.59,-69 164.74,-59.11 141.58,-48.08 122.33,-38.9\"/>\n<polygon fill=\"#0000ff\" stroke=\"#0000ff\" points=\"123.75,-35.71 113.22,-34.56 120.74,-42.02 123.75,-35.71\"/>\n<text text-anchor=\"middle\" x=\"220.59\" y=\"-57.8\" font-family=\"Times,serif\" font-size=\"14.00\">yes, missing</text>\n</g>\n<!-- 12 -->\n<g id=\"node13\" class=\"node\">\n<title>12</title>\n<ellipse fill=\"none\" stroke=\"black\" cx=\"259.59\" cy=\"-18\" rx=\"80.69\" ry=\"18\"/>\n<text text-anchor=\"middle\" x=\"259.59\" y=\"-14.3\" font-family=\"Times,serif\" font-size=\"14.00\">leaf=&#45;0.100000009</text>\n</g>\n<!-- 9&#45;&gt;12 -->\n<g id=\"edge12\" class=\"edge\">\n<title>9&#45;&gt;12</title>\n<path fill=\"none\" stroke=\"#ff0000\" d=\"M259.59,-86.8C259.59,-75.16 259.59,-59.55 259.59,-46.24\"/>\n<polygon fill=\"#ff0000\" stroke=\"#ff0000\" points=\"263.09,-46.18 259.59,-36.18 256.09,-46.18 263.09,-46.18\"/>\n<text text-anchor=\"middle\" x=\"267.09\" y=\"-57.8\" font-family=\"Times,serif\" font-size=\"14.00\">no</text>\n</g>\n<!-- 13 -->\n<g id=\"node14\" class=\"node\">\n<title>13</title>\n<ellipse fill=\"none\" stroke=\"black\" cx=\"435.59\" cy=\"-18\" rx=\"77.19\" ry=\"18\"/>\n<text text-anchor=\"middle\" x=\"435.59\" y=\"-14.3\" font-family=\"Times,serif\" font-size=\"14.00\">leaf=0.440000027</text>\n</g>\n<!-- 10&#45;&gt;13 -->\n<g id=\"edge13\" class=\"edge\">\n<title>10&#45;&gt;13</title>\n<path fill=\"none\" stroke=\"#0000ff\" d=\"M435.59,-86.8C435.59,-75.16 435.59,-59.55 435.59,-46.24\"/>\n<polygon fill=\"#0000ff\" stroke=\"#0000ff\" points=\"439.09,-46.18 435.59,-36.18 432.09,-46.18 439.09,-46.18\"/>\n<text text-anchor=\"middle\" x=\"470.59\" y=\"-57.8\" font-family=\"Times,serif\" font-size=\"14.00\">yes, missing</text>\n</g>\n<!-- 14 -->\n<g id=\"node15\" class=\"node\">\n<title>14</title>\n<ellipse fill=\"none\" stroke=\"black\" cx=\"611.59\" cy=\"-18\" rx=\"80.69\" ry=\"18\"/>\n<text text-anchor=\"middle\" x=\"611.59\" y=\"-14.3\" font-family=\"Times,serif\" font-size=\"14.00\">leaf=&#45;0.520236373</text>\n</g>\n<!-- 10&#45;&gt;14 -->\n<g id=\"edge14\" class=\"edge\">\n<title>10&#45;&gt;14</title>\n<path fill=\"none\" stroke=\"#ff0000\" d=\"M468.06,-88.76C481,-82.66 496.02,-75.54 509.59,-69 529.81,-59.26 552.2,-48.31 570.85,-39.14\"/>\n<polygon fill=\"#ff0000\" stroke=\"#ff0000\" points=\"572.52,-42.21 579.95,-34.65 569.43,-35.93 572.52,-42.21\"/>\n<text text-anchor=\"middle\" x=\"548.09\" y=\"-57.8\" font-family=\"Times,serif\" font-size=\"14.00\">no</text>\n</g>\n</g>\n</svg>\n",
      "text/plain": [
       "<graphviz.sources.Source at 0x7f9a833766d0>"
      ]
     },
     "execution_count": 36,
     "metadata": {},
     "output_type": "execute_result"
    }
   ],
   "source": [
    "print_keys(keys)\n",
    "xgb.to_graphviz(model)"
   ]
  },
  {
   "cell_type": "code",
   "execution_count": 40,
   "metadata": {},
   "outputs": [
    {
     "name": "stdout",
     "output_type": "stream",
     "text": [
      "4.743194726488755\n"
     ]
    }
   ],
   "source": [
    "live_data = data[data['live']==1]\n",
    "print(live_data['liveness'].max())"
   ]
  },
  {
   "cell_type": "code",
   "execution_count": 37,
   "metadata": {},
   "outputs": [
    {
     "name": "stdout",
     "output_type": "stream",
     "text": [
      "[max/min/mean  ]----------------------------------------\n",
      "liveness max  : 4.8217818995868384 \n",
      "liveness min  : -1.2173400946427997 \n",
      "liveness mean : 4.721774037981196e-15 \n",
      "[quantile      ]----------------------------------------\n",
      "0.05   -0.854026\n",
      "0.25   -0.617660\n",
      "0.50   -0.395197\n",
      "0.75    0.336268\n",
      "0.95    2.216315\n",
      "Name: liveness, dtype: float64\n"
     ]
    }
   ],
   "source": [
    "df_print_info(data, 'liveness')"
   ]
  },
  {
   "cell_type": "code",
   "execution_count": 38,
   "metadata": {},
   "outputs": [
    {
     "name": "stdout",
     "output_type": "stream",
     "text": [
      "accuracy(%)         : 0.9919534038111911 \n"
     ]
    }
   ],
   "source": [
    "y_true = y_tt\n",
    "acc = accuracy_score(y_true, y_pred)\n",
    "fprint('accuracy(%)',acc)"
   ]
  },
  {
   "cell_type": "code",
   "execution_count": 39,
   "metadata": {},
   "outputs": [
    {
     "name": "stdout",
     "output_type": "stream",
     "text": [
      "[[14782    76]\n",
      " [  163 14681]]\n"
     ]
    },
    {
     "data": {
      "image/png": "[encoded data removed]",
      "text/plain": [
       "<Figure size 864x504 with 2 Axes>"
      ]
     },
     "metadata": {},
     "output_type": "display_data"
    }
   ],
   "source": [
    "from sklearn.metrics import confusion_matrix\n",
    "import seaborn as sn\n",
    "\n",
    "classes = [0,1]\n",
    "# Build confusion matrix\n",
    "cf_matrix = confusion_matrix(y_true, y_pred)\n",
    "print(cf_matrix)\n",
    "df_cm = pd.DataFrame(cf_matrix/np.sum(cf_matrix), index = [i for i in classes],\n",
    "                     columns = [i for i in classes])\n",
    "plt.figure(figsize = (12,7))\n",
    "sn.heatmap(df_cm, cmap = \"Reds\", annot=True, annot_kws={\"size\": 30})\n",
    "plt.savefig('output.png')"
   ]
  },
  {
   "cell_type": "markdown",
   "metadata": {},
   "source": [
    "# deep learning"
   ]
  },
  {
   "cell_type": "code",
   "execution_count": 415,
   "metadata": {},
   "outputs": [],
   "source": [
    "from torch import nn, optim\n",
    "from torch.utils.data import Dataset, DataLoader\n",
    "import torch.nn.functional as F\n",
    "from torch.nn.init import *\n",
    "import numpy as np"
   ]
  },
  {
   "cell_type": "code",
   "execution_count": 416,
   "metadata": {},
   "outputs": [
    {
     "name": "stdout",
     "output_type": "stream",
     "text": [
      "118804\n",
      "29702\n",
      "x:  <class 'torch.Tensor'> tensor([[-0.0809,  0.6921, -1.4820,  0.3955,  0.6410, -0.0700,  0.6762, -0.5388,\n",
      "         -0.9507,  0.8440,  1.1393, -0.7018,  0.2923],\n",
      "        [-1.3719, -1.6962,  1.3715, -1.4247, -1.5601, -0.3525,  1.1059, -0.2405,\n",
      "         -0.7386, -1.4533,  1.7916,  0.2560, -1.6339],\n",
      "        [ 0.3704, -0.2821, -1.4820,  0.1957,  0.6410, -0.3417, -0.2787, -0.5388,\n",
      "          1.2189,  0.1140,  0.0190, -0.1074,  0.2923],\n",
      "        [ 0.6420,  0.7943, -1.4820,  1.0072, -1.5601,  1.1743, -0.1594, -0.5388,\n",
      "         -0.7452, -0.7400,  2.1307,  0.1840,  0.2923],\n",
      "        [ 0.0432, -1.2235,  0.6105, -0.7305, -1.5601, -0.1965,  1.2243,  2.2683,\n",
      "         -0.4618, -0.5150, -1.1462, -0.3662,  0.2923],\n",
      "        [-0.5801,  0.6050, -1.1966,  1.4119,  0.6410, -0.1954,  0.6762, -0.5388,\n",
      "         -0.5524,  0.1498,  2.2933, -0.2430, -1.6339],\n",
      "        [ 1.0838,  0.2832,  1.6569,  0.6833,  0.6410, -0.4087,  0.7425, -0.5388,\n",
      "         -0.3771,  1.3655,  0.3720, -0.8901,  0.2923],\n",
      "        [-0.9557,  0.2006, -0.4815,  0.3879, -1.5601, -0.3243, -0.8557, -0.5129,\n",
      "          0.8891, -0.3355, -0.6324,  0.0768,  0.2923],\n",
      "        [-1.1309,  1.3318,  0.5155,  0.3457,  0.6410, -0.3718, -0.8463,  1.9798,\n",
      "         -0.3771,  1.5841,  2.4685, -0.9646,  0.2923],\n",
      "        [-0.8780, -0.2239,  0.0491,  0.2477,  0.6410,  0.1016,  1.2226,  2.1552,\n",
      "          1.7838,  0.3710, -1.6136, -0.2994,  0.2923],\n",
      "        [ 1.1928,  1.0214,  1.0862,  1.4455,  0.6410, -0.4132, -0.1461, -0.5387,\n",
      "         -0.8298,  1.3502, -0.3642, -0.3646,  0.2923],\n",
      "        [ 0.8084, -0.3300, -1.4820, -0.2417,  0.6410, -0.4177,  0.1271, -0.5388,\n",
      "         -0.7579,  1.3502,  0.7833, -0.7547,  0.2923],\n",
      "        [-0.5055,  0.7943,  0.2301,  0.5455, -1.5601, -0.4240, -1.3942, -0.5388,\n",
      "         -0.1353,  0.7634, -0.0638,  0.1342,  0.2923],\n",
      "        [-0.0207, -1.2456, -1.4820, -0.8022,  0.6410, -0.4112,  0.7440, -0.5387,\n",
      "          1.0432, -0.5091, -0.9295, -0.4711, -1.6339],\n",
      "        [-0.2129,  0.5861, -0.0552,  1.0835,  0.6410, -0.4035, -0.9233, -0.5388,\n",
      "         -0.0748, -1.1465,  1.8385,  0.3738,  0.2923],\n",
      "        [ 0.6650,  1.3123,  0.2315,  1.1000, -1.5601,  1.1226, -0.7819, -0.5388,\n",
      "          1.1352,  0.4300, -1.0379,  0.5031,  0.2923]])\n",
      "y:  <class 'torch.Tensor'> tensor([[0.],\n",
      "        [0.],\n",
      "        [1.],\n",
      "        [0.],\n",
      "        [1.],\n",
      "        [0.],\n",
      "        [0.],\n",
      "        [1.],\n",
      "        [0.],\n",
      "        [1.],\n",
      "        [0.],\n",
      "        [0.],\n",
      "        [0.],\n",
      "        [1.],\n",
      "        [0.],\n",
      "        [1.]])\n",
      "x:  <class 'torch.Tensor'> tensor([[-1.2684e-01,  2.1509e-01, -5.5234e-02, -6.9334e-01,  6.4100e-01,\n",
      "          4.6965e+00,  1.1006e+00, -5.3879e-01,  4.3744e+00, -1.5122e-02,\n",
      "          7.2886e-01, -3.6225e-01,  2.9232e-01],\n",
      "        [ 3.1496e-01, -8.7740e-02,  1.0862e+00,  8.0495e-01,  6.4100e-01,\n",
      "         -4.4325e-01, -1.2755e+00, -5.3838e-01, -6.8758e-02, -1.5684e+00,\n",
      "          3.7385e-01,  7.7341e-01, -1.6339e+00],\n",
      "        [ 3.3791e-01, -1.1855e+00, -5.5234e-02, -6.3419e-02, -1.5601e+00,\n",
      "         -3.1053e-01,  8.7775e-01, -5.3879e-01, -7.6395e-01,  2.5717e-01,\n",
      "          8.0578e-01, -5.9657e-01,  2.9232e-01],\n",
      "        [ 2.0021e-01,  1.3810e+00,  5.1546e-01,  7.3188e-01,  6.4100e-01,\n",
      "         -3.8256e-01, -1.3997e+00, -5.3675e-01,  3.5440e-01, -1.3689e+00,\n",
      "         -5.0052e-01, -9.5990e-02,  2.9232e-01],\n",
      "        [ 6.4326e-01, -6.4662e-01,  1.4339e+00, -6.7663e-01,  6.4100e-01,\n",
      "          4.7577e+00, -1.0081e+00, -5.3879e-01,  8.8542e-01, -6.1330e-02,\n",
      "         -1.0435e+00, -9.8291e-01, -5.4863e+00],\n",
      "        [ 1.2706e+00,  1.5647e-01,  1.0862e+00,  5.4580e-01,  6.4100e-01,\n",
      "         -3.1116e-01, -7.3187e-01, -5.3574e-01,  6.4115e-01,  4.1601e-01,\n",
      "          1.5464e-01,  5.3025e-01,  2.9232e-01],\n",
      "        [ 6.6495e-01,  5.3307e-01,  1.3715e+00,  4.0042e-01,  6.4100e-01,\n",
      "          1.9880e-01,  8.7775e-01, -5.3155e-01, -8.0385e-01,  9.5134e-01,\n",
      "         -4.2955e-01, -2.6366e-01,  2.9232e-01],\n",
      "        [ 1.0267e-01,  2.5295e-01, -3.4058e-01,  2.7916e-01,  6.4100e-01,\n",
      "         -4.1773e-01,  9.0693e-01, -5.3879e-01,  9.6497e-01, -1.4552e-01,\n",
      "         -2.1547e-01, -7.2581e-01,  2.9232e-01],\n",
      "        [-2.6181e-01, -1.4123e+00, -6.2593e-01, -7.0376e-01,  6.4100e-01,\n",
      "         -2.3952e-01,  1.1649e+00, -3.5163e-01,  1.2501e+00,  3.5459e-01,\n",
      "          1.5058e+00,  4.7133e-02, -1.6339e+00],\n",
      "        [-5.7261e-01, -4.8885e-01, -1.4820e+00, -8.4816e-01, -1.5601e+00,\n",
      "         -4.2418e-01,  7.3679e-01, -5.3864e-01,  4.3086e-01, -3.8055e-01,\n",
      "         -2.6503e-01, -5.5155e-01,  2.9232e-01],\n",
      "        [-1.3525e+00,  1.7035e+00, -2.7850e-01,  8.6715e-01, -1.5601e+00,\n",
      "         -4.4117e-02, -1.4075e+00, -5.3143e-01,  8.7186e-01, -1.1396e+00,\n",
      "          4.1523e-01,  9.2566e-01, -1.6339e+00],\n",
      "        [ 6.8913e-01,  4.6629e-01, -9.1128e-01,  2.5646e-01,  6.4100e-01,\n",
      "         -1.9264e-01, -7.8756e-01, -5.3858e-01,  4.1594e+00,  5.7211e-01,\n",
      "         -9.1790e-01,  7.8428e-02,  2.9232e-01],\n",
      "        [-6.3376e-01,  1.8201e+00,  1.6569e+00,  1.3471e+00, -1.5601e+00,\n",
      "         -2.1074e-01, -1.4022e+00, -5.0835e-01,  6.5630e-01, -9.5551e-01,\n",
      "          1.0918e+00, -1.2411e-01,  2.9232e-01],\n",
      "        [-1.3662e+00, -3.4052e-01,  1.6538e+00, -8.6908e-02,  6.4100e-01,\n",
      "          4.5503e-03,  1.1857e+00,  2.1037e+00,  2.4925e+00, -8.4363e-02,\n",
      "         -1.3510e+00,  1.4244e-01,  2.9232e-01],\n",
      "        [-2.0877e+00,  1.9551e+00,  9.3068e-01,  1.2046e+00,  6.4100e-01,\n",
      "          7.8700e-01, -1.3690e+00, -4.3009e-01,  6.5848e-01, -1.4751e+00,\n",
      "          1.2629e+00, -3.3346e-01,  2.9232e-01],\n",
      "        [ 7.3453e-01,  1.1606e+00, -3.2254e-01,  1.4775e-01, -1.5601e+00,\n",
      "         -3.7439e-01,  3.5720e-01, -5.3311e-01,  6.4871e-01,  1.0872e+00,\n",
      "          1.2886e-01, -2.7238e-02,  2.9232e-01]])\n",
      "y:  <class 'torch.Tensor'> tensor([[1.],\n",
      "        [0.],\n",
      "        [0.],\n",
      "        [1.],\n",
      "        [1.],\n",
      "        [1.],\n",
      "        [0.],\n",
      "        [1.],\n",
      "        [1.],\n",
      "        [1.],\n",
      "        [1.],\n",
      "        [1.],\n",
      "        [1.],\n",
      "        [1.],\n",
      "        [1.],\n",
      "        [1.]])\n",
      "x:  <class 'torch.Tensor'> tensor([[-1.4235, -1.3180,  0.5155, -1.0202,  0.6410, -0.3417,  1.1960,  2.0398,\n",
      "         -0.3468, -1.6566,  0.8551,  1.2427, -1.6339],\n",
      "        [ 0.0682,  0.0675,  1.0862,  0.1344,  0.6410, -0.4098, -0.6156, -0.5388,\n",
      "         -0.2199,  0.3454, -0.8169, -0.5635,  0.2923],\n",
      "        [ 1.0119,  0.2856,  1.5063,  0.3046,  0.6410, -0.3784, -0.7547, -0.5383,\n",
      "          0.5667,  1.5493,  0.1216, -0.6282,  0.2923],\n",
      "        [-0.7752, -0.1445, -1.4820,  0.1948,  0.6410, -0.4092, -1.1840, -0.5388,\n",
      "          0.1972, -0.5060, -0.1008,  1.0048, -1.6339],\n",
      "        [-1.2055, -1.0303,  0.2301, -1.2837, -1.5601, -0.3457,  1.2252,  0.3808,\n",
      "         -0.6007, -0.8819, -1.6424, -0.1659, -1.6339],\n",
      "        [-1.1252,  1.1577, -0.6259,  0.8941, -1.5601,  0.0910,  0.3738, -0.1817,\n",
      "          0.8562,  0.4528,  1.6816,  0.9130,  0.2923],\n",
      "        [ 0.5728,  1.4626,  1.5584,  1.3906, -1.5601, -0.2180, -1.1563, -0.5388,\n",
      "          1.4470,  0.9013,  1.0086, -0.1775,  0.2923],\n",
      "        [-0.3423,  0.6312, -1.1966,  0.9262,  0.6410,  1.5770, -1.2839, -0.5388,\n",
      "          0.8910,  0.6178,  1.5625, -0.1979,  0.2923],\n",
      "        [-0.0867,  1.0214,  0.5155,  0.9313,  0.6410,  0.2101, -1.1063, -0.5370,\n",
      "         -0.5282,  0.4950, -0.4434, -0.3206,  0.2923],\n",
      "        [-0.3219,  0.2302, -0.0552,  0.0386, -1.5601, -0.3984,  0.8459,  1.1708,\n",
      "          0.6567,  0.4643,  0.6768, -0.5984,  0.2923],\n",
      "        [ 0.2805,  0.1810,  1.0862, -0.3681,  0.6410, -0.4217, -0.1514,  1.2909,\n",
      "          3.2803,  0.3991, -0.6127,  2.1532,  0.2923],\n",
      "        [-0.0924, -1.1514,  1.0862, -0.6630,  0.6410, -0.4279,  0.8061, -0.2762,\n",
      "         -0.4496, -1.5607, -1.2515, -0.1409, -1.6339],\n",
      "        [-0.3219, -1.4293, -1.1966, -0.7276, -1.5601, -0.1568,  1.1960, -0.5386,\n",
      "          0.2758, -0.5482,  0.2830, -0.0527,  2.2185],\n",
      "        [-2.6732, -1.5497, -0.6259, -3.8316,  0.6410, -0.3826,  1.1987,  2.3242,\n",
      "         -0.5826, -1.5453, -1.1634,  0.0788, -1.6339],\n",
      "        [-0.1727,  0.1848,  0.5155,  1.2840, -1.5601,  1.2481,  0.0157, -0.5388,\n",
      "         -0.5221,  0.4413, -0.8982, -0.0750,  0.2923],\n",
      "        [-0.1555, -0.1862, -1.4820, -0.1215, -1.5601, -0.4535, -1.3829, -0.5282,\n",
      "         -0.7367, -1.6259, -1.3035,  1.1953,  0.2923]])\n",
      "y:  <class 'torch.Tensor'> tensor([[0.],\n",
      "        [0.],\n",
      "        [1.],\n",
      "        [0.],\n",
      "        [0.],\n",
      "        [1.],\n",
      "        [1.],\n",
      "        [1.],\n",
      "        [0.],\n",
      "        [1.],\n",
      "        [1.],\n",
      "        [0.],\n",
      "        [0.],\n",
      "        [0.],\n",
      "        [0.],\n",
      "        [0.]])\n"
     ]
    }
   ],
   "source": [
    "#build dataset\n",
    "class custom_dataset(Dataset):\n",
    "    def __init__(self, x, y):\n",
    "        self.x = x\n",
    "        self.y = y\n",
    "        \n",
    "    def __len__(self):\n",
    "        return self.x.shape[0]\n",
    "    \n",
    "    def __getitem__(self, idx):\n",
    "        data = torch.Tensor(self.x[idx])\n",
    "        label = torch.Tensor(self.y[idx].reshape(-1))\n",
    "        \n",
    "        return data, label\n",
    "        \n",
    "    \n",
    "train_dataset = custom_dataset(x_tr, y_tr)\n",
    "test_dataset = custom_dataset(x_tt, y_tt)\n",
    "train_dataloader = DataLoader(train_dataset, batch_size=16)\n",
    "test_dataloader = DataLoader(test_dataset, batch_size=16)\n",
    "\n",
    "print(len(train_dataset))\n",
    "print(len(test_dataset))\n",
    "\n",
    "for i, (data, label) in enumerate(train_dataloader):\n",
    "    x = data\n",
    "    y = label\n",
    "    print('x: ',type(x), x)\n",
    "    print('y: ',type(y), y)\n",
    "    \n",
    "    if i > 1:\n",
    "        break\n",
    "    \n"
   ]
  },
  {
   "cell_type": "code",
   "execution_count": 417,
   "metadata": {},
   "outputs": [
    {
     "name": "stdout",
     "output_type": "stream",
     "text": [
      "tensor([[[0.4431],\n",
      "         [0.4432],\n",
      "         [0.4433],\n",
      "         [0.4436],\n",
      "         [0.4432],\n",
      "         [0.4434],\n",
      "         [0.4435],\n",
      "         [0.4438],\n",
      "         [0.4433],\n",
      "         [0.4436],\n",
      "         [0.4440],\n",
      "         [0.4428],\n",
      "         [0.4435],\n",
      "         [0.4435],\n",
      "         [0.4433],\n",
      "         [0.4440]]], grad_fn=<SigmoidBackward0>) tensor(0.6710, grad_fn=<BinaryCrossEntropyBackward0>)\n"
     ]
    }
   ],
   "source": [
    "#define model\n",
    "class Net(nn.Module):\n",
    "    def __init__(self, cfg_model):\n",
    "        super(Net, self).__init__()\n",
    "        info = cfg_model\n",
    "        l1 = info['l1']\n",
    "        l2 = info['l2']\n",
    "        l3 = info['l3']\n",
    "        l4 = info['l4']\n",
    "        self.dropout = info['dropout']\n",
    "        self.fc1 = nn.Linear(l1[0], l1[1])\n",
    "        self.fc2 = nn.Linear(l2[0], l2[1])\n",
    "        self.fc3 = nn.Linear(l3[0], l3[1])\n",
    "        self.fc4 = nn.Linear(l4[0], l4[1])\n",
    "        \n",
    "        self.BCEloss=nn.BCELoss()\n",
    "        \n",
    "    def forward(self, x):\n",
    "        # print(x.shape)\n",
    "        x = torch.unsqueeze(x, 0)\n",
    "        \n",
    "        x = torch.sigmoid(self.fc1(x))\n",
    "        # x = F.dropout(x, training=self.training)\n",
    "        x = torch.sigmoid(self.fc2(x))\n",
    "        x = torch.sigmoid(self.fc3(x))\n",
    "        x = torch.sigmoid(self.fc4(x))\n",
    "        return x \n",
    "    \n",
    "    def loss_fn(self, y_pred, y_true):\n",
    "        y_pred = y_pred.view(-1).float()\n",
    "        # y_pred = np.where(y_pred>0.5, 1, 0)\n",
    "        y_true = y_true.view(-1).float()\n",
    "        # print(y_pred, y_true)\n",
    "        # print(y_pred.size(), y_true.size())\n",
    "        loss = self.BCEloss(y_pred, y_true)\n",
    "        return loss\n",
    "        \n",
    "model = Net(cfg.model)\n",
    "test_pred=model(x)\n",
    "loss = model.loss_fn(test_pred, y)\n",
    "print(test_pred, loss)"
   ]
  },
  {
   "cell_type": "code",
   "execution_count": 418,
   "metadata": {},
   "outputs": [
    {
     "name": "stdout",
     "output_type": "stream",
     "text": [
      "Net(\n",
      "  (fc1): Linear(in_features=13, out_features=26, bias=True)\n",
      "  (fc2): Linear(in_features=26, out_features=13, bias=True)\n",
      "  (fc3): Linear(in_features=13, out_features=6, bias=True)\n",
      "  (fc4): Linear(in_features=6, out_features=1, bias=True)\n",
      "  (BCEloss): BCELoss()\n",
      ")\n",
      "SGD (\n",
      "Parameter Group 0\n",
      "    dampening: 0\n",
      "    lr: 1e-06\n",
      "    momentum: 0\n",
      "    nesterov: False\n",
      "    weight_decay: 0\n",
      ")\n"
     ]
    }
   ],
   "source": [
    "model = Net(cfg.model)\n",
    "print(model)\n",
    "optimizer = torch.optim.SGD(model.parameters(), lr=1e-6)\n",
    "print(optimizer)"
   ]
  },
  {
   "cell_type": "code",
   "execution_count": 419,
   "metadata": {},
   "outputs": [
    {
     "name": "stderr",
     "output_type": "stream",
     "text": [
      "39it [00:00, 385.94it/s]"
     ]
    },
    {
     "name": "stdout",
     "output_type": "stream",
     "text": [
      "epochs              : 10 \n",
      "epoch               : 0 \n"
     ]
    },
    {
     "name": "stderr",
     "output_type": "stream",
     "text": [
      "1096it [00:02, 448.80it/s]"
     ]
    },
    {
     "name": "stdout",
     "output_type": "stream",
     "text": [
      "0 tensor(0.6621, grad_fn=<BinaryCrossEntropyBackward0>)\n"
     ]
    },
    {
     "name": "stderr",
     "output_type": "stream",
     "text": [
      "2099it [00:04, 695.15it/s]"
     ]
    },
    {
     "name": "stdout",
     "output_type": "stream",
     "text": [
      "0 tensor(0.7366, grad_fn=<BinaryCrossEntropyBackward0>)\n"
     ]
    },
    {
     "name": "stderr",
     "output_type": "stream",
     "text": [
      "2984it [00:05, 643.97it/s]"
     ]
    },
    {
     "name": "stdout",
     "output_type": "stream",
     "text": [
      "0 tensor(0.6621, grad_fn=<BinaryCrossEntropyBackward0>)\n"
     ]
    },
    {
     "name": "stderr",
     "output_type": "stream",
     "text": [
      "4037it [00:08, 381.33it/s]"
     ]
    },
    {
     "name": "stdout",
     "output_type": "stream",
     "text": [
      "0 tensor(0.8104, grad_fn=<BinaryCrossEntropyBackward0>)\n"
     ]
    },
    {
     "name": "stderr",
     "output_type": "stream",
     "text": [
      "5154it [00:09, 627.15it/s]"
     ]
    },
    {
     "name": "stdout",
     "output_type": "stream",
     "text": [
      "0 tensor(0.8845, grad_fn=<BinaryCrossEntropyBackward0>)\n"
     ]
    },
    {
     "name": "stderr",
     "output_type": "stream",
     "text": [
      "6106it [00:11, 676.78it/s]"
     ]
    },
    {
     "name": "stdout",
     "output_type": "stream",
     "text": [
      "0 tensor(0.7735, grad_fn=<BinaryCrossEntropyBackward0>)\n"
     ]
    },
    {
     "name": "stderr",
     "output_type": "stream",
     "text": [
      "7090it [00:12, 923.28it/s]"
     ]
    },
    {
     "name": "stdout",
     "output_type": "stream",
     "text": [
      "0 tensor(0.7731, grad_fn=<BinaryCrossEntropyBackward0>)\n"
     ]
    },
    {
     "name": "stderr",
     "output_type": "stream",
     "text": [
      "7426it [00:13, 543.31it/s]\n",
      "9it [00:00, 88.66it/s]"
     ]
    },
    {
     "name": "stdout",
     "output_type": "stream",
     "text": [
      "epoch               : 1 \n"
     ]
    },
    {
     "name": "stderr",
     "output_type": "stream",
     "text": [
      "1036it [00:02, 558.18it/s]"
     ]
    },
    {
     "name": "stdout",
     "output_type": "stream",
     "text": [
      "1 tensor(0.6620, grad_fn=<BinaryCrossEntropyBackward0>)\n"
     ]
    },
    {
     "name": "stderr",
     "output_type": "stream",
     "text": [
      "2120it [00:03, 807.56it/s]"
     ]
    },
    {
     "name": "stdout",
     "output_type": "stream",
     "text": [
      "1 tensor(0.7362, grad_fn=<BinaryCrossEntropyBackward0>)\n"
     ]
    },
    {
     "name": "stderr",
     "output_type": "stream",
     "text": [
      "3129it [00:05, 731.23it/s]"
     ]
    },
    {
     "name": "stdout",
     "output_type": "stream",
     "text": [
      "1 tensor(0.6621, grad_fn=<BinaryCrossEntropyBackward0>)\n"
     ]
    },
    {
     "name": "stderr",
     "output_type": "stream",
     "text": [
      "4143it [00:07, 830.21it/s]"
     ]
    },
    {
     "name": "stdout",
     "output_type": "stream",
     "text": [
      "1 tensor(0.8097, grad_fn=<BinaryCrossEntropyBackward0>)\n"
     ]
    },
    {
     "name": "stderr",
     "output_type": "stream",
     "text": [
      "5105it [00:08, 656.63it/s]"
     ]
    },
    {
     "name": "stdout",
     "output_type": "stream",
     "text": [
      "1 tensor(0.8835, grad_fn=<BinaryCrossEntropyBackward0>)\n"
     ]
    },
    {
     "name": "stderr",
     "output_type": "stream",
     "text": [
      "6148it [00:10, 907.62it/s]"
     ]
    },
    {
     "name": "stdout",
     "output_type": "stream",
     "text": [
      "1 tensor(0.7730, grad_fn=<BinaryCrossEntropyBackward0>)\n"
     ]
    },
    {
     "name": "stderr",
     "output_type": "stream",
     "text": [
      "7067it [00:12, 353.72it/s]"
     ]
    },
    {
     "name": "stdout",
     "output_type": "stream",
     "text": [
      "1 tensor(0.7726, grad_fn=<BinaryCrossEntropyBackward0>)\n"
     ]
    },
    {
     "name": "stderr",
     "output_type": "stream",
     "text": [
      "7426it [00:12, 571.74it/s]\n",
      "56it [00:00, 556.01it/s]"
     ]
    },
    {
     "name": "stdout",
     "output_type": "stream",
     "text": [
      "epoch               : 2 \n"
     ]
    },
    {
     "name": "stderr",
     "output_type": "stream",
     "text": [
      "1069it [00:02, 449.79it/s]"
     ]
    },
    {
     "name": "stdout",
     "output_type": "stream",
     "text": [
      "2 tensor(0.6620, grad_fn=<BinaryCrossEntropyBackward0>)\n"
     ]
    },
    {
     "name": "stderr",
     "output_type": "stream",
     "text": [
      "2089it [00:04, 384.52it/s]"
     ]
    },
    {
     "name": "stdout",
     "output_type": "stream",
     "text": [
      "2 tensor(0.7358, grad_fn=<BinaryCrossEntropyBackward0>)\n"
     ]
    },
    {
     "name": "stderr",
     "output_type": "stream",
     "text": [
      "3019it [00:06, 459.22it/s]"
     ]
    },
    {
     "name": "stdout",
     "output_type": "stream",
     "text": [
      "2 tensor(0.6620, grad_fn=<BinaryCrossEntropyBackward0>)\n"
     ]
    },
    {
     "name": "stderr",
     "output_type": "stream",
     "text": [
      "4044it [00:08, 671.88it/s]"
     ]
    },
    {
     "name": "stdout",
     "output_type": "stream",
     "text": [
      "2 tensor(0.8090, grad_fn=<BinaryCrossEntropyBackward0>)\n"
     ]
    },
    {
     "name": "stderr",
     "output_type": "stream",
     "text": [
      "5124it [00:10, 720.03it/s]"
     ]
    },
    {
     "name": "stdout",
     "output_type": "stream",
     "text": [
      "2 tensor(0.8825, grad_fn=<BinaryCrossEntropyBackward0>)\n"
     ]
    },
    {
     "name": "stderr",
     "output_type": "stream",
     "text": [
      "6011it [00:11, 723.79it/s]"
     ]
    },
    {
     "name": "stdout",
     "output_type": "stream",
     "text": [
      "2 tensor(0.7724, grad_fn=<BinaryCrossEntropyBackward0>)\n"
     ]
    },
    {
     "name": "stderr",
     "output_type": "stream",
     "text": [
      "7083it [00:14, 530.87it/s]"
     ]
    },
    {
     "name": "stdout",
     "output_type": "stream",
     "text": [
      "2 tensor(0.7721, grad_fn=<BinaryCrossEntropyBackward0>)\n"
     ]
    },
    {
     "name": "stderr",
     "output_type": "stream",
     "text": [
      "7426it [00:15, 484.96it/s]\n",
      "29it [00:00, 285.71it/s]"
     ]
    },
    {
     "name": "stdout",
     "output_type": "stream",
     "text": [
      "epoch               : 3 \n"
     ]
    },
    {
     "name": "stderr",
     "output_type": "stream",
     "text": [
      "1058it [00:03, 273.60it/s]"
     ]
    },
    {
     "name": "stdout",
     "output_type": "stream",
     "text": [
      "3 tensor(0.6619, grad_fn=<BinaryCrossEntropyBackward0>)\n"
     ]
    },
    {
     "name": "stderr",
     "output_type": "stream",
     "text": [
      "2100it [00:05, 679.93it/s]"
     ]
    },
    {
     "name": "stdout",
     "output_type": "stream",
     "text": [
      "3 tensor(0.7355, grad_fn=<BinaryCrossEntropyBackward0>)\n"
     ]
    },
    {
     "name": "stderr",
     "output_type": "stream",
     "text": [
      "3037it [00:08, 241.11it/s]"
     ]
    },
    {
     "name": "stdout",
     "output_type": "stream",
     "text": [
      "3 tensor(0.6620, grad_fn=<BinaryCrossEntropyBackward0>)\n"
     ]
    },
    {
     "name": "stderr",
     "output_type": "stream",
     "text": [
      "4039it [00:10, 580.92it/s]"
     ]
    },
    {
     "name": "stdout",
     "output_type": "stream",
     "text": [
      "3 tensor(0.8083, grad_fn=<BinaryCrossEntropyBackward0>)\n"
     ]
    },
    {
     "name": "stderr",
     "output_type": "stream",
     "text": [
      "5030it [00:12, 513.08it/s]"
     ]
    },
    {
     "name": "stdout",
     "output_type": "stream",
     "text": [
      "3 tensor(0.8815, grad_fn=<BinaryCrossEntropyBackward0>)\n"
     ]
    },
    {
     "name": "stderr",
     "output_type": "stream",
     "text": [
      "6076it [00:14, 627.68it/s]"
     ]
    },
    {
     "name": "stdout",
     "output_type": "stream",
     "text": [
      "3 tensor(0.7719, grad_fn=<BinaryCrossEntropyBackward0>)\n"
     ]
    },
    {
     "name": "stderr",
     "output_type": "stream",
     "text": [
      "7056it [00:17, 375.68it/s]"
     ]
    },
    {
     "name": "stdout",
     "output_type": "stream",
     "text": [
      "3 tensor(0.7715, grad_fn=<BinaryCrossEntropyBackward0>)\n"
     ]
    },
    {
     "name": "stderr",
     "output_type": "stream",
     "text": [
      "7426it [00:17, 423.10it/s]\n",
      "17it [00:00, 135.89it/s]"
     ]
    },
    {
     "name": "stdout",
     "output_type": "stream",
     "text": [
      "epoch               : 4 \n"
     ]
    },
    {
     "name": "stderr",
     "output_type": "stream",
     "text": [
      "1136it [00:02, 686.03it/s]"
     ]
    },
    {
     "name": "stdout",
     "output_type": "stream",
     "text": [
      "4 tensor(0.6619, grad_fn=<BinaryCrossEntropyBackward0>)\n"
     ]
    },
    {
     "name": "stderr",
     "output_type": "stream",
     "text": [
      "2110it [00:04, 703.95it/s]"
     ]
    },
    {
     "name": "stdout",
     "output_type": "stream",
     "text": [
      "4 tensor(0.7351, grad_fn=<BinaryCrossEntropyBackward0>)\n"
     ]
    },
    {
     "name": "stderr",
     "output_type": "stream",
     "text": [
      "3107it [00:06, 461.77it/s]"
     ]
    },
    {
     "name": "stdout",
     "output_type": "stream",
     "text": [
      "4 tensor(0.6619, grad_fn=<BinaryCrossEntropyBackward0>)\n"
     ]
    },
    {
     "name": "stderr",
     "output_type": "stream",
     "text": [
      "4097it [00:07, 659.59it/s]"
     ]
    },
    {
     "name": "stdout",
     "output_type": "stream",
     "text": [
      "4 tensor(0.8076, grad_fn=<BinaryCrossEntropyBackward0>)\n"
     ]
    },
    {
     "name": "stderr",
     "output_type": "stream",
     "text": [
      "5173it [00:09, 878.14it/s]"
     ]
    },
    {
     "name": "stdout",
     "output_type": "stream",
     "text": [
      "4 tensor(0.8805, grad_fn=<BinaryCrossEntropyBackward0>)\n"
     ]
    },
    {
     "name": "stderr",
     "output_type": "stream",
     "text": [
      "6141it [00:12, 668.37it/s]"
     ]
    },
    {
     "name": "stdout",
     "output_type": "stream",
     "text": [
      "4 tensor(0.7714, grad_fn=<BinaryCrossEntropyBackward0>)\n"
     ]
    },
    {
     "name": "stderr",
     "output_type": "stream",
     "text": [
      "7077it [00:14, 748.44it/s]"
     ]
    },
    {
     "name": "stdout",
     "output_type": "stream",
     "text": [
      "4 tensor(0.7710, grad_fn=<BinaryCrossEntropyBackward0>)\n"
     ]
    },
    {
     "name": "stderr",
     "output_type": "stream",
     "text": [
      "7426it [00:14, 505.59it/s]\n",
      "11it [00:00, 68.22it/s]"
     ]
    },
    {
     "name": "stdout",
     "output_type": "stream",
     "text": [
      "epoch               : 5 \n"
     ]
    },
    {
     "name": "stderr",
     "output_type": "stream",
     "text": [
      "1078it [00:02, 588.60it/s]"
     ]
    },
    {
     "name": "stdout",
     "output_type": "stream",
     "text": [
      "5 tensor(0.6618, grad_fn=<BinaryCrossEntropyBackward0>)\n"
     ]
    },
    {
     "name": "stderr",
     "output_type": "stream",
     "text": [
      "2039it [00:04, 464.19it/s]"
     ]
    },
    {
     "name": "stdout",
     "output_type": "stream",
     "text": [
      "5 tensor(0.7348, grad_fn=<BinaryCrossEntropyBackward0>)\n"
     ]
    },
    {
     "name": "stderr",
     "output_type": "stream",
     "text": [
      "3064it [00:07, 516.95it/s]"
     ]
    },
    {
     "name": "stdout",
     "output_type": "stream",
     "text": [
      "5 tensor(0.6619, grad_fn=<BinaryCrossEntropyBackward0>)\n"
     ]
    },
    {
     "name": "stderr",
     "output_type": "stream",
     "text": [
      "4128it [00:08, 613.28it/s]"
     ]
    },
    {
     "name": "stdout",
     "output_type": "stream",
     "text": [
      "5 tensor(0.8069, grad_fn=<BinaryCrossEntropyBackward0>)\n"
     ]
    },
    {
     "name": "stderr",
     "output_type": "stream",
     "text": [
      "5095it [00:10, 679.22it/s]"
     ]
    },
    {
     "name": "stdout",
     "output_type": "stream",
     "text": [
      "5 tensor(0.8795, grad_fn=<BinaryCrossEntropyBackward0>)\n"
     ]
    },
    {
     "name": "stderr",
     "output_type": "stream",
     "text": [
      "6146it [00:12, 729.16it/s]"
     ]
    },
    {
     "name": "stdout",
     "output_type": "stream",
     "text": [
      "5 tensor(0.7709, grad_fn=<BinaryCrossEntropyBackward0>)\n"
     ]
    },
    {
     "name": "stderr",
     "output_type": "stream",
     "text": [
      "7153it [00:14, 724.28it/s]"
     ]
    },
    {
     "name": "stdout",
     "output_type": "stream",
     "text": [
      "5 tensor(0.7705, grad_fn=<BinaryCrossEntropyBackward0>)\n"
     ]
    },
    {
     "name": "stderr",
     "output_type": "stream",
     "text": [
      "7426it [00:14, 497.06it/s]\n",
      "48it [00:00, 475.66it/s]"
     ]
    },
    {
     "name": "stdout",
     "output_type": "stream",
     "text": [
      "epoch               : 6 \n"
     ]
    },
    {
     "name": "stderr",
     "output_type": "stream",
     "text": [
      "1062it [00:01, 556.44it/s]"
     ]
    },
    {
     "name": "stdout",
     "output_type": "stream",
     "text": [
      "6 tensor(0.6618, grad_fn=<BinaryCrossEntropyBackward0>)\n"
     ]
    },
    {
     "name": "stderr",
     "output_type": "stream",
     "text": [
      "2056it [00:03, 433.24it/s]"
     ]
    },
    {
     "name": "stdout",
     "output_type": "stream",
     "text": [
      "6 tensor(0.7344, grad_fn=<BinaryCrossEntropyBackward0>)\n"
     ]
    },
    {
     "name": "stderr",
     "output_type": "stream",
     "text": [
      "3082it [00:05, 588.02it/s]"
     ]
    },
    {
     "name": "stdout",
     "output_type": "stream",
     "text": [
      "6 tensor(0.6618, grad_fn=<BinaryCrossEntropyBackward0>)\n"
     ]
    },
    {
     "name": "stderr",
     "output_type": "stream",
     "text": [
      "3224it [00:06, 535.77it/s]\n"
     ]
    },
    {
     "ename": "KeyboardInterrupt",
     "evalue": "",
     "output_type": "error",
     "traceback": [
      "\u001b[0;31m---------------------------------------------------------------------------\u001b[0m",
      "\u001b[0;31mKeyboardInterrupt\u001b[0m                         Traceback (most recent call last)",
      "\u001b[0;32m<ipython-input-419-e03815943b2d>\u001b[0m in \u001b[0;36m<module>\u001b[0;34m\u001b[0m\n\u001b[1;32m      7\u001b[0m \u001b[0;32mfor\u001b[0m \u001b[0mepoch\u001b[0m \u001b[0;32min\u001b[0m \u001b[0mrange\u001b[0m\u001b[0;34m(\u001b[0m\u001b[0mepochs\u001b[0m\u001b[0;34m)\u001b[0m\u001b[0;34m:\u001b[0m\u001b[0;34m\u001b[0m\u001b[0;34m\u001b[0m\u001b[0m\n\u001b[1;32m      8\u001b[0m     \u001b[0mfprint\u001b[0m\u001b[0;34m(\u001b[0m\u001b[0;34m'epoch'\u001b[0m\u001b[0;34m,\u001b[0m \u001b[0mepoch\u001b[0m\u001b[0;34m)\u001b[0m\u001b[0;34m\u001b[0m\u001b[0;34m\u001b[0m\u001b[0m\n\u001b[0;32m----> 9\u001b[0;31m     \u001b[0;32mfor\u001b[0m \u001b[0mi\u001b[0m\u001b[0;34m,\u001b[0m \u001b[0;34m(\u001b[0m\u001b[0mx\u001b[0m\u001b[0;34m,\u001b[0m \u001b[0my_true\u001b[0m\u001b[0;34m)\u001b[0m \u001b[0;32min\u001b[0m \u001b[0mtqdm\u001b[0m\u001b[0;34m(\u001b[0m\u001b[0menumerate\u001b[0m\u001b[0;34m(\u001b[0m\u001b[0mtrain_dataloader\u001b[0m\u001b[0;34m)\u001b[0m\u001b[0;34m)\u001b[0m\u001b[0;34m:\u001b[0m\u001b[0;34m\u001b[0m\u001b[0;34m\u001b[0m\u001b[0m\n\u001b[0m\u001b[1;32m     10\u001b[0m         \u001b[0my_pred\u001b[0m \u001b[0;34m=\u001b[0m \u001b[0mmodel\u001b[0m\u001b[0;34m(\u001b[0m\u001b[0mx\u001b[0m\u001b[0;34m)\u001b[0m\u001b[0;34m\u001b[0m\u001b[0;34m\u001b[0m\u001b[0m\n\u001b[1;32m     11\u001b[0m         \u001b[0mloss\u001b[0m \u001b[0;34m=\u001b[0m \u001b[0mmodel\u001b[0m\u001b[0;34m.\u001b[0m\u001b[0mloss_fn\u001b[0m\u001b[0;34m(\u001b[0m\u001b[0my_pred\u001b[0m\u001b[0;34m,\u001b[0m \u001b[0my_true\u001b[0m\u001b[0;34m)\u001b[0m\u001b[0;34m\u001b[0m\u001b[0;34m\u001b[0m\u001b[0m\n",
      "\u001b[0;32m~/opt/anaconda3/lib/python3.8/site-packages/tqdm/std.py\u001b[0m in \u001b[0;36m__iter__\u001b[0;34m(self)\u001b[0m\n\u001b[1;32m   1176\u001b[0m \u001b[0;34m\u001b[0m\u001b[0m\n\u001b[1;32m   1177\u001b[0m         \u001b[0;32mtry\u001b[0m\u001b[0;34m:\u001b[0m\u001b[0;34m\u001b[0m\u001b[0;34m\u001b[0m\u001b[0m\n\u001b[0;32m-> 1178\u001b[0;31m             \u001b[0;32mfor\u001b[0m \u001b[0mobj\u001b[0m \u001b[0;32min\u001b[0m \u001b[0miterable\u001b[0m\u001b[0;34m:\u001b[0m\u001b[0;34m\u001b[0m\u001b[0;34m\u001b[0m\u001b[0m\n\u001b[0m\u001b[1;32m   1179\u001b[0m                 \u001b[0;32myield\u001b[0m \u001b[0mobj\u001b[0m\u001b[0;34m\u001b[0m\u001b[0;34m\u001b[0m\u001b[0m\n\u001b[1;32m   1180\u001b[0m                 \u001b[0;31m# Update and possibly print the progressbar.\u001b[0m\u001b[0;34m\u001b[0m\u001b[0;34m\u001b[0m\u001b[0;34m\u001b[0m\u001b[0m\n",
      "\u001b[0;32m~/opt/anaconda3/lib/python3.8/site-packages/torch/utils/data/dataloader.py\u001b[0m in \u001b[0;36m__next__\u001b[0;34m(self)\u001b[0m\n\u001b[1;32m    519\u001b[0m             \u001b[0;32mif\u001b[0m \u001b[0mself\u001b[0m\u001b[0;34m.\u001b[0m\u001b[0m_sampler_iter\u001b[0m \u001b[0;32mis\u001b[0m \u001b[0;32mNone\u001b[0m\u001b[0;34m:\u001b[0m\u001b[0;34m\u001b[0m\u001b[0;34m\u001b[0m\u001b[0m\n\u001b[1;32m    520\u001b[0m                 \u001b[0mself\u001b[0m\u001b[0;34m.\u001b[0m\u001b[0m_reset\u001b[0m\u001b[0;34m(\u001b[0m\u001b[0;34m)\u001b[0m\u001b[0;34m\u001b[0m\u001b[0;34m\u001b[0m\u001b[0m\n\u001b[0;32m--> 521\u001b[0;31m             \u001b[0mdata\u001b[0m \u001b[0;34m=\u001b[0m \u001b[0mself\u001b[0m\u001b[0;34m.\u001b[0m\u001b[0m_next_data\u001b[0m\u001b[0;34m(\u001b[0m\u001b[0;34m)\u001b[0m\u001b[0;34m\u001b[0m\u001b[0;34m\u001b[0m\u001b[0m\n\u001b[0m\u001b[1;32m    522\u001b[0m             \u001b[0mself\u001b[0m\u001b[0;34m.\u001b[0m\u001b[0m_num_yielded\u001b[0m \u001b[0;34m+=\u001b[0m \u001b[0;36m1\u001b[0m\u001b[0;34m\u001b[0m\u001b[0;34m\u001b[0m\u001b[0m\n\u001b[1;32m    523\u001b[0m             \u001b[0;32mif\u001b[0m \u001b[0mself\u001b[0m\u001b[0;34m.\u001b[0m\u001b[0m_dataset_kind\u001b[0m \u001b[0;34m==\u001b[0m \u001b[0m_DatasetKind\u001b[0m\u001b[0;34m.\u001b[0m\u001b[0mIterable\u001b[0m \u001b[0;32mand\u001b[0m\u001b[0;31m \u001b[0m\u001b[0;31m\\\u001b[0m\u001b[0;34m\u001b[0m\u001b[0;34m\u001b[0m\u001b[0m\n",
      "\u001b[0;32m~/opt/anaconda3/lib/python3.8/site-packages/torch/utils/data/dataloader.py\u001b[0m in \u001b[0;36m_next_data\u001b[0;34m(self)\u001b[0m\n\u001b[1;32m    559\u001b[0m     \u001b[0;32mdef\u001b[0m \u001b[0m_next_data\u001b[0m\u001b[0;34m(\u001b[0m\u001b[0mself\u001b[0m\u001b[0;34m)\u001b[0m\u001b[0;34m:\u001b[0m\u001b[0;34m\u001b[0m\u001b[0;34m\u001b[0m\u001b[0m\n\u001b[1;32m    560\u001b[0m         \u001b[0mindex\u001b[0m \u001b[0;34m=\u001b[0m \u001b[0mself\u001b[0m\u001b[0;34m.\u001b[0m\u001b[0m_next_index\u001b[0m\u001b[0;34m(\u001b[0m\u001b[0;34m)\u001b[0m  \u001b[0;31m# may raise StopIteration\u001b[0m\u001b[0;34m\u001b[0m\u001b[0;34m\u001b[0m\u001b[0m\n\u001b[0;32m--> 561\u001b[0;31m         \u001b[0mdata\u001b[0m \u001b[0;34m=\u001b[0m \u001b[0mself\u001b[0m\u001b[0;34m.\u001b[0m\u001b[0m_dataset_fetcher\u001b[0m\u001b[0;34m.\u001b[0m\u001b[0mfetch\u001b[0m\u001b[0;34m(\u001b[0m\u001b[0mindex\u001b[0m\u001b[0;34m)\u001b[0m  \u001b[0;31m# may raise StopIteration\u001b[0m\u001b[0;34m\u001b[0m\u001b[0;34m\u001b[0m\u001b[0m\n\u001b[0m\u001b[1;32m    562\u001b[0m         \u001b[0;32mif\u001b[0m \u001b[0mself\u001b[0m\u001b[0;34m.\u001b[0m\u001b[0m_pin_memory\u001b[0m\u001b[0;34m:\u001b[0m\u001b[0;34m\u001b[0m\u001b[0;34m\u001b[0m\u001b[0m\n\u001b[1;32m    563\u001b[0m             \u001b[0mdata\u001b[0m \u001b[0;34m=\u001b[0m \u001b[0m_utils\u001b[0m\u001b[0;34m.\u001b[0m\u001b[0mpin_memory\u001b[0m\u001b[0;34m.\u001b[0m\u001b[0mpin_memory\u001b[0m\u001b[0;34m(\u001b[0m\u001b[0mdata\u001b[0m\u001b[0;34m)\u001b[0m\u001b[0;34m\u001b[0m\u001b[0;34m\u001b[0m\u001b[0m\n",
      "\u001b[0;32m~/opt/anaconda3/lib/python3.8/site-packages/torch/utils/data/_utils/fetch.py\u001b[0m in \u001b[0;36mfetch\u001b[0;34m(self, possibly_batched_index)\u001b[0m\n\u001b[1;32m     47\u001b[0m     \u001b[0;32mdef\u001b[0m \u001b[0mfetch\u001b[0m\u001b[0;34m(\u001b[0m\u001b[0mself\u001b[0m\u001b[0;34m,\u001b[0m \u001b[0mpossibly_batched_index\u001b[0m\u001b[0;34m)\u001b[0m\u001b[0;34m:\u001b[0m\u001b[0;34m\u001b[0m\u001b[0;34m\u001b[0m\u001b[0m\n\u001b[1;32m     48\u001b[0m         \u001b[0;32mif\u001b[0m \u001b[0mself\u001b[0m\u001b[0;34m.\u001b[0m\u001b[0mauto_collation\u001b[0m\u001b[0;34m:\u001b[0m\u001b[0;34m\u001b[0m\u001b[0;34m\u001b[0m\u001b[0m\n\u001b[0;32m---> 49\u001b[0;31m             \u001b[0mdata\u001b[0m \u001b[0;34m=\u001b[0m \u001b[0;34m[\u001b[0m\u001b[0mself\u001b[0m\u001b[0;34m.\u001b[0m\u001b[0mdataset\u001b[0m\u001b[0;34m[\u001b[0m\u001b[0midx\u001b[0m\u001b[0;34m]\u001b[0m \u001b[0;32mfor\u001b[0m \u001b[0midx\u001b[0m \u001b[0;32min\u001b[0m \u001b[0mpossibly_batched_index\u001b[0m\u001b[0;34m]\u001b[0m\u001b[0;34m\u001b[0m\u001b[0;34m\u001b[0m\u001b[0m\n\u001b[0m\u001b[1;32m     50\u001b[0m         \u001b[0;32melse\u001b[0m\u001b[0;34m:\u001b[0m\u001b[0;34m\u001b[0m\u001b[0;34m\u001b[0m\u001b[0m\n\u001b[1;32m     51\u001b[0m             \u001b[0mdata\u001b[0m \u001b[0;34m=\u001b[0m \u001b[0mself\u001b[0m\u001b[0;34m.\u001b[0m\u001b[0mdataset\u001b[0m\u001b[0;34m[\u001b[0m\u001b[0mpossibly_batched_index\u001b[0m\u001b[0;34m]\u001b[0m\u001b[0;34m\u001b[0m\u001b[0;34m\u001b[0m\u001b[0m\n",
      "\u001b[0;32m~/opt/anaconda3/lib/python3.8/site-packages/torch/utils/data/_utils/fetch.py\u001b[0m in \u001b[0;36m<listcomp>\u001b[0;34m(.0)\u001b[0m\n\u001b[1;32m     47\u001b[0m     \u001b[0;32mdef\u001b[0m \u001b[0mfetch\u001b[0m\u001b[0;34m(\u001b[0m\u001b[0mself\u001b[0m\u001b[0;34m,\u001b[0m \u001b[0mpossibly_batched_index\u001b[0m\u001b[0;34m)\u001b[0m\u001b[0;34m:\u001b[0m\u001b[0;34m\u001b[0m\u001b[0;34m\u001b[0m\u001b[0m\n\u001b[1;32m     48\u001b[0m         \u001b[0;32mif\u001b[0m \u001b[0mself\u001b[0m\u001b[0;34m.\u001b[0m\u001b[0mauto_collation\u001b[0m\u001b[0;34m:\u001b[0m\u001b[0;34m\u001b[0m\u001b[0;34m\u001b[0m\u001b[0m\n\u001b[0;32m---> 49\u001b[0;31m             \u001b[0mdata\u001b[0m \u001b[0;34m=\u001b[0m \u001b[0;34m[\u001b[0m\u001b[0mself\u001b[0m\u001b[0;34m.\u001b[0m\u001b[0mdataset\u001b[0m\u001b[0;34m[\u001b[0m\u001b[0midx\u001b[0m\u001b[0;34m]\u001b[0m \u001b[0;32mfor\u001b[0m \u001b[0midx\u001b[0m \u001b[0;32min\u001b[0m \u001b[0mpossibly_batched_index\u001b[0m\u001b[0;34m]\u001b[0m\u001b[0;34m\u001b[0m\u001b[0;34m\u001b[0m\u001b[0m\n\u001b[0m\u001b[1;32m     50\u001b[0m         \u001b[0;32melse\u001b[0m\u001b[0;34m:\u001b[0m\u001b[0;34m\u001b[0m\u001b[0;34m\u001b[0m\u001b[0m\n\u001b[1;32m     51\u001b[0m             \u001b[0mdata\u001b[0m \u001b[0;34m=\u001b[0m \u001b[0mself\u001b[0m\u001b[0;34m.\u001b[0m\u001b[0mdataset\u001b[0m\u001b[0;34m[\u001b[0m\u001b[0mpossibly_batched_index\u001b[0m\u001b[0;34m]\u001b[0m\u001b[0;34m\u001b[0m\u001b[0;34m\u001b[0m\u001b[0m\n",
      "\u001b[0;32m<ipython-input-416-4126d4a21b05>\u001b[0m in \u001b[0;36m__getitem__\u001b[0;34m(self, idx)\u001b[0m\n\u001b[1;32m      9\u001b[0m \u001b[0;34m\u001b[0m\u001b[0m\n\u001b[1;32m     10\u001b[0m     \u001b[0;32mdef\u001b[0m \u001b[0m__getitem__\u001b[0m\u001b[0;34m(\u001b[0m\u001b[0mself\u001b[0m\u001b[0;34m,\u001b[0m \u001b[0midx\u001b[0m\u001b[0;34m)\u001b[0m\u001b[0;34m:\u001b[0m\u001b[0;34m\u001b[0m\u001b[0;34m\u001b[0m\u001b[0m\n\u001b[0;32m---> 11\u001b[0;31m         \u001b[0mdata\u001b[0m \u001b[0;34m=\u001b[0m \u001b[0mtorch\u001b[0m\u001b[0;34m.\u001b[0m\u001b[0mTensor\u001b[0m\u001b[0;34m(\u001b[0m\u001b[0mself\u001b[0m\u001b[0;34m.\u001b[0m\u001b[0mx\u001b[0m\u001b[0;34m[\u001b[0m\u001b[0midx\u001b[0m\u001b[0;34m]\u001b[0m\u001b[0;34m)\u001b[0m\u001b[0;34m\u001b[0m\u001b[0;34m\u001b[0m\u001b[0m\n\u001b[0m\u001b[1;32m     12\u001b[0m         \u001b[0mlabel\u001b[0m \u001b[0;34m=\u001b[0m \u001b[0mtorch\u001b[0m\u001b[0;34m.\u001b[0m\u001b[0mTensor\u001b[0m\u001b[0;34m(\u001b[0m\u001b[0mself\u001b[0m\u001b[0;34m.\u001b[0m\u001b[0my\u001b[0m\u001b[0;34m[\u001b[0m\u001b[0midx\u001b[0m\u001b[0;34m]\u001b[0m\u001b[0;34m.\u001b[0m\u001b[0mreshape\u001b[0m\u001b[0;34m(\u001b[0m\u001b[0;34m-\u001b[0m\u001b[0;36m1\u001b[0m\u001b[0;34m)\u001b[0m\u001b[0;34m)\u001b[0m\u001b[0;34m\u001b[0m\u001b[0;34m\u001b[0m\u001b[0m\n\u001b[1;32m     13\u001b[0m \u001b[0;34m\u001b[0m\u001b[0m\n",
      "\u001b[0;31mKeyboardInterrupt\u001b[0m: "
     ]
    }
   ],
   "source": [
    "config_path = '/Users/KC/My Drive/soundmouse/cfg_setting.py'\n",
    "cfg = Config.fromfile(config_path)\n",
    "\n",
    "epochs = cfg.epochs\n",
    "fprint('epochs', epochs)\n",
    "model.train()\n",
    "for epoch in range(epochs):\n",
    "    fprint('epoch', epoch)\n",
    "    for i, (x, y_true) in tqdm(enumerate(train_dataloader)):\n",
    "        y_pred = model(x)\n",
    "        loss = model.loss_fn(y_pred, y_true)\n",
    "        if i % cfg.interval == cfg.interval-1:\n",
    "            print(epoch, loss)\n",
    "        \n",
    "        optimizer.zero_grad()\n",
    "        loss.backward()\n",
    "        optimizer.step()\n",
    "        \n",
    "    "
   ]
  },
  {
   "cell_type": "code",
   "execution_count": null,
   "metadata": {},
   "outputs": [
    {
     "name": "stderr",
     "output_type": "stream",
     "text": [
      "41it [00:00, 407.27it/s]"
     ]
    },
    {
     "name": "stdout",
     "output_type": "stream",
     "text": [
      "tensor(0.7643)\n",
      "tensor(0.6881)\n",
      "tensor(0.6881)\n",
      "tensor(0.8156)\n",
      "tensor(0.6374)\n",
      "tensor(0.7400)\n",
      "tensor(0.7390)\n",
      "tensor(0.7392)\n",
      "tensor(0.7136)\n",
      "tensor(0.7134)\n",
      "tensor(0.6631)\n",
      "tensor(0.7391)\n",
      "tensor(0.7392)\n",
      "tensor(0.7645)\n",
      "tensor(0.6883)\n",
      "tensor(0.7136)\n",
      "tensor(0.7136)\n",
      "tensor(0.7394)\n",
      "tensor(0.6882)\n",
      "tensor(0.7391)\n",
      "tensor(0.6627)\n",
      "tensor(0.7389)\n",
      "tensor(0.7138)\n",
      "tensor(0.6882)\n",
      "tensor(0.7143)\n",
      "tensor(0.7645)\n",
      "tensor(0.7136)\n",
      "tensor(0.6110)\n",
      "tensor(0.7397)\n",
      "tensor(0.7135)\n",
      "tensor(0.7646)\n",
      "tensor(0.6881)\n",
      "tensor(0.7391)\n",
      "tensor(0.7389)\n",
      "tensor(0.6623)\n",
      "tensor(0.7390)\n",
      "tensor(0.8412)\n",
      "tensor(0.7643)\n",
      "tensor(0.7138)\n",
      "tensor(0.7135)\n",
      "tensor(0.7899)\n",
      "tensor(0.6883)\n",
      "tensor(0.7130)\n",
      "tensor(0.7650)\n",
      "tensor(0.6628)\n",
      "tensor(0.7136)\n",
      "tensor(0.7391)\n",
      "tensor(0.7902)\n",
      "tensor(0.6878)\n",
      "tensor(0.6884)\n",
      "tensor(0.6371)\n",
      "tensor(0.6117)\n",
      "tensor(0.6883)\n",
      "tensor(0.7648)\n",
      "tensor(0.6371)\n",
      "tensor(0.6881)\n",
      "tensor(0.7129)\n",
      "tensor(0.7644)\n",
      "tensor(0.7898)\n",
      "tensor(0.6627)\n",
      "tensor(0.6881)\n",
      "tensor(0.7644)\n",
      "tensor(0.6881)\n",
      "tensor(0.7387)\n",
      "tensor(0.6881)\n",
      "tensor(0.7140)\n",
      "tensor(0.6627)\n",
      "tensor(0.6625)\n",
      "tensor(0.6115)\n",
      "tensor(0.7137)"
     ]
    },
    {
     "name": "stderr",
     "output_type": "stream",
     "text": [
      "115it [00:00, 302.90it/s]"
     ]
    },
    {
     "name": "stdout",
     "output_type": "stream",
     "text": [
      "\n",
      "tensor(0.6878)\n",
      "tensor(0.7390)\n",
      "tensor(0.7133)\n",
      "tensor(0.7395)\n",
      "tensor(0.7394)\n",
      "tensor(0.6622)\n",
      "tensor(0.7645)\n",
      "tensor(0.6881)\n",
      "tensor(0.7391)\n",
      "tensor(0.6118)\n",
      "tensor(0.7135)\n",
      "tensor(0.8153)\n",
      "tensor(0.7391)\n",
      "tensor(0.6884)\n",
      "tensor(0.6626)\n",
      "tensor(0.7391)\n",
      "tensor(0.7644)\n",
      "tensor(0.7899)\n",
      "tensor(0.7389)\n",
      "tensor(0.7389)\n",
      "tensor(0.7135)\n",
      "tensor(0.7394)\n",
      "tensor(0.6622)\n",
      "tensor(0.6627)\n",
      "tensor(0.7643)\n",
      "tensor(0.6373)\n",
      "tensor(0.7642)\n",
      "tensor(0.6367)\n",
      "tensor(0.7131)\n",
      "tensor(0.7391)\n",
      "tensor(0.7397)\n",
      "tensor(0.7647)\n",
      "tensor(0.7138)\n",
      "tensor(0.7394)\n",
      "tensor(0.7902)\n",
      "tensor(0.6884)\n",
      "tensor(0.7138)\n",
      "tensor(0.7129)\n",
      "tensor(0.7133)\n",
      "tensor(0.7393)\n",
      "tensor(0.6369)\n",
      "tensor(0.7135)\n",
      "tensor(0.7135)\n",
      "tensor(0.6879)\n",
      "tensor(0.7131)\n",
      "tensor(0.7136)\n",
      "tensor(0.6625)\n",
      "tensor(0.7389)\n",
      "tensor(0.7135)\n",
      "tensor(0.7140)\n",
      "tensor(0.7388)\n",
      "tensor(0.7136)\n",
      "tensor(0.6882)\n",
      "tensor(0.7395)\n",
      "tensor(0.6880)\n",
      "tensor(0.7137)\n",
      "tensor(0.6366)\n",
      "tensor(0.7135)\n",
      "tensor(0.6879)\n",
      "tensor(0.6881)\n",
      "tensor(0.7393)\n",
      "tensor(0.6879)\n",
      "tensor(0.7139)\n",
      "tensor(0.7137)\n",
      "tensor(0.6626)\n",
      "tensor(0.6622)\n",
      "tensor(0.8158)\n",
      "tensor(0.6625)\n",
      "tensor(0.5863)\n",
      "tensor(0.7388)\n",
      "tensor(0.7394)\n",
      "tensor(0.7637)\n",
      "tensor(0.6884)\n",
      "tensor(0.7397)\n",
      "tensor(0.6883)\n",
      "tensor(0.7641)\n"
     ]
    },
    {
     "name": "stderr",
     "output_type": "stream",
     "text": [
      "274it [00:00, 571.28it/s]"
     ]
    },
    {
     "name": "stdout",
     "output_type": "stream",
     "text": [
      "tensor(0.7648)\n",
      "tensor(0.7390)\n",
      "tensor(0.7646)\n",
      "tensor(0.6115)\n",
      "tensor(0.7136)\n",
      "tensor(0.6111)\n",
      "tensor(0.7648)\n",
      "tensor(0.8157)\n",
      "tensor(0.6881)\n",
      "tensor(0.7648)\n",
      "tensor(0.7396)\n",
      "tensor(0.7140)\n",
      "tensor(0.7391)\n",
      "tensor(0.7903)\n",
      "tensor(0.6881)\n",
      "tensor(0.6629)\n",
      "tensor(0.7394)\n",
      "tensor(0.6885)\n",
      "tensor(0.7393)\n",
      "tensor(0.7138)\n",
      "tensor(0.7388)\n",
      "tensor(0.6880)\n",
      "tensor(0.6632)\n",
      "tensor(0.7646)\n",
      "tensor(0.7900)\n",
      "tensor(0.7145)\n",
      "tensor(0.6626)\n",
      "tensor(0.7639)\n",
      "tensor(0.7645)\n",
      "tensor(0.7387)\n",
      "tensor(0.6631)\n",
      "tensor(0.6626)\n",
      "tensor(0.6631)\n",
      "tensor(0.6885)\n",
      "tensor(0.7134)\n",
      "tensor(0.6880)\n",
      "tensor(0.6626)\n",
      "tensor(0.6879)\n",
      "tensor(0.7393)\n",
      "tensor(0.7904)\n",
      "tensor(0.6115)\n",
      "tensor(0.7644)\n",
      "tensor(0.7394)\n",
      "tensor(0.7397)\n",
      "tensor(0.7134)\n",
      "tensor(0.7396)\n",
      "tensor(0.6623)\n",
      "tensor(0.7393)\n",
      "tensor(0.7645)\n",
      "tensor(0.7387)\n",
      "tensor(0.7133)\n",
      "tensor(0.7134)\n",
      "tensor(0.7388)\n",
      "tensor(0.6628)\n",
      "tensor(0.7645)\n",
      "tensor(0.7391)\n",
      "tensor(0.6878)\n",
      "tensor(0.7386)\n",
      "tensor(0.6625)\n",
      "tensor(0.6625)\n",
      "tensor(0.7134)\n",
      "tensor(0.7130)\n",
      "tensor(0.7904)\n",
      "tensor(0.7390)\n",
      "tensor(0.6883)\n",
      "tensor(0.7643)\n",
      "tensor(0.6626)\n",
      "tensor(0.6625)\n",
      "tensor(0.7137)\n",
      "tensor(0.6629)\n",
      "tensor(0.6623)\n",
      "tensor(0.7905)\n",
      "tensor(0.7645)\n",
      "tensor(0.8153)\n",
      "tensor(0.6119)\n",
      "tensor(0.6879)\n",
      "tensor(0.6876)\n",
      "tensor(0.6627)\n",
      "tensor(0.7389)\n",
      "tensor(0.6879)\n",
      "tensor(0.7645)\n",
      "tensor(0.8153)\n",
      "tensor(0.6882)\n",
      "tensor(0.7646)\n",
      "tensor(0.6878)\n",
      "tensor(0.8159)\n",
      "tensor(0.6883)\n",
      "tensor(0.7393)\n",
      "tensor(0.7646)\n",
      "tensor(0.7137)\n",
      "tensor(0.6115)\n",
      "tensor(0.7134)\n",
      "tensor(0.6372)\n",
      "tensor(0.6627)\n",
      "tensor(0.7901)\n",
      "tensor(0.7898)\n",
      "tensor(0.7649)\n",
      "tensor(0.6623)\n",
      "tensor(0.7134)\n",
      "tensor(0.6874)\n",
      "tensor(0.7139)\n",
      "tensor(0.6627)\n",
      "tensor(0.6881)\n",
      "tensor(0.7896)\n",
      "tensor(0.6886)\n",
      "tensor(0.6882)\n",
      "tensor(0.7385)\n",
      "tensor(0.6370)\n",
      "tensor(0.6884)\n",
      "tensor(0.7644)\n",
      "tensor(0.7647)\n",
      "tensor(0.6877)\n",
      "tensor(0.6881)\n",
      "tensor(0.6883)\n",
      "tensor(0.6116)\n",
      "tensor(0.7642)\n",
      "tensor(0.6624)\n",
      "tensor(0.7138)\n",
      "tensor(0.7136)\n",
      "tensor(0.6622)\n",
      "tensor(0.7133)\n",
      "tensor(0.7138)\n",
      "tensor(0.8161)\n",
      "tensor(0.6627)\n",
      "tensor(0.7135)\n",
      "tensor(0.6372)\n",
      "tensor(0.6877)\n",
      "tensor(0.6626)\n",
      "tensor(0.7394)\n",
      "tensor(0.7138)\n",
      "tensor(0.6371)\n",
      "tensor(0.7898)\n",
      "tensor(0.5862)\n",
      "tensor(0.7653)\n",
      "tensor(0.7645)\n",
      "tensor(0.7645)\n",
      "tensor(0.7140)\n",
      "tensor(0.6372)\n",
      "tensor(0.6624)\n",
      "tensor(0.7650)\n",
      "tensor(0.6880)\n",
      "tensor(0.7651)\n",
      "tensor(0.6629)\n",
      "tensor(0.7900)\n",
      "tensor(0.7640)\n",
      "tensor(0.7392)\n",
      "tensor(0.7643)\n",
      "tensor(0.7900)\n",
      "tensor(0.7393)\n",
      "tensor(0.7135)\n",
      "tensor(0.7645)\n",
      "tensor(0.6883)\n"
     ]
    },
    {
     "name": "stderr",
     "output_type": "stream",
     "text": [
      "428it [00:00, 673.16it/s]"
     ]
    },
    {
     "name": "stdout",
     "output_type": "stream",
     "text": [
      "tensor(0.8154)\n",
      "tensor(0.7393)\n",
      "tensor(0.6882)\n",
      "tensor(0.6879)\n",
      "tensor(0.6629)\n",
      "tensor(0.7642)\n",
      "tensor(0.7643)\n",
      "tensor(0.6887)\n",
      "tensor(0.7648)\n",
      "tensor(0.7646)\n",
      "tensor(0.7137)\n",
      "tensor(0.7389)\n",
      "tensor(0.7138)\n",
      "tensor(0.6371)\n",
      "tensor(0.7389)\n",
      "tensor(0.7397)\n",
      "tensor(0.7139)\n",
      "tensor(0.7133)\n",
      "tensor(0.7387)\n",
      "tensor(0.6880)\n",
      "tensor(0.7906)\n",
      "tensor(0.7645)\n",
      "tensor(0.6875)\n",
      "tensor(0.7388)\n",
      "tensor(0.6885)\n",
      "tensor(0.7389)\n",
      "tensor(0.6370)\n",
      "tensor(0.7135)\n",
      "tensor(0.7139)\n",
      "tensor(0.6878)\n",
      "tensor(0.7904)\n",
      "tensor(0.7139)\n",
      "tensor(0.7393)\n",
      "tensor(0.6630)\n",
      "tensor(0.7133)\n",
      "tensor(0.6880)\n",
      "tensor(0.7134)\n",
      "tensor(0.7133)\n",
      "tensor(0.6879)\n",
      "tensor(0.6880)\n",
      "tensor(0.7387)\n",
      "tensor(0.6883)\n",
      "tensor(0.7648)\n",
      "tensor(0.7387)\n",
      "tensor(0.7136)\n",
      "tensor(0.6370)\n",
      "tensor(0.7898)\n",
      "tensor(0.6883)\n",
      "tensor(0.6884)\n",
      "tensor(0.8409)\n",
      "tensor(0.7385)\n",
      "tensor(0.6881)\n",
      "tensor(0.7141)\n",
      "tensor(0.6887)\n",
      "tensor(0.7639)\n",
      "tensor(0.6620)\n",
      "tensor(0.7135)\n",
      "tensor(0.6366)\n",
      "tensor(0.7393)\n",
      "tensor(0.7133)\n",
      "tensor(0.6626)\n",
      "tensor(0.7141)\n",
      "tensor(0.7646)\n",
      "tensor(0.6374)\n",
      "tensor(0.6877)\n",
      "tensor(0.7644)\n",
      "tensor(0.6630)\n",
      "tensor(0.7393)\n",
      "tensor(0.6880)\n",
      "tensor(0.6880)\n",
      "tensor(0.6366)\n",
      "tensor(0.7647)\n",
      "tensor(0.7137)\n",
      "tensor(0.7904)\n",
      "tensor(0.7386)\n",
      "tensor(0.6626)\n",
      "tensor(0.7137)\n",
      "tensor(0.7649)\n",
      "tensor(0.6630)\n",
      "tensor(0.7648)\n",
      "tensor(0.7397)\n",
      "tensor(0.7902)\n",
      "tensor(0.7393)\n",
      "tensor(0.7391)\n",
      "tensor(0.6368)\n",
      "tensor(0.6116)\n",
      "tensor(0.8156)\n",
      "tensor(0.6629)\n",
      "tensor(0.7390)\n",
      "tensor(0.7649)\n",
      "tensor(0.7646)\n",
      "tensor(0.6634)\n",
      "tensor(0.6879)\n",
      "tensor(0.6372)\n",
      "tensor(0.6372)\n",
      "tensor(0.7653)\n",
      "tensor(0.7138)\n",
      "tensor(0.6876)\n",
      "tensor(0.7391)\n",
      "tensor(0.7392)\n",
      "tensor(0.6113)\n",
      "tensor(0.6877)\n",
      "tensor(0.7393)\n",
      "tensor(0.6627)\n",
      "tensor(0.7137)\n",
      "tensor(0.7392)\n",
      "tensor(0.7902)\n",
      "tensor(0.7391)\n",
      "tensor(0.7390)\n",
      "tensor(0.6884)\n",
      "tensor(0.6626)\n",
      "tensor(0.6110)\n",
      "tensor(0.7649)\n",
      "tensor(0.7643)\n",
      "tensor(0.6879)\n",
      "tensor(0.6626)\n",
      "tensor(0.7393)\n",
      "tensor(0.7897)\n",
      "tensor(0.7642)\n",
      "tensor(0.7137)\n",
      "tensor(0.7138)\n",
      "tensor(0.6884)\n",
      "tensor(0.6883)\n",
      "tensor(0.6623)\n",
      "tensor(0.6624)\n",
      "tensor(0.6878)\n",
      "tensor(0.7389)\n",
      "tensor(0.7135)\n",
      "tensor(0.6883)\n",
      "tensor(0.7390)\n",
      "tensor(0.7395)\n",
      "tensor(0.7136)\n",
      "tensor(0.7641)\n",
      "tensor(0.6368)\n",
      "tensor(0.7136)\n",
      "tensor(0.7645)\n",
      "tensor(0.7397)\n",
      "tensor(0.6116)\n",
      "tensor(0.6374)\n",
      "tensor(0.6368)\n",
      "tensor(0.7393)\n",
      "tensor(0.7646)\n",
      "tensor(0.7134)\n",
      "tensor(0.6374)\n",
      "tensor(0.6627)\n",
      "tensor(0.7137)\n",
      "tensor(0.7645)\n",
      "tensor(0.6883)\n",
      "tensor(0.6630)\n",
      "tensor(0.7136)\n",
      "tensor(0.7135)\n",
      "tensor(0.6628)\n",
      "tensor(0.7644)\n",
      "tensor(0.6625)\n",
      "tensor(0.6883)\n",
      "tensor(0.7390)\n",
      "tensor(0.7394)\n",
      "tensor(0.6624)\n",
      "tensor(0.7391)\n",
      "tensor(0.8160)\n",
      "tensor(0.6375)\n",
      "tensor(0.7140)\n",
      "tensor(0.6881)\n",
      "tensor(0.7393)\n",
      "tensor(0.6884)\n",
      "tensor(0.7649)\n"
     ]
    },
    {
     "name": "stderr",
     "output_type": "stream",
     "text": [
      "595it [00:00, 731.21it/s]"
     ]
    },
    {
     "name": "stdout",
     "output_type": "stream",
     "text": [
      "tensor(0.6880)\n",
      "tensor(0.6882)\n",
      "tensor(0.5857)\n",
      "tensor(0.6881)\n",
      "tensor(0.6369)\n",
      "tensor(0.8407)\n",
      "tensor(0.6882)\n",
      "tensor(0.7398)\n",
      "tensor(0.7897)\n",
      "tensor(0.6886)\n",
      "tensor(0.6626)\n",
      "tensor(0.8154)\n",
      "tensor(0.6368)\n",
      "tensor(0.7388)\n",
      "tensor(0.6627)\n",
      "tensor(0.7647)\n",
      "tensor(0.7395)\n",
      "tensor(0.7392)\n",
      "tensor(0.7902)\n",
      "tensor(0.7136)\n",
      "tensor(0.7392)\n",
      "tensor(0.6628)\n",
      "tensor(0.6880)\n",
      "tensor(0.6622)\n",
      "tensor(0.7901)\n",
      "tensor(0.7645)\n",
      "tensor(0.6623)\n",
      "tensor(0.6622)\n",
      "tensor(0.6630)\n",
      "tensor(0.7140)\n",
      "tensor(0.6376)\n",
      "tensor(0.7395)\n",
      "tensor(0.7137)\n",
      "tensor(0.7900)\n",
      "tensor(0.6883)\n",
      "tensor(0.6879)\n",
      "tensor(0.6882)\n",
      "tensor(0.7134)\n",
      "tensor(0.7392)\n",
      "tensor(0.7134)\n",
      "tensor(0.7383)\n",
      "tensor(0.7644)\n",
      "tensor(0.6883)\n",
      "tensor(0.6373)\n",
      "tensor(0.6370)\n",
      "tensor(0.7646)\n",
      "tensor(0.6882)\n",
      "tensor(0.6882)\n",
      "tensor(0.7394)\n",
      "tensor(0.7131)\n",
      "tensor(0.8151)\n",
      "tensor(0.6878)\n",
      "tensor(0.7392)\n",
      "tensor(0.7135)\n",
      "tensor(0.7902)\n",
      "tensor(0.7900)\n",
      "tensor(0.7139)\n",
      "tensor(0.6880)\n",
      "tensor(0.7138)\n",
      "tensor(0.7902)\n",
      "tensor(0.7389)\n",
      "tensor(0.7645)\n",
      "tensor(0.6371)\n",
      "tensor(0.7644)\n",
      "tensor(0.7139)\n",
      "tensor(0.8157)\n",
      "tensor(0.7387)\n",
      "tensor(0.7134)\n",
      "tensor(0.6628)\n",
      "tensor(0.7397)\n",
      "tensor(0.6370)\n",
      "tensor(0.7136)\n",
      "tensor(0.7647)\n",
      "tensor(0.6879)\n",
      "tensor(0.7132)\n",
      "tensor(0.7140)\n",
      "tensor(0.7649)\n",
      "tensor(0.6883)\n",
      "tensor(0.5604)\n",
      "tensor(0.7385)\n",
      "tensor(0.5863)\n",
      "tensor(0.6879)\n",
      "tensor(0.6625)\n",
      "tensor(0.7387)\n",
      "tensor(0.6629)\n",
      "tensor(0.6880)\n",
      "tensor(0.7132)\n",
      "tensor(0.7135)\n",
      "tensor(0.7139)\n",
      "tensor(0.7902)\n",
      "tensor(0.7647)\n",
      "tensor(0.7131)\n",
      "tensor(0.6886)\n",
      "tensor(0.7649)\n",
      "tensor(0.7138)\n",
      "tensor(0.6878)\n",
      "tensor(0.6627)\n",
      "tensor(0.7136)\n",
      "tensor(0.7902)\n",
      "tensor(0.7391)\n",
      "tensor(0.7138)\n",
      "tensor(0.7898)\n",
      "tensor(0.7137)\n",
      "tensor(0.6882)\n",
      "tensor(0.6624)\n",
      "tensor(0.6374)\n",
      "tensor(0.7392)\n",
      "tensor(0.6625)\n",
      "tensor(0.6626)\n",
      "tensor(0.7387)\n",
      "tensor(0.7904)\n",
      "tensor(0.7393)\n",
      "tensor(0.7396)\n",
      "tensor(0.7644)\n",
      "tensor(0.6618)\n",
      "tensor(0.7134)\n",
      "tensor(0.6882)\n",
      "tensor(0.7390)\n",
      "tensor(0.6629)\n",
      "tensor(0.7391)\n",
      "tensor(0.6371)\n",
      "tensor(0.7135)\n",
      "tensor(0.6373)\n",
      "tensor(0.7136)\n",
      "tensor(0.7648)\n",
      "tensor(0.6374)\n",
      "tensor(0.7387)\n",
      "tensor(0.6624)\n",
      "tensor(0.7390)\n",
      "tensor(0.6621)\n",
      "tensor(0.8663)\n",
      "tensor(0.6627)\n",
      "tensor(0.7132)\n",
      "tensor(0.6880)\n",
      "tensor(0.7390)\n",
      "tensor(0.6878)\n",
      "tensor(0.6373)\n",
      "tensor(0.6369)\n",
      "tensor(0.6880)\n",
      "tensor(0.7132)\n",
      "tensor(0.7644)\n",
      "tensor(0.6627)\n",
      "tensor(0.7643)\n",
      "tensor(0.7645)\n",
      "tensor(0.7136)\n",
      "tensor(0.6883)\n",
      "tensor(0.7646)\n",
      "tensor(0.7135)\n",
      "tensor(0.6370)\n",
      "tensor(0.7393)\n",
      "tensor(0.6628)\n",
      "tensor(0.7391)\n",
      "tensor(0.7648)\n",
      "tensor(0.6629)\n",
      "tensor(0.7905)\n",
      "tensor(0.7136)\n",
      "tensor(0.7647)\n",
      "tensor(0.7642)\n",
      "tensor(0.6628)\n",
      "tensor(0.7136)\n",
      "tensor(0.6885)\n",
      "tensor(0.6365)\n"
     ]
    },
    {
     "name": "stderr",
     "output_type": "stream",
     "text": [
      "767it [00:01, 770.25it/s]"
     ]
    },
    {
     "name": "stdout",
     "output_type": "stream",
     "text": [
      "tensor(0.7647)\n",
      "tensor(0.6883)\n",
      "tensor(0.6626)\n",
      "tensor(0.7898)\n",
      "tensor(0.6626)\n",
      "tensor(0.6369)\n",
      "tensor(0.7136)\n",
      "tensor(0.7395)\n",
      "tensor(0.7132)\n",
      "tensor(0.7398)\n",
      "tensor(0.7898)\n",
      "tensor(0.6368)\n",
      "tensor(0.7137)\n",
      "tensor(0.7400)\n",
      "tensor(0.5860)\n",
      "tensor(0.7138)\n",
      "tensor(0.7903)\n",
      "tensor(0.7385)\n",
      "tensor(0.7644)\n",
      "tensor(0.6121)\n",
      "tensor(0.7900)\n",
      "tensor(0.6370)\n",
      "tensor(0.7132)\n",
      "tensor(0.6117)\n",
      "tensor(0.6624)\n",
      "tensor(0.6884)\n",
      "tensor(0.7384)\n",
      "tensor(0.6877)\n",
      "tensor(0.6372)\n",
      "tensor(0.7138)\n",
      "tensor(0.7903)\n",
      "tensor(0.7388)\n",
      "tensor(0.6626)\n",
      "tensor(0.7392)\n",
      "tensor(0.6879)\n",
      "tensor(0.6120)\n",
      "tensor(0.8413)\n",
      "tensor(0.7139)\n",
      "tensor(0.7391)\n",
      "tensor(0.7648)\n",
      "tensor(0.7391)\n",
      "tensor(0.7137)\n",
      "tensor(0.6881)\n",
      "tensor(0.6621)\n",
      "tensor(0.7899)\n",
      "tensor(0.7642)\n",
      "tensor(0.7387)\n",
      "tensor(0.7141)\n",
      "tensor(0.6882)\n",
      "tensor(0.6369)\n",
      "tensor(0.6886)\n",
      "tensor(0.6624)\n",
      "tensor(0.7657)\n",
      "tensor(0.6118)\n",
      "tensor(0.7141)\n",
      "tensor(0.7136)\n",
      "tensor(0.6369)\n",
      "tensor(0.6118)\n",
      "tensor(0.7392)\n",
      "tensor(0.6881)\n",
      "tensor(0.7647)\n",
      "tensor(0.5606)\n",
      "tensor(0.6877)\n",
      "tensor(0.6627)\n",
      "tensor(0.6626)\n",
      "tensor(0.6884)\n",
      "tensor(0.7394)\n",
      "tensor(0.7134)\n",
      "tensor(0.6116)\n",
      "tensor(0.7143)\n",
      "tensor(0.7389)\n",
      "tensor(0.7645)\n",
      "tensor(0.7139)\n",
      "tensor(0.7392)\n",
      "tensor(0.6625)\n",
      "tensor(0.6878)\n",
      "tensor(0.7136)\n",
      "tensor(0.6625)\n",
      "tensor(0.6624)\n",
      "tensor(0.7387)\n",
      "tensor(0.6629)\n",
      "tensor(0.6375)\n",
      "tensor(0.7387)\n",
      "tensor(0.6626)\n",
      "tensor(0.7393)\n",
      "tensor(0.6374)\n",
      "tensor(0.7646)\n",
      "tensor(0.6890)\n",
      "tensor(0.7389)\n",
      "tensor(0.7647)\n",
      "tensor(0.6878)\n",
      "tensor(0.7645)\n",
      "tensor(0.7644)\n",
      "tensor(0.7390)\n",
      "tensor(0.7138)\n",
      "tensor(0.7138)\n",
      "tensor(0.7644)\n",
      "tensor(0.7646)\n",
      "tensor(0.7639)\n",
      "tensor(0.7392)\n",
      "tensor(0.7653)\n",
      "tensor(0.7649)\n",
      "tensor(0.8668)\n",
      "tensor(0.7132)\n",
      "tensor(0.5863)\n",
      "tensor(0.6373)\n",
      "tensor(0.7389)\n",
      "tensor(0.7391)\n",
      "tensor(0.7645)\n",
      "tensor(0.6369)\n",
      "tensor(0.6369)\n",
      "tensor(0.6881)\n",
      "tensor(0.7388)\n",
      "tensor(0.7389)\n",
      "tensor(0.6116)\n",
      "tensor(0.6884)\n",
      "tensor(0.7641)\n",
      "tensor(0.6624)\n",
      "tensor(0.7391)\n",
      "tensor(0.6880)\n",
      "tensor(0.7645)\n",
      "tensor(0.6884)\n",
      "tensor(0.6373)\n",
      "tensor(0.7896)\n",
      "tensor(0.7391)\n",
      "tensor(0.7131)\n",
      "tensor(0.7140)\n",
      "tensor(0.6625)\n",
      "tensor(0.6885)\n",
      "tensor(0.7394)\n",
      "tensor(0.6881)\n",
      "tensor(0.7393)\n",
      "tensor(0.7645)\n",
      "tensor(0.7134)\n",
      "tensor(0.7131)\n",
      "tensor(0.7135)\n",
      "tensor(0.7902)\n",
      "tensor(0.7647)\n",
      "tensor(0.8153)\n",
      "tensor(0.7390)\n",
      "tensor(0.7136)\n",
      "tensor(0.7646)\n",
      "tensor(0.6883)\n",
      "tensor(0.7137)\n",
      "tensor(0.7644)\n",
      "tensor(0.7385)\n",
      "tensor(0.7134)\n",
      "tensor(0.7392)\n",
      "tensor(0.7142)\n",
      "tensor(0.6880)\n",
      "tensor(0.6880)\n",
      "tensor(0.6631)\n",
      "tensor(0.6883)\n",
      "tensor(0.6376)\n",
      "tensor(0.6113)\n",
      "tensor(0.7132)\n",
      "tensor(0.6629)\n",
      "tensor(0.7897)\n",
      "tensor(0.7643)\n",
      "tensor(0.7391)\n",
      "tensor(0.7136)\n"
     ]
    },
    {
     "name": "stderr",
     "output_type": "stream",
     "text": [
      "851it [00:01, 790.41it/s]"
     ]
    },
    {
     "name": "stdout",
     "output_type": "stream",
     "text": [
      "tensor(0.7138)\n",
      "tensor(0.7391)\n",
      "tensor(0.6621)\n",
      "tensor(0.6879)\n",
      "tensor(0.6882)\n",
      "tensor(0.7134)\n",
      "tensor(0.7385)\n",
      "tensor(0.7652)\n",
      "tensor(0.6881)\n",
      "tensor(0.7645)\n",
      "tensor(0.6365)\n",
      "tensor(0.7645)\n",
      "tensor(0.6635)\n",
      "tensor(0.6372)\n",
      "tensor(0.6877)\n",
      "tensor(0.7394)\n",
      "tensor(0.7391)\n",
      "tensor(0.7649)\n",
      "tensor(0.6877)\n",
      "tensor(0.6367)\n",
      "tensor(0.7139)\n",
      "tensor(0.7392)\n",
      "tensor(0.7646)\n",
      "tensor(0.7392)\n",
      "tensor(0.7646)\n",
      "tensor(0.7392)\n",
      "tensor(0.6880)\n",
      "tensor(0.6878)\n",
      "tensor(0.6627)\n",
      "tensor(0.7393)\n",
      "tensor(0.6369)\n",
      "tensor(0.7647)\n",
      "tensor(0.6375)\n",
      "tensor(0.6882)\n",
      "tensor(0.6624)\n",
      "tensor(0.8154)\n",
      "tensor(0.7139)\n",
      "tensor(0.7640)\n",
      "tensor(0.7899)\n",
      "tensor(0.7394)\n",
      "tensor(0.6115)\n",
      "tensor(0.6372)\n",
      "tensor(0.7138)\n",
      "tensor(0.7895)\n",
      "tensor(0.6631)\n",
      "tensor(0.6116)\n",
      "tensor(0.6625)\n",
      "tensor(0.8150)\n",
      "tensor(0.7645)\n",
      "tensor(0.7648)\n",
      "tensor(0.6116)\n",
      "tensor(0.7132)\n",
      "tensor(0.7646)\n",
      "tensor(0.7132)\n",
      "tensor(0.7391)\n",
      "tensor(0.7134)\n",
      "tensor(0.7132)\n",
      "tensor(0.7386)\n",
      "tensor(0.7905)\n",
      "tensor(0.7133)\n",
      "tensor(0.6882)\n",
      "tensor(0.7903)\n",
      "tensor(0.7136)\n",
      "tensor(0.7390)\n",
      "tensor(0.8672)\n",
      "tensor(0.6883)\n",
      "tensor(0.7392)\n",
      "tensor(0.7137)\n",
      "tensor(0.7140)\n",
      "tensor(0.6621)\n",
      "tensor(0.6626)\n",
      "tensor(0.7646)\n",
      "tensor(0.7899)\n",
      "tensor(0.7643)\n",
      "tensor(0.7643)\n",
      "tensor(0.7647)\n",
      "tensor(0.7396)\n",
      "tensor(0.7648)\n",
      "tensor(0.7898)\n",
      "tensor(0.7902)\n",
      "tensor(0.7135)\n",
      "tensor(0.6886)\n",
      "tensor(0.7643)\n",
      "tensor(0.7649)\n",
      "tensor(0.7898)\n",
      "tensor(0.8161)\n",
      "tensor(0.7138)\n",
      "tensor(0.6881)\n",
      "tensor(0.6622)\n",
      "tensor(0.7894)\n",
      "tensor(0.7134)\n",
      "tensor(0.6621)\n",
      "tensor(0.6879)\n",
      "tensor(0.7136)\n",
      "tensor(0.6626)\n",
      "tensor(0.7136)\n"
     ]
    },
    {
     "name": "stderr",
     "output_type": "stream",
     "text": [
      "931it [00:01, 477.61it/s]"
     ]
    },
    {
     "name": "stdout",
     "output_type": "stream",
     "text": [
      "tensor(0.7390)\n",
      "tensor(0.6370)\n",
      "tensor(0.6368)\n",
      "tensor(0.7392)\n",
      "tensor(0.7391)\n",
      "tensor(0.7135)\n",
      "tensor(0.7136)\n",
      "tensor(0.7137)\n",
      "tensor(0.6625)\n",
      "tensor(0.7394)\n",
      "tensor(0.6877)\n",
      "tensor(0.7897)\n",
      "tensor(0.7649)\n",
      "tensor(0.6625)\n",
      "tensor(0.7899)\n",
      "tensor(0.7896)\n",
      "tensor(0.7395)\n",
      "tensor(0.7651)\n",
      "tensor(0.6370)\n",
      "tensor(0.7391)\n",
      "tensor(0.6628)\n",
      "tensor(0.6371)\n",
      "tensor(0.7650)\n",
      "tensor(0.6624)\n",
      "tensor(0.6884)\n",
      "tensor(0.6624)\n",
      "tensor(0.7388)\n",
      "tensor(0.7395)\n",
      "tensor(0.6116)\n",
      "tensor(0.6375)\n",
      "tensor(0.7136)\n",
      "tensor(0.7140)\n",
      "tensor(0.6372)\n",
      "tensor(0.7904)\n",
      "tensor(0.7392)\n",
      "tensor(0.7140)\n",
      "tensor(0.7391)\n",
      "tensor(0.7135)\n",
      "tensor(0.7138)\n",
      "tensor(0.6625)\n",
      "tensor(0.7134)\n",
      "tensor(0.6880)\n",
      "tensor(0.8155)\n",
      "tensor(0.7391)\n",
      "tensor(0.7134)\n",
      "tensor(0.6630)\n",
      "tensor(0.6880)\n",
      "tensor(0.6626)\n",
      "tensor(0.7390)\n",
      "tensor(0.7649)\n",
      "tensor(0.8154)\n",
      "tensor(0.6374)\n",
      "tensor(0.7133)\n"
     ]
    },
    {
     "name": "stderr",
     "output_type": "stream",
     "text": [
      "1064it [00:01, 537.00it/s]"
     ]
    },
    {
     "name": "stdout",
     "output_type": "stream",
     "text": [
      "tensor(0.7648)\n",
      "tensor(0.6883)\n",
      "tensor(0.6878)\n",
      "tensor(0.7390)\n",
      "tensor(0.6879)\n",
      "tensor(0.6370)\n",
      "tensor(0.7383)\n",
      "tensor(0.6879)\n",
      "tensor(0.7900)\n",
      "tensor(0.7644)\n",
      "tensor(0.6633)\n",
      "tensor(0.6883)\n",
      "tensor(0.7387)\n",
      "tensor(0.7133)\n",
      "tensor(0.6620)\n",
      "tensor(0.7136)\n",
      "tensor(0.7137)\n",
      "tensor(0.7391)\n",
      "tensor(0.7391)\n",
      "tensor(0.7391)\n",
      "tensor(0.6622)\n",
      "tensor(0.7136)\n",
      "tensor(0.7397)\n",
      "tensor(0.6372)\n",
      "tensor(0.7141)\n",
      "tensor(0.7389)\n",
      "tensor(0.6627)\n",
      "tensor(0.6878)\n",
      "tensor(0.7134)\n",
      "tensor(0.6622)\n",
      "tensor(0.6373)\n",
      "tensor(0.7385)\n",
      "tensor(0.7135)\n",
      "tensor(0.6883)\n",
      "tensor(0.6367)\n",
      "tensor(0.7135)\n",
      "tensor(0.6880)\n",
      "tensor(0.7141)\n",
      "tensor(0.7130)\n",
      "tensor(0.6881)\n",
      "tensor(0.7391)\n",
      "tensor(0.7393)\n",
      "tensor(0.7645)\n",
      "tensor(0.7136)\n",
      "tensor(0.7133)\n",
      "tensor(0.7134)\n",
      "tensor(0.7391)\n",
      "tensor(0.6628)\n",
      "tensor(0.6887)\n",
      "tensor(0.6631)\n",
      "tensor(0.7391)\n",
      "tensor(0.6878)\n",
      "tensor(0.6621)\n",
      "tensor(0.7396)\n",
      "tensor(0.7134)\n",
      "tensor(0.7647)\n",
      "tensor(0.6880)\n",
      "tensor(0.7899)\n",
      "tensor(0.6883)\n",
      "tensor(0.8153)\n",
      "tensor(0.8657)\n",
      "tensor(0.6884)\n",
      "tensor(0.6375)\n",
      "tensor(0.7136)\n",
      "tensor(0.6629)\n",
      "tensor(0.8155)\n",
      "tensor(0.7391)\n",
      "tensor(0.7135)\n",
      "tensor(0.7899)\n",
      "tensor(0.6371)\n",
      "tensor(0.8156)\n",
      "tensor(0.6630)\n",
      "tensor(0.7647)\n",
      "tensor(0.6886)\n",
      "tensor(0.7136)\n",
      "tensor(0.7648)\n",
      "tensor(0.8154)\n",
      "tensor(0.7647)\n",
      "tensor(0.7138)\n",
      "tensor(0.6625)\n",
      "tensor(0.7394)\n",
      "tensor(0.6369)\n",
      "tensor(0.7648)\n",
      "tensor(0.7137)\n",
      "tensor(0.7137)\n",
      "tensor(0.6881)\n",
      "tensor(0.7896)\n",
      "tensor(0.7391)\n",
      "tensor(0.6116)\n",
      "tensor(0.6884)\n",
      "tensor(0.7388)\n",
      "tensor(0.7388)\n",
      "tensor(0.7389)\n",
      "tensor(0.6120)\n",
      "tensor(0.6884)\n",
      "tensor(0.7643)\n",
      "tensor(0.7643)\n",
      "tensor(0.6878)\n",
      "tensor(0.6375)\n",
      "tensor(0.7393)\n",
      "tensor(0.7645)\n",
      "tensor(0.6624)\n",
      "tensor(0.7393)\n",
      "tensor(0.6880)\n",
      "tensor(0.7138)\n",
      "tensor(0.6627)\n",
      "tensor(0.6630)\n",
      "tensor(0.6882)\n",
      "tensor(0.7647)\n",
      "tensor(0.7137)\n",
      "tensor(0.7391)\n",
      "tensor(0.6625)\n",
      "tensor(0.6887)\n",
      "tensor(0.6884)\n",
      "tensor(0.6625)\n",
      "tensor(0.6372)\n",
      "tensor(0.5860)\n",
      "tensor(0.6882)\n",
      "tensor(0.6882)\n",
      "tensor(0.6623)\n",
      "tensor(0.7136)\n",
      "tensor(0.7140)\n",
      "tensor(0.6627)\n",
      "tensor(0.7394)\n",
      "tensor(0.7646)\n",
      "tensor(0.6369)\n",
      "tensor(0.5860)\n",
      "tensor(0.7137)\n",
      "tensor(0.7135)"
     ]
    },
    {
     "name": "stderr",
     "output_type": "stream",
     "text": [
      "1216it [00:02, 631.14it/s]"
     ]
    },
    {
     "name": "stdout",
     "output_type": "stream",
     "text": [
      "\n",
      "tensor(0.7903)\n",
      "tensor(0.7388)\n",
      "tensor(0.6626)\n",
      "tensor(0.6883)\n",
      "tensor(0.6369)\n",
      "tensor(0.7137)\n",
      "tensor(0.7136)\n",
      "tensor(0.7390)\n",
      "tensor(0.7394)\n",
      "tensor(0.6371)\n",
      "tensor(0.6624)\n",
      "tensor(0.7388)\n",
      "tensor(0.5608)\n",
      "tensor(0.6116)\n",
      "tensor(0.7644)\n",
      "tensor(0.6884)\n",
      "tensor(0.7390)\n",
      "tensor(0.7647)\n",
      "tensor(0.7641)\n",
      "tensor(0.7135)\n",
      "tensor(0.6878)\n",
      "tensor(0.7647)\n",
      "tensor(0.7139)\n",
      "tensor(0.6884)\n",
      "tensor(0.7904)\n",
      "tensor(0.7135)\n",
      "tensor(0.6115)\n",
      "tensor(0.6371)\n",
      "tensor(0.6373)\n",
      "tensor(0.6368)\n",
      "tensor(0.6879)\n",
      "tensor(0.7137)\n",
      "tensor(0.7646)\n",
      "tensor(0.7133)\n",
      "tensor(0.7137)\n",
      "tensor(0.7388)\n",
      "tensor(0.6372)\n",
      "tensor(0.7646)\n",
      "tensor(0.6878)\n",
      "tensor(0.6880)\n",
      "tensor(0.7899)\n",
      "tensor(0.7137)\n",
      "tensor(0.6626)\n",
      "tensor(0.7643)\n",
      "tensor(0.6887)\n",
      "tensor(0.7141)\n",
      "tensor(0.7134)\n",
      "tensor(0.7392)\n",
      "tensor(0.6622)\n",
      "tensor(0.7141)\n",
      "tensor(0.6627)\n",
      "tensor(0.7139)\n",
      "tensor(0.6881)\n",
      "tensor(0.7136)\n",
      "tensor(0.8412)\n",
      "tensor(0.6374)\n",
      "tensor(0.6880)\n",
      "tensor(0.7650)\n",
      "tensor(0.8157)\n",
      "tensor(0.7391)\n",
      "tensor(0.6624)\n",
      "tensor(0.8148)\n",
      "tensor(0.6622)\n",
      "tensor(0.7390)\n",
      "tensor(0.7139)\n",
      "tensor(0.6879)\n",
      "tensor(0.7649)\n",
      "tensor(0.6117)\n",
      "tensor(0.6881)\n",
      "tensor(0.7389)\n",
      "tensor(0.7651)\n",
      "tensor(0.6877)\n",
      "tensor(0.7647)\n",
      "tensor(0.6879)\n",
      "tensor(0.6884)\n",
      "tensor(0.8406)\n",
      "tensor(0.7131)\n",
      "tensor(0.6886)\n",
      "tensor(0.7642)\n",
      "tensor(0.6625)\n",
      "tensor(0.7644)\n",
      "tensor(0.7644)\n",
      "tensor(0.7390)\n",
      "tensor(0.6882)\n",
      "tensor(0.8411)\n",
      "tensor(0.6369)\n",
      "tensor(0.6880)\n",
      "tensor(0.7133)\n",
      "tensor(0.6373)\n",
      "tensor(0.7135)\n",
      "tensor(0.7138)\n",
      "tensor(0.8157)\n",
      "tensor(0.6627)\n",
      "tensor(0.7647)\n",
      "tensor(0.7135)\n",
      "tensor(0.6628)\n",
      "tensor(0.7648)\n",
      "tensor(0.6369)\n",
      "tensor(0.7642)\n",
      "tensor(0.7139)\n",
      "tensor(0.6885)\n",
      "tensor(0.7137)\n",
      "tensor(0.6375)\n",
      "tensor(0.6366)\n",
      "tensor(0.7652)\n",
      "tensor(0.6879)\n",
      "tensor(0.7640)\n",
      "tensor(0.6368)\n",
      "tensor(0.6877)\n",
      "tensor(0.6371)\n",
      "tensor(0.8159)\n",
      "tensor(0.7135)\n",
      "tensor(0.6878)\n",
      "tensor(0.7648)\n",
      "tensor(0.6630)\n",
      "tensor(0.8156)\n",
      "tensor(0.6627)\n",
      "tensor(0.6879)\n",
      "tensor(0.7646)\n",
      "tensor(0.6882)\n",
      "tensor(0.6629)\n",
      "tensor(0.6623)\n",
      "tensor(0.7641)\n",
      "tensor(0.6371)\n",
      "tensor(0.6626)\n",
      "tensor(0.7388)\n",
      "tensor(0.8153)\n",
      "tensor(0.7903)\n",
      "tensor(0.7130)\n",
      "tensor(0.7646)\n",
      "tensor(0.7901)\n",
      "tensor(0.7388)\n",
      "tensor(0.8154)\n",
      "tensor(0.7398)\n",
      "tensor(0.8151)\n",
      "tensor(0.7139)\n",
      "tensor(0.6878)\n",
      "tensor(0.7391)\n",
      "tensor(0.6882)\n",
      "tensor(0.6623)\n",
      "tensor(0.7134)\n",
      "tensor(0.6116)\n",
      "tensor(0.6628)\n",
      "tensor(0.6884)\n",
      "tensor(0.7140)\n",
      "tensor(0.6623)\n",
      "tensor(0.7133)\n",
      "tensor(0.7646)\n",
      "tensor(0.6884)\n",
      "tensor(0.6622)\n",
      "tensor(0.7646)\n",
      "tensor(0.7908)\n",
      "tensor(0.6619)\n",
      "tensor(0.7645)\n",
      "tensor(0.7906)\n",
      "tensor(0.7390)\n",
      "tensor(0.6627)\n",
      "tensor(0.6629)\n",
      "tensor(0.6883)\n",
      "tensor(0.7646)\n",
      "tensor(0.6883)\n",
      "tensor(0.7137)\n",
      "tensor(0.6625)\n",
      "tensor(0.8411)\n",
      "tensor(0.7127)\n",
      "tensor(0.7394)\n",
      "tensor(0.7136)\n",
      "tensor(0.7391)\n",
      "tensor(0.6372)\n",
      "tensor(0.7141)\n",
      "tensor(0.6376)\n",
      "tensor(0.6620)\n",
      "tensor(0.7135)\n",
      "tensor(0.8158)\n",
      "tensor(0.6883)\n",
      "tensor(0.8158)\n",
      "tensor(0.7393)\n",
      "tensor(0.6374)\n",
      "tensor(0.6628)\n",
      "tensor(0.7136)\n",
      "tensor(0.6624)\n",
      "tensor(0.7645)\n",
      "tensor(0.6878)\n",
      "tensor(0.6884)\n",
      "tensor(0.7136)\n",
      "tensor(0.6371)\n",
      "tensor(0.7397)\n",
      "tensor(0.6881)\n",
      "tensor(0.7645)\n",
      "tensor(0.5857)\n",
      "tensor(0.6879)\n",
      "tensor(0.7390)\n",
      "tensor(0.7644)\n",
      "tensor(0.6882)\n",
      "tensor(0.7643)\n",
      "tensor(0.6626)\n",
      "tensor(0.7138)\n",
      "tensor(0.7390)\n",
      "tensor(0.6874)\n",
      "tensor(0.7134)\n",
      "tensor(0.6623)\n",
      "tensor(0.6115)\n",
      "tensor(0.7903)\n",
      "tensor(0.8159)\n",
      "tensor(0.8405)\n",
      "tensor(0.7896)\n",
      "tensor(0.7646)\n",
      "tensor(0.7135)\n",
      "tensor(0.7135)\n",
      "tensor(0.7388)\n",
      "tensor(0.6884)\n",
      "tensor(0.7134)\n",
      "tensor(0.6881)\n",
      "tensor(0.6367)\n",
      "tensor(0.7135)\n",
      "tensor(0.7390)\n"
     ]
    },
    {
     "name": "stderr",
     "output_type": "stream",
     "text": [
      "1344it [00:02, 469.08it/s]"
     ]
    },
    {
     "name": "stdout",
     "output_type": "stream",
     "text": [
      "tensor(0.7648)\n",
      "tensor(0.7643)\n",
      "tensor(0.7896)\n",
      "tensor(0.6369)\n",
      "tensor(0.6882)\n",
      "tensor(0.7135)\n",
      "tensor(0.7898)\n",
      "tensor(0.7139)\n",
      "tensor(0.7902)\n",
      "tensor(0.7900)\n",
      "tensor(0.7137)\n",
      "tensor(0.7397)\n",
      "tensor(0.7390)\n",
      "tensor(0.7138)\n",
      "tensor(0.7386)\n",
      "tensor(0.6884)\n",
      "tensor(0.7388)\n",
      "tensor(0.7138)\n",
      "tensor(0.7650)\n",
      "tensor(0.8150)\n",
      "tensor(0.7133)\n",
      "tensor(0.7647)\n",
      "tensor(0.6884)\n",
      "tensor(0.8152)\n",
      "tensor(0.6627)\n",
      "tensor(0.6881)\n",
      "tensor(0.7389)\n",
      "tensor(0.7646)\n",
      "tensor(0.7136)\n",
      "tensor(0.7642)\n",
      "tensor(0.6882)\n",
      "tensor(0.6626)\n",
      "tensor(0.5862)\n",
      "tensor(0.7388)\n",
      "tensor(0.7395)\n",
      "tensor(0.6882)\n",
      "tensor(0.7133)\n",
      "tensor(0.6877)\n",
      "tensor(0.7394)\n",
      "tensor(0.7645)\n",
      "tensor(0.6121)\n",
      "tensor(0.7645)\n",
      "tensor(0.7394)\n",
      "tensor(0.7649)\n",
      "tensor(0.7137)\n",
      "tensor(0.6630)\n",
      "tensor(0.7645)\n",
      "tensor(0.6373)\n",
      "tensor(0.7645)\n",
      "tensor(0.7641)\n",
      "tensor(0.7900)\n",
      "tensor(0.6888)\n",
      "tensor(0.7132)\n",
      "tensor(0.7645)\n",
      "tensor(0.7647)\n",
      "tensor(0.7128)\n",
      "tensor(0.8151)\n",
      "tensor(0.7898)\n",
      "tensor(0.6883)\n",
      "tensor(0.7643)\n",
      "tensor(0.6370)\n",
      "tensor(0.6632)\n",
      "tensor(0.6879)\n",
      "tensor(0.6115)\n",
      "tensor(0.6877)\n",
      "tensor(0.7138)\n",
      "tensor(0.6877)\n",
      "tensor(0.6884)\n",
      "tensor(0.6371)\n",
      "tensor(0.6627)\n",
      "tensor(0.6626)\n",
      "tensor(0.7904)\n",
      "tensor(0.7902)\n",
      "tensor(0.7904)\n",
      "tensor(0.6881)\n",
      "tensor(0.6626)\n",
      "tensor(0.7131)\n",
      "tensor(0.7392)\n",
      "tensor(0.6626)\n",
      "tensor(0.7394)\n",
      "tensor(0.6881)\n",
      "tensor(0.7648)\n",
      "tensor(0.7139)\n",
      "tensor(0.7135)\n",
      "tensor(0.6629)\n",
      "tensor(0.6368)\n",
      "tensor(0.5864)\n",
      "tensor(0.7136)\n",
      "tensor(0.8157)\n",
      "tensor(0.7385)\n",
      "tensor(0.6620)\n",
      "tensor(0.7900)\n",
      "tensor(0.7387)\n",
      "tensor(0.6371)\n",
      "tensor(0.6623)\n",
      "tensor(0.7903)\n",
      "tensor(0.7139)\n",
      "tensor(0.6624)\n",
      "tensor(0.6621)\n",
      "tensor(0.7136)\n"
     ]
    },
    {
     "name": "stderr",
     "output_type": "stream",
     "text": [
      "1470it [00:02, 505.99it/s]"
     ]
    },
    {
     "name": "stdout",
     "output_type": "stream",
     "text": [
      "tensor(0.7387)\n",
      "tensor(0.7651)\n",
      "tensor(0.6885)\n",
      "tensor(0.7902)\n",
      "tensor(0.6884)\n",
      "tensor(0.7132)\n",
      "tensor(0.7645)\n",
      "tensor(0.6622)\n",
      "tensor(0.7137)\n",
      "tensor(0.6119)\n",
      "tensor(0.7136)\n",
      "tensor(0.6884)\n",
      "tensor(0.6372)\n",
      "tensor(0.6881)\n",
      "tensor(0.6626)\n",
      "tensor(0.7140)\n",
      "tensor(0.6878)\n",
      "tensor(0.5861)\n",
      "tensor(0.6375)\n",
      "tensor(0.7388)\n",
      "tensor(0.6883)\n",
      "tensor(0.6878)\n",
      "tensor(0.7904)\n",
      "tensor(0.6880)\n",
      "tensor(0.7137)\n",
      "tensor(0.6369)\n",
      "tensor(0.6887)\n",
      "tensor(0.7645)\n",
      "tensor(0.7132)\n",
      "tensor(0.7643)\n",
      "tensor(0.8152)\n",
      "tensor(0.7130)\n",
      "tensor(0.7641)\n",
      "tensor(0.8153)\n",
      "tensor(0.7135)\n",
      "tensor(0.7387)\n",
      "tensor(0.6879)\n",
      "tensor(0.5860)\n",
      "tensor(0.7136)\n",
      "tensor(0.6368)\n",
      "tensor(0.7132)\n",
      "tensor(0.7647)\n",
      "tensor(0.7899)\n",
      "tensor(0.7395)\n",
      "tensor(0.7643)\n",
      "tensor(0.7649)\n",
      "tensor(0.7135)\n",
      "tensor(0.7904)\n",
      "tensor(0.7137)\n",
      "tensor(0.6881)\n",
      "tensor(0.7643)\n",
      "tensor(0.6369)\n",
      "tensor(0.7639)\n",
      "tensor(0.8413)\n",
      "tensor(0.7392)\n",
      "tensor(0.7135)\n",
      "tensor(0.6625)\n",
      "tensor(0.7392)\n",
      "tensor(0.8151)\n",
      "tensor(0.7392)\n",
      "tensor(0.7136)\n",
      "tensor(0.6877)\n",
      "tensor(0.7137)\n",
      "tensor(0.7646)\n",
      "tensor(0.7393)\n",
      "tensor(0.7386)\n",
      "tensor(0.7395)\n",
      "tensor(0.8150)\n",
      "tensor(0.6369)\n",
      "tensor(0.6372)\n",
      "tensor(0.7646)\n",
      "tensor(0.6618)\n",
      "tensor(0.7140)\n",
      "tensor(0.7388)\n",
      "tensor(0.6375)\n",
      "tensor(0.7646)\n",
      "tensor(0.7137)\n",
      "tensor(0.7902)\n",
      "tensor(0.6622)\n",
      "tensor(0.7392)\n",
      "tensor(0.7390)\n",
      "tensor(0.6631)\n",
      "tensor(0.6369)\n",
      "tensor(0.7138)\n",
      "tensor(0.7384)\n",
      "tensor(0.7644)\n",
      "tensor(0.7395)\n",
      "tensor(0.7135)\n",
      "tensor(0.6625)\n",
      "tensor(0.8154)\n",
      "tensor(0.7390)\n",
      "tensor(0.7137)\n",
      "tensor(0.7133)\n",
      "tensor(0.7135)\n",
      "tensor(0.7904)\n",
      "tensor(0.7393)\n",
      "tensor(0.7393)\n",
      "tensor(0.6368)\n",
      "tensor(0.7394)\n",
      "tensor(0.7138)\n",
      "tensor(0.6627)\n",
      "tensor(0.6376)\n",
      "tensor(0.7136)\n",
      "tensor(0.6881)\n",
      "tensor(0.6630)\n"
     ]
    },
    {
     "name": "stderr",
     "output_type": "stream",
     "text": [
      "1534it [00:02, 537.95it/s]"
     ]
    },
    {
     "name": "stdout",
     "output_type": "stream",
     "text": [
      "tensor(0.8154)\n",
      "tensor(0.7389)\n",
      "tensor(0.8150)\n",
      "tensor(0.6624)\n",
      "tensor(0.7392)\n",
      "tensor(0.7651)\n",
      "tensor(0.6882)\n",
      "tensor(0.7134)\n",
      "tensor(0.6627)\n",
      "tensor(0.7144)\n",
      "tensor(0.7387)\n",
      "tensor(0.7135)\n",
      "tensor(0.7390)\n",
      "tensor(0.6115)\n",
      "tensor(0.7394)\n",
      "tensor(0.7137)\n",
      "tensor(0.8153)\n",
      "tensor(0.7133)\n",
      "tensor(0.7394)\n",
      "tensor(0.7643)\n",
      "tensor(0.6113)\n",
      "tensor(0.6625)\n",
      "tensor(0.6628)\n",
      "tensor(0.6878)\n",
      "tensor(0.6880)\n",
      "tensor(0.6876)\n",
      "tensor(0.7392)\n",
      "tensor(0.7130)\n",
      "tensor(0.7395)\n",
      "tensor(0.7140)\n",
      "tensor(0.7138)\n",
      "tensor(0.6628)\n",
      "tensor(0.7646)\n",
      "tensor(0.7649)\n",
      "tensor(0.6881)\n",
      "tensor(0.8158)\n",
      "tensor(0.6878)\n",
      "tensor(0.7140)\n",
      "tensor(0.7139)\n",
      "tensor(0.6112)\n",
      "tensor(0.6884)\n",
      "tensor(0.7142)\n",
      "tensor(0.7143)\n",
      "tensor(0.7394)\n",
      "tensor(0.7386)\n",
      "tensor(0.7139)\n",
      "tensor(0.7392)\n",
      "tensor(0.7895)\n",
      "tensor(0.8154)\n",
      "tensor(0.7392)\n",
      "tensor(0.6624)\n",
      "tensor(0.6626)\n",
      "tensor(0.6625)\n",
      "tensor(0.6880)\n",
      "tensor(0.7644)\n",
      "tensor(0.6883)\n",
      "tensor(0.6882)\n",
      "tensor(0.6626)\n",
      "tensor(0.7391)\n",
      "tensor(0.6375)\n",
      "tensor(0.7394)\n",
      "tensor(0.7137)\n",
      "tensor(0.7899)\n",
      "tensor(0.7648)\n",
      "tensor(0.7138)\n",
      "tensor(0.7393)\n",
      "tensor(0.7139)\n",
      "tensor(0.6371)\n",
      "tensor(0.7390)\n",
      "tensor(0.7646)\n",
      "tensor(0.6884)\n",
      "tensor(0.7895)\n",
      "tensor(0.7393)\n",
      "tensor(0.7139)\n",
      "tensor(0.6877)\n",
      "tensor(0.7393)\n",
      "tensor(0.6882)\n",
      "tensor(0.7139)\n",
      "tensor(0.6371)\n",
      "tensor(0.7390)\n",
      "tensor(0.7136)\n",
      "tensor(0.7645)\n",
      "tensor(0.6878)\n",
      "tensor(0.6885)\n",
      "tensor(0.6881)\n",
      "tensor(0.6370)\n",
      "tensor(0.7390)\n",
      "tensor(0.7390)\n",
      "tensor(0.7900)\n",
      "tensor(0.7394)\n",
      "tensor(0.5864)\n"
     ]
    },
    {
     "name": "stderr",
     "output_type": "stream",
     "text": [
      "1652it [00:03, 475.85it/s]"
     ]
    },
    {
     "name": "stdout",
     "output_type": "stream",
     "text": [
      "tensor(0.6368)\n",
      "tensor(0.7387)\n",
      "tensor(0.6879)\n",
      "tensor(0.7137)\n",
      "tensor(0.6877)\n",
      "tensor(0.7137)\n",
      "tensor(0.7135)\n",
      "tensor(0.7386)\n",
      "tensor(0.7392)\n",
      "tensor(0.7912)\n",
      "tensor(0.6881)\n",
      "tensor(0.7389)\n",
      "tensor(0.7139)\n",
      "tensor(0.7390)\n",
      "tensor(0.6879)\n",
      "tensor(0.7390)\n",
      "tensor(0.7645)\n",
      "tensor(0.7389)\n",
      "tensor(0.6373)\n",
      "tensor(0.7902)\n",
      "tensor(0.7388)\n",
      "tensor(0.7395)\n",
      "tensor(0.7138)\n",
      "tensor(0.7391)\n",
      "tensor(0.7134)\n",
      "tensor(0.6625)\n",
      "tensor(0.6628)\n",
      "tensor(0.7134)\n",
      "tensor(0.6377)\n",
      "tensor(0.7641)\n",
      "tensor(0.6370)\n",
      "tensor(0.6885)\n",
      "tensor(0.7133)\n",
      "tensor(0.7645)\n",
      "tensor(0.7132)\n",
      "tensor(0.7387)\n",
      "tensor(0.7647)\n",
      "tensor(0.7646)\n",
      "tensor(0.7897)\n",
      "tensor(0.7131)\n",
      "tensor(0.7642)\n",
      "tensor(0.7137)\n",
      "tensor(0.7391)\n",
      "tensor(0.7646)\n",
      "tensor(0.7136)\n",
      "tensor(0.6370)\n",
      "tensor(0.6878)\n",
      "tensor(0.6883)\n",
      "tensor(0.7647)\n",
      "tensor(0.7643)\n",
      "tensor(0.6371)\n",
      "tensor(0.6372)\n",
      "tensor(0.6374)\n",
      "tensor(0.7142)\n",
      "tensor(0.6882)\n",
      "tensor(0.6880)\n",
      "tensor(0.7394)\n",
      "tensor(0.6629)\n",
      "tensor(0.7647)\n",
      "tensor(0.7135)\n",
      "tensor(0.6369)\n",
      "tensor(0.7643)\n",
      "tensor(0.7136)\n",
      "tensor(0.7136)\n",
      "tensor(0.7390)\n",
      "tensor(0.7135)\n",
      "tensor(0.7644)\n",
      "tensor(0.7903)\n",
      "tensor(0.7137)\n",
      "tensor(0.6885)\n",
      "tensor(0.6371)\n",
      "tensor(0.6373)\n",
      "tensor(0.7130)\n",
      "tensor(0.7389)\n",
      "tensor(0.6880)\n",
      "tensor(0.7647)\n",
      "tensor(0.7645)\n",
      "tensor(0.7646)\n",
      "tensor(0.7644)\n",
      "tensor(0.6626)\n",
      "tensor(0.6883)\n",
      "tensor(0.7896)\n",
      "tensor(0.7645)\n",
      "tensor(0.7134)\n",
      "tensor(0.7388)\n",
      "tensor(0.6877)\n",
      "tensor(0.6623)\n",
      "tensor(0.6882)\n",
      "tensor(0.7652)\n",
      "tensor(0.6878)\n",
      "tensor(0.6881)\n",
      "tensor(0.7137)\n",
      "tensor(0.6880)\n",
      "tensor(0.7642)\n",
      "tensor(0.8159)\n",
      "tensor(0.6368)\n",
      "tensor(0.7136)\n",
      "tensor(0.6882)\n",
      "tensor(0.6883)\n",
      "tensor(0.7398)\n",
      "tensor(0.5605)\n",
      "tensor(0.6626)\n",
      "tensor(0.7141)\n",
      "tensor(0.7136)\n",
      "tensor(0.6882)\n",
      "tensor(0.7137)\n",
      "tensor(0.6625)\n",
      "tensor(0.6881)\n",
      "tensor(0.7392)\n",
      "tensor(0.7138)\n",
      "tensor(0.8157)\n",
      "tensor(0.6627)\n",
      "tensor(0.7387)\n",
      "tensor(0.6372)\n",
      "tensor(0.6879)\n",
      "tensor(0.7651)\n",
      "tensor(0.7140)\n",
      "tensor(0.7131)\n",
      "tensor(0.7645)\n",
      "tensor(0.6625)\n",
      "tensor(0.6369)\n",
      "tensor(0.6113)\n"
     ]
    },
    {
     "name": "stderr",
     "output_type": "stream",
     "text": [
      "1827it [00:03, 640.04it/s]"
     ]
    },
    {
     "name": "stdout",
     "output_type": "stream",
     "text": [
      "tensor(0.7646)\n",
      "tensor(0.8670)\n",
      "tensor(0.7649)\n",
      "tensor(0.5859)\n",
      "tensor(0.6881)\n",
      "tensor(0.6880)\n",
      "tensor(0.6373)\n",
      "tensor(0.6877)\n",
      "tensor(0.6631)\n",
      "tensor(0.7397)\n",
      "tensor(0.6372)\n",
      "tensor(0.7133)\n",
      "tensor(0.6374)\n",
      "tensor(0.7644)\n",
      "tensor(0.6115)\n",
      "tensor(0.7137)\n",
      "tensor(0.6628)\n",
      "tensor(0.7902)\n",
      "tensor(0.7643)\n",
      "tensor(0.7896)\n",
      "tensor(0.7133)\n",
      "tensor(0.6626)\n",
      "tensor(0.7898)\n",
      "tensor(0.7900)\n",
      "tensor(0.7644)\n",
      "tensor(0.6627)\n",
      "tensor(0.7646)\n",
      "tensor(0.5863)\n",
      "tensor(0.6369)\n",
      "tensor(0.7646)\n",
      "tensor(0.7389)\n",
      "tensor(0.6879)\n",
      "tensor(0.6622)\n",
      "tensor(0.7387)\n",
      "tensor(0.7393)\n",
      "tensor(0.7654)\n",
      "tensor(0.6624)\n",
      "tensor(0.7393)\n",
      "tensor(0.7397)\n",
      "tensor(0.6629)\n",
      "tensor(0.7902)\n",
      "tensor(0.7136)\n",
      "tensor(0.6882)\n",
      "tensor(0.6889)\n",
      "tensor(0.7641)\n",
      "tensor(0.7134)\n",
      "tensor(0.7391)\n",
      "tensor(0.6880)\n",
      "tensor(0.7647)\n",
      "tensor(0.6887)\n",
      "tensor(0.7137)\n",
      "tensor(0.6627)\n",
      "tensor(0.7136)\n",
      "tensor(0.7390)\n",
      "tensor(0.7646)\n",
      "tensor(0.6627)\n",
      "tensor(0.6878)\n",
      "tensor(0.7139)\n",
      "tensor(0.7643)\n",
      "tensor(0.6366)\n",
      "tensor(0.7648)\n",
      "tensor(0.7138)\n",
      "tensor(0.7135)\n",
      "tensor(0.6880)\n",
      "tensor(0.6370)\n",
      "tensor(0.6878)\n",
      "tensor(0.6624)\n",
      "tensor(0.6629)\n",
      "tensor(0.6881)\n",
      "tensor(0.6624)\n",
      "tensor(0.6118)\n",
      "tensor(0.7140)\n",
      "tensor(0.7394)\n",
      "tensor(0.7388)\n",
      "tensor(0.6881)\n",
      "tensor(0.6879)\n",
      "tensor(0.6624)\n",
      "tensor(0.7389)\n",
      "tensor(0.8155)\n",
      "tensor(0.6628)\n",
      "tensor(0.6369)\n",
      "tensor(0.6882)\n",
      "tensor(0.7133)\n",
      "tensor(0.7388)\n",
      "tensor(0.6878)\n",
      "tensor(0.6370)\n",
      "tensor(0.7901)\n",
      "tensor(0.6624)\n",
      "tensor(0.7390)\n",
      "tensor(0.7390)\n",
      "tensor(0.7646)\n",
      "tensor(0.7135)\n",
      "tensor(0.6630)\n",
      "tensor(0.6884)\n",
      "tensor(0.7387)\n",
      "tensor(0.6622)\n",
      "tensor(0.6881)\n",
      "tensor(0.6878)\n",
      "tensor(0.6370)\n",
      "tensor(0.7904)\n",
      "tensor(0.7133)\n",
      "tensor(0.7390)\n",
      "tensor(0.7645)\n",
      "tensor(0.6625)\n",
      "tensor(0.6879)\n",
      "tensor(0.7391)\n",
      "tensor(0.6629)\n",
      "tensor(0.7393)\n",
      "tensor(0.7644)\n",
      "tensor(0.7137)\n",
      "tensor(0.7900)\n",
      "tensor(0.7135)\n",
      "tensor(0.6627)\n",
      "tensor(0.7389)\n",
      "tensor(0.7385)\n",
      "tensor(0.6883)\n",
      "tensor(0.6880)\n",
      "tensor(0.7397)\n",
      "tensor(0.7646)\n",
      "tensor(0.8154)\n",
      "tensor(0.7395)\n",
      "tensor(0.6372)\n",
      "tensor(0.7644)\n",
      "tensor(0.7899)\n",
      "tensor(0.7396)\n",
      "tensor(0.7136)\n",
      "tensor(0.7140)\n",
      "tensor(0.7387)\n",
      "tensor(0.7137)\n",
      "tensor(0.6627)\n",
      "tensor(0.7137)\n",
      "tensor(0.7135)\n",
      "tensor(0.6626)\n",
      "tensor(0.7394)\n",
      "tensor(0.8157)\n",
      "tensor(0.7391)\n",
      "tensor(0.6875)\n",
      "tensor(0.7394)\n",
      "tensor(0.7391)\n",
      "tensor(0.6623)\n",
      "tensor(0.7391)\n",
      "tensor(0.7138)\n",
      "tensor(0.5862)\n",
      "tensor(0.8156)\n",
      "tensor(0.6118)\n",
      "tensor(0.7396)\n",
      "tensor(0.7133)\n",
      "tensor(0.7391)\n",
      "tensor(0.7137)\n",
      "tensor(0.7391)\n",
      "tensor(0.6883)\n",
      "tensor(0.7133)\n",
      "tensor(0.7393)\n",
      "tensor(0.7644)\n",
      "tensor(0.7649)\n",
      "tensor(0.7135)\n",
      "tensor(0.8157)\n",
      "tensor(0.7389)\n",
      "tensor(0.6883)\n",
      "tensor(0.7133)\n",
      "tensor(0.7899)\n",
      "tensor(0.6117)\n",
      "tensor(0.7141)\n",
      "tensor(0.6881)\n",
      "tensor(0.7389)\n",
      "tensor(0.6119)\n",
      "tensor(0.7389)\n",
      "tensor(0.7133)\n",
      "tensor(0.6626)\n",
      "tensor(0.6630)\n",
      "tensor(0.6372)\n",
      "tensor(0.6882)\n",
      "tensor(0.6626)\n",
      "tensor(0.6879)\n",
      "tensor(0.6373)\n",
      "tensor(0.7645)\n"
     ]
    },
    {
     "name": "stderr",
     "output_type": "stream",
     "text": [
      "2002it [00:03, 713.28it/s]"
     ]
    },
    {
     "name": "stdout",
     "output_type": "stream",
     "text": [
      "tensor(0.7649)\n",
      "tensor(0.7132)\n",
      "tensor(0.6629)\n",
      "tensor(0.7392)\n",
      "tensor(0.7643)\n",
      "tensor(0.7387)\n",
      "tensor(0.7391)\n",
      "tensor(0.7902)\n",
      "tensor(0.6886)\n",
      "tensor(0.6115)\n",
      "tensor(0.7138)\n",
      "tensor(0.6629)\n",
      "tensor(0.7140)\n",
      "tensor(0.7394)\n",
      "tensor(0.6881)\n",
      "tensor(0.6626)\n",
      "tensor(0.6376)\n",
      "tensor(0.7898)\n",
      "tensor(0.5862)\n",
      "tensor(0.7643)\n",
      "tensor(0.7641)\n",
      "tensor(0.7135)\n",
      "tensor(0.6632)\n",
      "tensor(0.7141)\n",
      "tensor(0.7905)\n",
      "tensor(0.6879)\n",
      "tensor(0.7900)\n",
      "tensor(0.7901)\n",
      "tensor(0.8156)\n",
      "tensor(0.7395)\n",
      "tensor(0.7395)\n",
      "tensor(0.6626)\n",
      "tensor(0.7390)\n",
      "tensor(0.6879)\n",
      "tensor(0.7393)\n",
      "tensor(0.8154)\n",
      "tensor(0.7648)\n",
      "tensor(0.6881)\n",
      "tensor(0.8411)\n",
      "tensor(0.6887)\n",
      "tensor(0.6372)\n",
      "tensor(0.7138)\n",
      "tensor(0.7391)\n",
      "tensor(0.7134)\n",
      "tensor(0.7388)\n",
      "tensor(0.7134)\n",
      "tensor(0.6629)\n",
      "tensor(0.6375)\n",
      "tensor(0.6880)\n",
      "tensor(0.6880)\n",
      "tensor(0.7136)\n",
      "tensor(0.7901)\n",
      "tensor(0.6881)\n",
      "tensor(0.7649)\n",
      "tensor(0.6370)\n",
      "tensor(0.7644)\n",
      "tensor(0.6882)\n",
      "tensor(0.7389)\n",
      "tensor(0.6884)\n",
      "tensor(0.6885)\n",
      "tensor(0.7900)\n",
      "tensor(0.7903)\n",
      "tensor(0.7134)\n",
      "tensor(0.7391)\n",
      "tensor(0.7643)\n",
      "tensor(0.7649)\n",
      "tensor(0.7133)\n",
      "tensor(0.7645)\n",
      "tensor(0.6629)\n",
      "tensor(0.7134)\n",
      "tensor(0.7137)\n",
      "tensor(0.6627)\n",
      "tensor(0.6623)\n",
      "tensor(0.6622)\n",
      "tensor(0.7897)\n",
      "tensor(0.6886)\n",
      "tensor(0.6626)\n",
      "tensor(0.7389)\n",
      "tensor(0.6115)\n",
      "tensor(0.6625)\n",
      "tensor(0.7648)\n",
      "tensor(0.7391)\n",
      "tensor(0.7135)\n",
      "tensor(0.7651)\n",
      "tensor(0.7391)\n",
      "tensor(0.7133)\n",
      "tensor(0.7391)\n",
      "tensor(0.7647)\n",
      "tensor(0.7645)\n",
      "tensor(0.7388)\n",
      "tensor(0.6618)\n",
      "tensor(0.7389)\n",
      "tensor(0.7897)\n",
      "tensor(0.7136)\n",
      "tensor(0.6115)\n",
      "tensor(0.6369)\n",
      "tensor(0.7388)\n",
      "tensor(0.7390)\n",
      "tensor(0.6630)\n",
      "tensor(0.6113)\n",
      "tensor(0.6626)\n",
      "tensor(0.6629)\n",
      "tensor(0.7391)\n",
      "tensor(0.8150)\n",
      "tensor(0.7645)\n",
      "tensor(0.6630)\n",
      "tensor(0.7138)\n",
      "tensor(0.6625)\n",
      "tensor(0.7390)\n",
      "tensor(0.7650)\n",
      "tensor(0.7134)\n",
      "tensor(0.7133)\n",
      "tensor(0.7646)\n",
      "tensor(0.7398)\n",
      "tensor(0.7649)\n",
      "tensor(0.7385)\n",
      "tensor(0.7643)\n",
      "tensor(0.6622)\n",
      "tensor(0.7134)\n",
      "tensor(0.6881)\n",
      "tensor(0.7135)\n",
      "tensor(0.6884)\n",
      "tensor(0.7643)\n",
      "tensor(0.6884)\n",
      "tensor(0.6625)\n",
      "tensor(0.6372)\n",
      "tensor(0.7138)\n",
      "tensor(0.6372)\n",
      "tensor(0.7137)\n",
      "tensor(0.7648)\n",
      "tensor(0.6374)\n",
      "tensor(0.7392)\n",
      "tensor(0.7646)\n",
      "tensor(0.6626)\n",
      "tensor(0.7132)\n",
      "tensor(0.7133)\n",
      "tensor(0.7136)\n",
      "tensor(0.7644)\n",
      "tensor(0.7643)\n",
      "tensor(0.6629)\n",
      "tensor(0.7387)\n",
      "tensor(0.7392)\n",
      "tensor(0.6883)\n",
      "tensor(0.7391)\n",
      "tensor(0.7132)\n",
      "tensor(0.6880)\n",
      "tensor(0.7648)\n",
      "tensor(0.6881)\n",
      "tensor(0.6627)\n",
      "tensor(0.7387)\n",
      "tensor(0.6881)\n",
      "tensor(0.6882)\n",
      "tensor(0.7388)\n",
      "tensor(0.6879)\n",
      "tensor(0.7649)\n",
      "tensor(0.6373)\n",
      "tensor(0.7135)\n",
      "tensor(0.7649)\n",
      "tensor(0.7651)\n",
      "tensor(0.6626)\n",
      "tensor(0.7899)\n",
      "tensor(0.6883)\n",
      "tensor(0.7139)\n",
      "tensor(0.7393)\n",
      "tensor(0.7394)\n"
     ]
    },
    {
     "name": "stderr",
     "output_type": "stream",
     "text": [
      "2191it [00:03, 808.12it/s]"
     ]
    },
    {
     "name": "stdout",
     "output_type": "stream",
     "text": [
      "tensor(0.6621)\n",
      "tensor(0.6372)\n",
      "tensor(0.7898)\n",
      "tensor(0.6876)\n",
      "tensor(0.6625)\n",
      "tensor(0.6882)\n",
      "tensor(0.7134)\n",
      "tensor(0.6623)\n",
      "tensor(0.6883)\n",
      "tensor(0.7139)\n",
      "tensor(0.6880)\n",
      "tensor(0.7900)\n",
      "tensor(0.7645)\n",
      "tensor(0.7645)\n",
      "tensor(0.7394)\n",
      "tensor(0.6880)\n",
      "tensor(0.6371)\n",
      "tensor(0.7646)\n",
      "tensor(0.7387)\n",
      "tensor(0.7141)\n",
      "tensor(0.6874)\n",
      "tensor(0.7901)\n",
      "tensor(0.7648)\n",
      "tensor(0.7644)\n",
      "tensor(0.7141)\n",
      "tensor(0.7395)\n",
      "tensor(0.7902)\n",
      "tensor(0.7397)\n",
      "tensor(0.6369)\n",
      "tensor(0.7387)\n",
      "tensor(0.7390)\n",
      "tensor(0.6886)\n",
      "tensor(0.7139)\n",
      "tensor(0.7136)\n",
      "tensor(0.6626)\n",
      "tensor(0.6630)\n",
      "tensor(0.6882)\n",
      "tensor(0.6637)\n",
      "tensor(0.6884)\n",
      "tensor(0.6879)\n",
      "tensor(0.7133)\n",
      "tensor(0.6629)\n",
      "tensor(0.6622)\n",
      "tensor(0.7393)\n",
      "tensor(0.7388)\n",
      "tensor(0.7394)\n",
      "tensor(0.6623)\n",
      "tensor(0.7392)\n",
      "tensor(0.6881)\n",
      "tensor(0.6375)\n",
      "tensor(0.6877)\n",
      "tensor(0.7393)\n",
      "tensor(0.7381)\n",
      "tensor(0.6624)\n",
      "tensor(0.6630)\n",
      "tensor(0.7138)\n",
      "tensor(0.6367)\n",
      "tensor(0.7646)\n",
      "tensor(0.6628)\n",
      "tensor(0.7645)\n",
      "tensor(0.6884)\n",
      "tensor(0.6371)\n",
      "tensor(0.7644)\n",
      "tensor(0.7388)\n",
      "tensor(0.7136)\n",
      "tensor(0.7133)\n",
      "tensor(0.6368)\n",
      "tensor(0.7388)\n",
      "tensor(0.8153)\n",
      "tensor(0.7390)\n",
      "tensor(0.7139)\n",
      "tensor(0.7393)\n",
      "tensor(0.7139)\n",
      "tensor(0.6373)\n",
      "tensor(0.6627)\n",
      "tensor(0.6618)\n",
      "tensor(0.7649)\n",
      "tensor(0.6626)\n",
      "tensor(0.7648)\n",
      "tensor(0.6374)\n",
      "tensor(0.7142)\n",
      "tensor(0.7137)\n",
      "tensor(0.6879)\n",
      "tensor(0.6885)\n",
      "tensor(0.7387)\n",
      "tensor(0.6626)\n",
      "tensor(0.7139)\n",
      "tensor(0.6879)\n",
      "tensor(0.6117)\n",
      "tensor(0.7389)\n",
      "tensor(0.6883)\n",
      "tensor(0.6884)\n",
      "tensor(0.7643)\n",
      "tensor(0.6880)\n",
      "tensor(0.6628)\n",
      "tensor(0.7128)\n",
      "tensor(0.7138)\n",
      "tensor(0.6370)\n",
      "tensor(0.6880)\n",
      "tensor(0.7645)\n",
      "tensor(0.5866)\n",
      "tensor(0.7643)\n",
      "tensor(0.6628)\n",
      "tensor(0.6373)\n",
      "tensor(0.7134)\n",
      "tensor(0.7387)\n",
      "tensor(0.7389)\n",
      "tensor(0.7645)\n",
      "tensor(0.6880)\n",
      "tensor(0.6624)\n",
      "tensor(0.6881)\n",
      "tensor(0.7141)\n",
      "tensor(0.6874)\n",
      "tensor(0.6878)\n",
      "tensor(0.6117)\n",
      "tensor(0.5860)\n",
      "tensor(0.6629)\n",
      "tensor(0.6881)\n",
      "tensor(0.7134)\n",
      "tensor(0.8161)\n",
      "tensor(0.7130)\n",
      "tensor(0.6881)\n",
      "tensor(0.6883)\n",
      "tensor(0.7395)\n",
      "tensor(0.6878)\n",
      "tensor(0.6625)\n",
      "tensor(0.6879)\n",
      "tensor(0.6878)\n",
      "tensor(0.6881)\n",
      "tensor(0.7391)\n",
      "tensor(0.6369)\n",
      "tensor(0.6622)\n",
      "tensor(0.6881)\n",
      "tensor(0.7134)\n",
      "tensor(0.7135)\n",
      "tensor(0.8672)\n",
      "tensor(0.7647)\n",
      "tensor(0.6376)\n",
      "tensor(0.7136)\n",
      "tensor(0.6625)\n",
      "tensor(0.6629)\n",
      "tensor(0.6628)\n",
      "tensor(0.6114)\n",
      "tensor(0.6373)\n",
      "tensor(0.6885)\n",
      "tensor(0.6881)\n",
      "tensor(0.6373)\n",
      "tensor(0.7639)\n",
      "tensor(0.6877)\n",
      "tensor(0.7395)\n",
      "tensor(0.7651)\n",
      "tensor(0.8156)\n",
      "tensor(0.7896)\n",
      "tensor(0.6627)\n",
      "tensor(0.7131)\n",
      "tensor(0.8153)\n",
      "tensor(0.7902)\n",
      "tensor(0.6884)\n",
      "tensor(0.6117)\n",
      "tensor(0.7904)\n",
      "tensor(0.6887)\n",
      "tensor(0.8415)\n",
      "tensor(0.7388)\n",
      "tensor(0.6373)\n",
      "tensor(0.6630)\n",
      "tensor(0.6368)\n",
      "tensor(0.6627)\n",
      "tensor(0.6373)\n",
      "tensor(0.6628)\n",
      "tensor(0.6624)\n",
      "tensor(0.6374)\n",
      "tensor(0.7655)\n",
      "tensor(0.6625)\n",
      "tensor(0.6875)\n",
      "tensor(0.7141)\n",
      "tensor(0.6884)\n",
      "tensor(0.7647)\n",
      "tensor(0.7139)\n",
      "tensor(0.7131)\n",
      "tensor(0.6625)\n",
      "tensor(0.7640)\n",
      "tensor(0.6113)\n",
      "tensor(0.7389)\n",
      "tensor(0.7136)\n"
     ]
    },
    {
     "name": "stderr",
     "output_type": "stream",
     "text": [
      "2318it [00:03, 614.87it/s]"
     ]
    },
    {
     "name": "stdout",
     "output_type": "stream",
     "text": [
      "tensor(0.6628)\n",
      "tensor(0.6620)\n",
      "tensor(0.6880)\n",
      "tensor(0.7648)\n",
      "tensor(0.6879)\n",
      "tensor(0.6621)\n",
      "tensor(0.7905)\n",
      "tensor(0.7139)\n",
      "tensor(0.7391)\n",
      "tensor(0.6883)\n",
      "tensor(0.6115)\n",
      "tensor(0.7903)\n",
      "tensor(0.6114)\n",
      "tensor(0.7136)\n",
      "tensor(0.6627)\n",
      "tensor(0.7387)\n",
      "tensor(0.7648)\n",
      "tensor(0.7900)\n",
      "tensor(0.7136)\n",
      "tensor(0.6117)\n",
      "tensor(0.6371)\n",
      "tensor(0.6878)\n",
      "tensor(0.7136)\n",
      "tensor(0.7390)\n",
      "tensor(0.6881)\n",
      "tensor(0.7644)\n",
      "tensor(0.6120)\n",
      "tensor(0.6626)\n",
      "tensor(0.6879)\n",
      "tensor(0.7387)\n",
      "tensor(0.7134)\n",
      "tensor(0.6625)\n",
      "tensor(0.7647)\n",
      "tensor(0.8152)\n",
      "tensor(0.7394)\n",
      "tensor(0.7392)\n",
      "tensor(0.7390)\n",
      "tensor(0.7643)\n",
      "tensor(0.7390)\n",
      "tensor(0.6116)\n",
      "tensor(0.7393)\n",
      "tensor(0.7136)\n",
      "tensor(0.7395)\n",
      "tensor(0.7394)\n",
      "tensor(0.6624)\n",
      "tensor(0.7135)\n",
      "tensor(0.8156)\n",
      "tensor(0.6369)\n",
      "tensor(0.6368)\n",
      "tensor(0.7137)\n",
      "tensor(0.6371)\n",
      "tensor(0.6623)\n",
      "tensor(0.7390)\n",
      "tensor(0.7139)\n",
      "tensor(0.6881)\n",
      "tensor(0.6626)\n",
      "tensor(0.7649)\n",
      "tensor(0.6883)\n",
      "tensor(0.7647)\n",
      "tensor(0.6883)\n",
      "tensor(0.7394)\n",
      "tensor(0.6879)\n",
      "tensor(0.6882)\n",
      "tensor(0.7136)\n",
      "tensor(0.6881)\n",
      "tensor(0.6879)\n",
      "tensor(0.7905)\n",
      "tensor(0.7645)\n",
      "tensor(0.6880)\n",
      "tensor(0.8418)\n",
      "tensor(0.6621)\n",
      "tensor(0.6626)\n",
      "tensor(0.6878)\n",
      "tensor(0.6625)\n",
      "tensor(0.6116)\n",
      "tensor(0.7138)\n",
      "tensor(0.7642)\n",
      "tensor(0.6371)\n",
      "tensor(0.6886)\n",
      "tensor(0.7134)\n",
      "tensor(0.7386)\n",
      "tensor(0.6884)\n",
      "tensor(0.7644)\n",
      "tensor(0.7645)\n",
      "tensor(0.6623)\n",
      "tensor(0.6373)\n",
      "tensor(0.7391)\n",
      "tensor(0.7392)\n",
      "tensor(0.7126)\n",
      "tensor(0.7137)\n",
      "tensor(0.7387)\n",
      "tensor(0.6879)\n",
      "tensor(0.6365)\n",
      "tensor(0.5098)\n"
     ]
    },
    {
     "name": "stderr",
     "output_type": "stream",
     "text": [
      "\n"
     ]
    }
   ],
   "source": [
    "with torch.no_grad():\n",
    "    test_y_pred=[]\n",
    "    test_y_true=[]\n",
    "    for i, (x, y_true) in tqdm(enumerate(test_dataloader)):\n",
    "        y_pred = model(x)\n",
    "        test_y_pred.append(y_pred)\n",
    "        test_y_true.append(y_true)\n",
    "        loss = model.loss_fn(y_pred, y_true)\n",
    "        print(loss)\n",
    "        "
   ]
  },
  {
   "cell_type": "code",
   "execution_count": null,
   "metadata": {},
   "outputs": [],
   "source": []
  },
  {
   "cell_type": "code",
   "execution_count": null,
   "metadata": {},
   "outputs": [],
   "source": []
  }
 ],
 "metadata": {
  "interpreter": {
   "hash": "45d80257ccf4ae77bb116447a323b4ded5c7d4f4eb3ea993cf039511269910c8"
  },
  "kernelspec": {
   "display_name": "Python 3.8.8 64-bit ('base': conda)",
   "language": "python",
   "name": "python3"
  },
  "language_info": {
   "codemirror_mode": {
    "name": "ipython",
    "version": 3
   },
   "file_extension": ".py",
   "mimetype": "text/x-python",
   "name": "python",
   "nbconvert_exporter": "python",
   "pygments_lexer": "ipython3",
   "version": "3.8.8"
  },
  "orig_nbformat": 4
 },
 "nbformat": 4,
 "nbformat_minor": 2
}
