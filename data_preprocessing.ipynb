{
 "cells": [
  {
   "cell_type": "markdown",
   "metadata": {},
   "source": [
    "# Load Data"
   ]
  },
  {
   "cell_type": "code",
   "execution_count": null,
   "metadata": {},
   "outputs": [
    {
     "data": {
      "text/html": [
       "<div>\n",
       "<style scoped>\n",
       "    .dataframe tbody tr th:only-of-type {\n",
       "        vertical-align: middle;\n",
       "    }\n",
       "\n",
       "    .dataframe tbody tr th {\n",
       "        vertical-align: top;\n",
       "    }\n",
       "\n",
       "    .dataframe thead th {\n",
       "        text-align: right;\n",
       "    }\n",
       "</style>\n",
       "<table border=\"1\" class=\"dataframe\">\n",
       "  <thead>\n",
       "    <tr style=\"text-align: right;\">\n",
       "      <th></th>\n",
       "      <th>id</th>\n",
       "      <th>name</th>\n",
       "      <th>artists</th>\n",
       "      <th>duration_ms</th>\n",
       "      <th>popularity</th>\n",
       "      <th>release_date</th>\n",
       "      <th>tempo</th>\n",
       "      <th>key</th>\n",
       "      <th>liveness</th>\n",
       "    </tr>\n",
       "  </thead>\n",
       "  <tbody>\n",
       "    <tr>\n",
       "      <th>0</th>\n",
       "      <td>4BJqT0PrAfrxzMOxytFOIz</td>\n",
       "      <td>Piano Concerto No. 3 in D Minor, Op. 30: III. ...</td>\n",
       "      <td>['Sergei Rachmaninoff', 'James Levine', 'Berli...</td>\n",
       "      <td>831667</td>\n",
       "      <td>4</td>\n",
       "      <td>1921</td>\n",
       "      <td>80.954</td>\n",
       "      <td>10</td>\n",
       "      <td>0.665</td>\n",
       "    </tr>\n",
       "    <tr>\n",
       "      <th>1</th>\n",
       "      <td>7xPhfUan2yNtyFG0cUWkt8</td>\n",
       "      <td>Clancy Lowered the Boom</td>\n",
       "      <td>['Dennis Day']</td>\n",
       "      <td>180533</td>\n",
       "      <td>5</td>\n",
       "      <td>1921</td>\n",
       "      <td>60.936</td>\n",
       "      <td>7</td>\n",
       "      <td>0.160</td>\n",
       "    </tr>\n",
       "    <tr>\n",
       "      <th>2</th>\n",
       "      <td>1o6I8BglA6ylDMrIELygv1</td>\n",
       "      <td>Gati Bali</td>\n",
       "      <td>['KHP Kridhamardawa Karaton Ngayogyakarta Hadi...</td>\n",
       "      <td>500062</td>\n",
       "      <td>5</td>\n",
       "      <td>1921</td>\n",
       "      <td>110.339</td>\n",
       "      <td>3</td>\n",
       "      <td>0.101</td>\n",
       "    </tr>\n",
       "    <tr>\n",
       "      <th>3</th>\n",
       "      <td>3ftBPsC5vPBKxYSee08FDH</td>\n",
       "      <td>Danny Boy</td>\n",
       "      <td>['Frank Parker']</td>\n",
       "      <td>210000</td>\n",
       "      <td>3</td>\n",
       "      <td>1921</td>\n",
       "      <td>100.109</td>\n",
       "      <td>5</td>\n",
       "      <td>0.381</td>\n",
       "    </tr>\n",
       "    <tr>\n",
       "      <th>4</th>\n",
       "      <td>4d6HGyGT8e121BsdKmw9v6</td>\n",
       "      <td>When Irish Eyes Are Smiling</td>\n",
       "      <td>['Phil Regan']</td>\n",
       "      <td>166693</td>\n",
       "      <td>2</td>\n",
       "      <td>1921</td>\n",
       "      <td>101.665</td>\n",
       "      <td>3</td>\n",
       "      <td>0.229</td>\n",
       "    </tr>\n",
       "  </tbody>\n",
       "</table>\n",
       "</div>"
      ],
      "text/plain": [
       "                       id                                               name  \\\n",
       "0  4BJqT0PrAfrxzMOxytFOIz  Piano Concerto No. 3 in D Minor, Op. 30: III. ...   \n",
       "1  7xPhfUan2yNtyFG0cUWkt8                            Clancy Lowered the Boom   \n",
       "2  1o6I8BglA6ylDMrIELygv1                                          Gati Bali   \n",
       "3  3ftBPsC5vPBKxYSee08FDH                                          Danny Boy   \n",
       "4  4d6HGyGT8e121BsdKmw9v6                        When Irish Eyes Are Smiling   \n",
       "\n",
       "                                             artists  duration_ms  popularity  \\\n",
       "0  ['Sergei Rachmaninoff', 'James Levine', 'Berli...       831667           4   \n",
       "1                                     ['Dennis Day']       180533           5   \n",
       "2  ['KHP Kridhamardawa Karaton Ngayogyakarta Hadi...       500062           5   \n",
       "3                                   ['Frank Parker']       210000           3   \n",
       "4                                     ['Phil Regan']       166693           2   \n",
       "\n",
       "  release_date    tempo  key  liveness  \n",
       "0         1921   80.954   10     0.665  \n",
       "1         1921   60.936    7     0.160  \n",
       "2         1921  110.339    3     0.101  \n",
       "3         1921  100.109    5     0.381  \n",
       "4         1921  101.665    3     0.229  "
      ]
     },
     "execution_count": 1,
     "metadata": {},
     "output_type": "execute_result"
    }
   ],
   "source": [
    "import pandas as pd\n",
    "from mmcv import Config\n",
    "from utils import *\n",
    "import numpy as np\n",
    "\n",
    "#the config file has \n",
    "config_path = '/Users/KC/My Drive/soundmouse/config/cfg_setting.py'\n",
    "cfg = Config.fromfile(config_path)\n",
    "df = pd.read_csv(cfg.filepath_load)\n",
    "df.head()\n"
   ]
  },
  {
   "cell_type": "markdown",
   "metadata": {},
   "source": [
    "Get info of the Spotify feature"
   ]
  },
  {
   "cell_type": "code",
   "execution_count": null,
   "metadata": {},
   "outputs": [],
   "source": [
    "#connect to spotify api\n",
    "sp = spotify_api(cfg)"
   ]
  },
  {
   "cell_type": "code",
   "execution_count": 3,
   "metadata": {},
   "outputs": [],
   "source": [
    "#print spotify api info.\n",
    "track_id = '1aIcPHRxqEgQWS7diagkF5'\n",
    "\n",
    "#spotify audio\n",
    "fts = sp.audio_features(track_id)\n",
    "tra= sp.track(track_id)\n",
    "\n",
    "#print out a example of the audio_feature function\n",
    "print('\\naudio feature: ',fts[0])\n",
    "print('\\naudio feature keys: ',fts[0].keys())\n",
    "\n",
    "#print out a example of the track function\n",
    "print('\\nname: ',tra['name']) \n",
    "print('\\nsample: ', tra['preview_url'])\n",
    "print('\\ntrack keys: ', tra.keys())\n",
    "print('\\ntrack preview_url: ', tra['preview_url'])\n",
    "print('\\ntrack name: ', tra['name'])"
   ]
  },
  {
   "cell_type": "markdown",
   "metadata": {},
   "source": [
    "create audio feature file as .csv file"
   ]
  },
  {
   "cell_type": "code",
   "execution_count": null,
   "metadata": {},
   "outputs": [],
   "source": [
    "# create_feat_file(cfg, df, sp, filename='test.csv', return_value=False)"
   ]
  },
  {
   "cell_type": "markdown",
   "metadata": {},
   "source": [
    "load audio feature file from saved file"
   ]
  },
  {
   "cell_type": "code",
   "execution_count": null,
   "metadata": {},
   "outputs": [],
   "source": [
    "filename = 'audio_feats.csv'\n",
    "path = cfg.filepath_save + filename\n",
    "\n",
    "#df2 is audio_feature data downloaded from spotify api\n",
    "df2 = pd.read_csv(path)"
   ]
  },
  {
   "cell_type": "code",
   "execution_count": null,
   "metadata": {},
   "outputs": [
    {
     "data": {
      "text/html": [
       "<div>\n",
       "<style scoped>\n",
       "    .dataframe tbody tr th:only-of-type {\n",
       "        vertical-align: middle;\n",
       "    }\n",
       "\n",
       "    .dataframe tbody tr th {\n",
       "        vertical-align: top;\n",
       "    }\n",
       "\n",
       "    .dataframe thead th {\n",
       "        text-align: right;\n",
       "    }\n",
       "</style>\n",
       "<table border=\"1\" class=\"dataframe\">\n",
       "  <thead>\n",
       "    <tr style=\"text-align: right;\">\n",
       "      <th></th>\n",
       "      <th>danceability</th>\n",
       "      <th>energy</th>\n",
       "      <th>key</th>\n",
       "      <th>loudness</th>\n",
       "      <th>mode</th>\n",
       "      <th>speechiness</th>\n",
       "      <th>acousticness</th>\n",
       "      <th>instrumentalness</th>\n",
       "      <th>liveness</th>\n",
       "      <th>valence</th>\n",
       "      <th>tempo</th>\n",
       "      <th>type</th>\n",
       "      <th>id</th>\n",
       "      <th>uri</th>\n",
       "      <th>track_href</th>\n",
       "      <th>analysis_url</th>\n",
       "      <th>duration_ms</th>\n",
       "      <th>time_signature</th>\n",
       "      <th>name</th>\n",
       "    </tr>\n",
       "  </thead>\n",
       "  <tbody>\n",
       "    <tr>\n",
       "      <th>0</th>\n",
       "      <td>0.279</td>\n",
       "      <td>0.211</td>\n",
       "      <td>10</td>\n",
       "      <td>-20.096</td>\n",
       "      <td>1</td>\n",
       "      <td>0.0366</td>\n",
       "      <td>0.982</td>\n",
       "      <td>0.878000</td>\n",
       "      <td>0.665</td>\n",
       "      <td>0.0594</td>\n",
       "      <td>80.954</td>\n",
       "      <td>audio_features</td>\n",
       "      <td>4BJqT0PrAfrxzMOxytFOIz</td>\n",
       "      <td>spotify:track:4BJqT0PrAfrxzMOxytFOIz</td>\n",
       "      <td>https://api.spotify.com/v1/tracks/4BJqT0PrAfrx...</td>\n",
       "      <td>https://api.spotify.com/v1/audio-analysis/4BJq...</td>\n",
       "      <td>831667</td>\n",
       "      <td>4</td>\n",
       "      <td>Piano Concerto No. 3 in D Minor, Op. 30: III. ...</td>\n",
       "    </tr>\n",
       "    <tr>\n",
       "      <th>1</th>\n",
       "      <td>0.819</td>\n",
       "      <td>0.341</td>\n",
       "      <td>7</td>\n",
       "      <td>-12.441</td>\n",
       "      <td>1</td>\n",
       "      <td>0.4150</td>\n",
       "      <td>0.732</td>\n",
       "      <td>0.000000</td>\n",
       "      <td>0.160</td>\n",
       "      <td>0.9630</td>\n",
       "      <td>60.936</td>\n",
       "      <td>audio_features</td>\n",
       "      <td>7xPhfUan2yNtyFG0cUWkt8</td>\n",
       "      <td>spotify:track:7xPhfUan2yNtyFG0cUWkt8</td>\n",
       "      <td>https://api.spotify.com/v1/tracks/7xPhfUan2yNt...</td>\n",
       "      <td>https://api.spotify.com/v1/audio-analysis/7xPh...</td>\n",
       "      <td>180533</td>\n",
       "      <td>4</td>\n",
       "      <td>Clancy Lowered the Boom</td>\n",
       "    </tr>\n",
       "    <tr>\n",
       "      <th>2</th>\n",
       "      <td>0.328</td>\n",
       "      <td>0.166</td>\n",
       "      <td>3</td>\n",
       "      <td>-14.850</td>\n",
       "      <td>1</td>\n",
       "      <td>0.0339</td>\n",
       "      <td>0.961</td>\n",
       "      <td>0.913000</td>\n",
       "      <td>0.101</td>\n",
       "      <td>0.0394</td>\n",
       "      <td>110.339</td>\n",
       "      <td>audio_features</td>\n",
       "      <td>1o6I8BglA6ylDMrIELygv1</td>\n",
       "      <td>spotify:track:1o6I8BglA6ylDMrIELygv1</td>\n",
       "      <td>https://api.spotify.com/v1/tracks/1o6I8BglA6yl...</td>\n",
       "      <td>https://api.spotify.com/v1/audio-analysis/1o6I...</td>\n",
       "      <td>500062</td>\n",
       "      <td>4</td>\n",
       "      <td>Gati Bali</td>\n",
       "    </tr>\n",
       "    <tr>\n",
       "      <th>3</th>\n",
       "      <td>0.275</td>\n",
       "      <td>0.309</td>\n",
       "      <td>5</td>\n",
       "      <td>-9.316</td>\n",
       "      <td>1</td>\n",
       "      <td>0.0354</td>\n",
       "      <td>0.967</td>\n",
       "      <td>0.000028</td>\n",
       "      <td>0.381</td>\n",
       "      <td>0.1650</td>\n",
       "      <td>100.109</td>\n",
       "      <td>audio_features</td>\n",
       "      <td>3ftBPsC5vPBKxYSee08FDH</td>\n",
       "      <td>spotify:track:3ftBPsC5vPBKxYSee08FDH</td>\n",
       "      <td>https://api.spotify.com/v1/tracks/3ftBPsC5vPBK...</td>\n",
       "      <td>https://api.spotify.com/v1/audio-analysis/3ftB...</td>\n",
       "      <td>210000</td>\n",
       "      <td>3</td>\n",
       "      <td>Danny Boy</td>\n",
       "    </tr>\n",
       "    <tr>\n",
       "      <th>4</th>\n",
       "      <td>0.418</td>\n",
       "      <td>0.193</td>\n",
       "      <td>3</td>\n",
       "      <td>-10.096</td>\n",
       "      <td>1</td>\n",
       "      <td>0.0380</td>\n",
       "      <td>0.957</td>\n",
       "      <td>0.000002</td>\n",
       "      <td>0.229</td>\n",
       "      <td>0.2530</td>\n",
       "      <td>101.665</td>\n",
       "      <td>audio_features</td>\n",
       "      <td>4d6HGyGT8e121BsdKmw9v6</td>\n",
       "      <td>spotify:track:4d6HGyGT8e121BsdKmw9v6</td>\n",
       "      <td>https://api.spotify.com/v1/tracks/4d6HGyGT8e12...</td>\n",
       "      <td>https://api.spotify.com/v1/audio-analysis/4d6H...</td>\n",
       "      <td>166693</td>\n",
       "      <td>4</td>\n",
       "      <td>When Irish Eyes Are Smiling</td>\n",
       "    </tr>\n",
       "  </tbody>\n",
       "</table>\n",
       "</div>"
      ],
      "text/plain": [
       "   danceability  energy  key  loudness  mode  speechiness  acousticness  \\\n",
       "0         0.279   0.211   10   -20.096     1       0.0366         0.982   \n",
       "1         0.819   0.341    7   -12.441     1       0.4150         0.732   \n",
       "2         0.328   0.166    3   -14.850     1       0.0339         0.961   \n",
       "3         0.275   0.309    5    -9.316     1       0.0354         0.967   \n",
       "4         0.418   0.193    3   -10.096     1       0.0380         0.957   \n",
       "\n",
       "   instrumentalness  liveness  valence    tempo            type  \\\n",
       "0          0.878000     0.665   0.0594   80.954  audio_features   \n",
       "1          0.000000     0.160   0.9630   60.936  audio_features   \n",
       "2          0.913000     0.101   0.0394  110.339  audio_features   \n",
       "3          0.000028     0.381   0.1650  100.109  audio_features   \n",
       "4          0.000002     0.229   0.2530  101.665  audio_features   \n",
       "\n",
       "                       id                                   uri  \\\n",
       "0  4BJqT0PrAfrxzMOxytFOIz  spotify:track:4BJqT0PrAfrxzMOxytFOIz   \n",
       "1  7xPhfUan2yNtyFG0cUWkt8  spotify:track:7xPhfUan2yNtyFG0cUWkt8   \n",
       "2  1o6I8BglA6ylDMrIELygv1  spotify:track:1o6I8BglA6ylDMrIELygv1   \n",
       "3  3ftBPsC5vPBKxYSee08FDH  spotify:track:3ftBPsC5vPBKxYSee08FDH   \n",
       "4  4d6HGyGT8e121BsdKmw9v6  spotify:track:4d6HGyGT8e121BsdKmw9v6   \n",
       "\n",
       "                                          track_href  \\\n",
       "0  https://api.spotify.com/v1/tracks/4BJqT0PrAfrx...   \n",
       "1  https://api.spotify.com/v1/tracks/7xPhfUan2yNt...   \n",
       "2  https://api.spotify.com/v1/tracks/1o6I8BglA6yl...   \n",
       "3  https://api.spotify.com/v1/tracks/3ftBPsC5vPBK...   \n",
       "4  https://api.spotify.com/v1/tracks/4d6HGyGT8e12...   \n",
       "\n",
       "                                        analysis_url  duration_ms  \\\n",
       "0  https://api.spotify.com/v1/audio-analysis/4BJq...       831667   \n",
       "1  https://api.spotify.com/v1/audio-analysis/7xPh...       180533   \n",
       "2  https://api.spotify.com/v1/audio-analysis/1o6I...       500062   \n",
       "3  https://api.spotify.com/v1/audio-analysis/3ftB...       210000   \n",
       "4  https://api.spotify.com/v1/audio-analysis/4d6H...       166693   \n",
       "\n",
       "   time_signature                                               name  \n",
       "0               4  Piano Concerto No. 3 in D Minor, Op. 30: III. ...  \n",
       "1               4                            Clancy Lowered the Boom  \n",
       "2               4                                          Gati Bali  \n",
       "3               3                                          Danny Boy  \n",
       "4               4                        When Irish Eyes Are Smiling  "
      ]
     },
     "execution_count": 63,
     "metadata": {},
     "output_type": "execute_result"
    }
   ],
   "source": [
    "df2['name'] = df['name']\n",
    "df2.head()"
   ]
  },
  {
   "cell_type": "markdown",
   "metadata": {},
   "source": [
    "To label live music, \"live\" word was detected by regular expression.<br>\n",
    "\n",
    "Examples are shown as follows:"
   ]
  },
  {
   "cell_type": "code",
   "execution_count": null,
   "metadata": {},
   "outputs": [
    {
     "name": "stdout",
     "output_type": "stream",
     "text": [
      "['How High the Moon - Live', \"Don Giovanni, K. 527, Act I: Giovinette, che fate all'amore (Live)\", 'Quicksilver - Live At Birdland, New York/1954', 'Skin Deep - Live', 'Real Live Girl', 'Nothing Was Delivered', 'The Eleven - Live in San Francisco, 1969; 2001 Remaster', 'A Man A City (live at the Fillmore West) [Bonus Track]', 'Got My Mojo Working - Pt. 2 / Live At Newport Jazz Festival, 1960', \"C'mon And Love Me - Live/1975\"] \n",
      "\n",
      "0 :  How High the Moon - Live\n",
      "['- Live']  found!!\n",
      "1 :  Don Giovanni, K. 527, Act I: Giovinette, che fate all'amore (Live)\n",
      "['(Live)']  found!!\n",
      "2 :  Quicksilver - Live At Birdland, New York/1954\n",
      "['- Live']  found!!\n",
      "3 :  Skin Deep - Live\n",
      "['- Live']  found!!\n",
      "4 :  Real Live Girl\n",
      "There is no matching words\n",
      "5 :  Nothing Was Delivered\n",
      "There is no matching words\n",
      "6 :  The Eleven - Live in San Francisco, 1969; 2001 Remaster\n",
      "['- Live']  found!!\n",
      "7 :  A Man A City (live at the Fillmore West) [Bonus Track]\n",
      "There is no matching words\n",
      "8 :  Got My Mojo Working - Pt. 2 / Live At Newport Jazz Festival, 1960\n",
      "['/ Live']  found!!\n",
      "9 :  C'mon And Love Me - Live/1975\n",
      "['- Live']  found!!\n"
     ]
    }
   ],
   "source": [
    "import re\n",
    "strs = ['How High the Moon - Live','Don Giovanni, K. 527, Act I: Giovinette, che fate all\\'amore (Live)',\n",
    "        'Quicksilver - Live At Birdland, New York/1954','Skin Deep - Live','Real Live Girl',\n",
    "        'Nothing Was Delivered', 'The Eleven - Live in San Francisco, 1969; 2001 Remaster',\n",
    "        'A Man A City (live at the Fillmore West) [Bonus Track]', 'Got My Mojo Working - Pt. 2 / Live At Newport Jazz Festival, 1960',\n",
    "        'C\\'mon And Love Me - Live/1975']\n",
    "print(strs,'\\n')\n",
    "\n",
    "for i, str in enumerate(strs):\n",
    "    tokens = re.findall(r'([-/] [Ll]ive|\\([Ll]ive\\))', str)\n",
    "    print(i,': ',str)\n",
    "    if tokens:\n",
    "        print(tokens, ' found!!')\n",
    "    else:\n",
    "        print('There is no matching words')\n",
    "    \n"
   ]
  },
  {
   "cell_type": "markdown",
   "metadata": {},
   "source": [
    "labelling live music based on the name including \"live\" "
   ]
  },
  {
   "cell_type": "code",
   "execution_count": null,
   "metadata": {},
   "outputs": [
    {
     "name": "stderr",
     "output_type": "stream",
     "text": [
      "/Users/KC/My Drive/soundmouse/utils/utils.py:38: SettingWithCopyWarning: \n",
      "A value is trying to be set on a copy of a slice from a DataFrame\n",
      "\n",
      "See the caveats in the documentation: https://pandas.pydata.org/pandas-docs/stable/user_guide/indexing.html#returning-a-view-versus-a-copy\n",
      "  df['live'][i] = 1\n"
     ]
    }
   ],
   "source": [
    "df2 = detect_live_in_name(df2)"
   ]
  },
  {
   "cell_type": "markdown",
   "metadata": {},
   "source": [
    "Normalising numeric data (standardisation)"
   ]
  },
  {
   "cell_type": "code",
   "execution_count": null,
   "metadata": {},
   "outputs": [],
   "source": [
    "for i, col in enumerate(cfg.normalised_cols):\n",
    "    df2[col]=normalisation(df2[col])"
   ]
  },
  {
   "cell_type": "code",
   "execution_count": null,
   "metadata": {},
   "outputs": [
    {
     "data": {
      "text/html": [
       "<div>\n",
       "<style scoped>\n",
       "    .dataframe tbody tr th:only-of-type {\n",
       "        vertical-align: middle;\n",
       "    }\n",
       "\n",
       "    .dataframe tbody tr th {\n",
       "        vertical-align: top;\n",
       "    }\n",
       "\n",
       "    .dataframe thead th {\n",
       "        text-align: right;\n",
       "    }\n",
       "</style>\n",
       "<table border=\"1\" class=\"dataframe\">\n",
       "  <thead>\n",
       "    <tr style=\"text-align: right;\">\n",
       "      <th></th>\n",
       "      <th>danceability</th>\n",
       "      <th>energy</th>\n",
       "      <th>key</th>\n",
       "      <th>loudness</th>\n",
       "      <th>mode</th>\n",
       "      <th>speechiness</th>\n",
       "      <th>acousticness</th>\n",
       "      <th>instrumentalness</th>\n",
       "      <th>liveness</th>\n",
       "      <th>valence</th>\n",
       "      <th>tempo</th>\n",
       "      <th>type</th>\n",
       "      <th>id</th>\n",
       "      <th>uri</th>\n",
       "      <th>track_href</th>\n",
       "      <th>analysis_url</th>\n",
       "      <th>duration_ms</th>\n",
       "      <th>time_signature</th>\n",
       "      <th>name</th>\n",
       "      <th>live</th>\n",
       "    </tr>\n",
       "  </thead>\n",
       "  <tbody>\n",
       "    <tr>\n",
       "      <th>0</th>\n",
       "      <td>-1.509609</td>\n",
       "      <td>-0.950819</td>\n",
       "      <td>1.371512</td>\n",
       "      <td>-1.484222</td>\n",
       "      <td>0.640996</td>\n",
       "      <td>-0.381994</td>\n",
       "      <td>1.196042</td>\n",
       "      <td>2.235733</td>\n",
       "      <td>2.802696</td>\n",
       "      <td>-1.827616</td>\n",
       "      <td>-1.154106</td>\n",
       "      <td>audio_features</td>\n",
       "      <td>4BJqT0PrAfrxzMOxytFOIz</td>\n",
       "      <td>spotify:track:4BJqT0PrAfrxzMOxytFOIz</td>\n",
       "      <td>https://api.spotify.com/v1/tracks/4BJqT0PrAfrx...</td>\n",
       "      <td>https://api.spotify.com/v1/audio-analysis/4BJq...</td>\n",
       "      <td>4.978012</td>\n",
       "      <td>0.292319</td>\n",
       "      <td>Piano Concerto No. 3 in D Minor, Op. 30: III. ...</td>\n",
       "      <td>0</td>\n",
       "    </tr>\n",
       "    <tr>\n",
       "      <th>1</th>\n",
       "      <td>1.588714</td>\n",
       "      <td>-0.458713</td>\n",
       "      <td>0.515464</td>\n",
       "      <td>-0.133135</td>\n",
       "      <td>0.640996</td>\n",
       "      <td>1.764213</td>\n",
       "      <td>0.532930</td>\n",
       "      <td>-0.538791</td>\n",
       "      <td>-0.250113</td>\n",
       "      <td>1.637829</td>\n",
       "      <td>-1.805774</td>\n",
       "      <td>audio_features</td>\n",
       "      <td>7xPhfUan2yNtyFG0cUWkt8</td>\n",
       "      <td>spotify:track:7xPhfUan2yNtyFG0cUWkt8</td>\n",
       "      <td>https://api.spotify.com/v1/tracks/7xPhfUan2yNt...</td>\n",
       "      <td>https://api.spotify.com/v1/audio-analysis/7xPh...</td>\n",
       "      <td>-0.384110</td>\n",
       "      <td>0.292319</td>\n",
       "      <td>Clancy Lowered the Boom</td>\n",
       "      <td>0</td>\n",
       "    </tr>\n",
       "    <tr>\n",
       "      <th>2</th>\n",
       "      <td>-1.228465</td>\n",
       "      <td>-1.121164</td>\n",
       "      <td>-0.625932</td>\n",
       "      <td>-0.558317</td>\n",
       "      <td>0.640996</td>\n",
       "      <td>-0.397308</td>\n",
       "      <td>1.140341</td>\n",
       "      <td>2.346335</td>\n",
       "      <td>-0.606778</td>\n",
       "      <td>-1.904319</td>\n",
       "      <td>-0.197504</td>\n",
       "      <td>audio_features</td>\n",
       "      <td>1o6I8BglA6ylDMrIELygv1</td>\n",
       "      <td>spotify:track:1o6I8BglA6ylDMrIELygv1</td>\n",
       "      <td>https://api.spotify.com/v1/tracks/1o6I8BglA6yl...</td>\n",
       "      <td>https://api.spotify.com/v1/audio-analysis/1o6I...</td>\n",
       "      <td>2.247228</td>\n",
       "      <td>0.292319</td>\n",
       "      <td>Gati Bali</td>\n",
       "      <td>0</td>\n",
       "    </tr>\n",
       "    <tr>\n",
       "      <th>3</th>\n",
       "      <td>-1.532560</td>\n",
       "      <td>-0.579847</td>\n",
       "      <td>-0.055234</td>\n",
       "      <td>0.418419</td>\n",
       "      <td>0.640996</td>\n",
       "      <td>-0.388801</td>\n",
       "      <td>1.156256</td>\n",
       "      <td>-0.538704</td>\n",
       "      <td>1.085869</td>\n",
       "      <td>-1.422624</td>\n",
       "      <td>-0.530532</td>\n",
       "      <td>audio_features</td>\n",
       "      <td>3ftBPsC5vPBKxYSee08FDH</td>\n",
       "      <td>spotify:track:3ftBPsC5vPBKxYSee08FDH</td>\n",
       "      <td>https://api.spotify.com/v1/tracks/3ftBPsC5vPBK...</td>\n",
       "      <td>https://api.spotify.com/v1/audio-analysis/3ftB...</td>\n",
       "      <td>-0.141447</td>\n",
       "      <td>-1.633903</td>\n",
       "      <td>Danny Boy</td>\n",
       "      <td>0</td>\n",
       "    </tr>\n",
       "    <tr>\n",
       "      <th>4</th>\n",
       "      <td>-0.712078</td>\n",
       "      <td>-1.018957</td>\n",
       "      <td>-0.625932</td>\n",
       "      <td>0.280751</td>\n",
       "      <td>0.640996</td>\n",
       "      <td>-0.374054</td>\n",
       "      <td>1.129731</td>\n",
       "      <td>-0.538786</td>\n",
       "      <td>0.167003</td>\n",
       "      <td>-1.085130</td>\n",
       "      <td>-0.479878</td>\n",
       "      <td>audio_features</td>\n",
       "      <td>4d6HGyGT8e121BsdKmw9v6</td>\n",
       "      <td>spotify:track:4d6HGyGT8e121BsdKmw9v6</td>\n",
       "      <td>https://api.spotify.com/v1/tracks/4d6HGyGT8e12...</td>\n",
       "      <td>https://api.spotify.com/v1/audio-analysis/4d6H...</td>\n",
       "      <td>-0.498083</td>\n",
       "      <td>0.292319</td>\n",
       "      <td>When Irish Eyes Are Smiling</td>\n",
       "      <td>0</td>\n",
       "    </tr>\n",
       "  </tbody>\n",
       "</table>\n",
       "</div>"
      ],
      "text/plain": [
       "   danceability    energy       key  loudness      mode  speechiness  \\\n",
       "0     -1.509609 -0.950819  1.371512 -1.484222  0.640996    -0.381994   \n",
       "1      1.588714 -0.458713  0.515464 -0.133135  0.640996     1.764213   \n",
       "2     -1.228465 -1.121164 -0.625932 -0.558317  0.640996    -0.397308   \n",
       "3     -1.532560 -0.579847 -0.055234  0.418419  0.640996    -0.388801   \n",
       "4     -0.712078 -1.018957 -0.625932  0.280751  0.640996    -0.374054   \n",
       "\n",
       "   acousticness  instrumentalness  liveness   valence     tempo  \\\n",
       "0      1.196042          2.235733  2.802696 -1.827616 -1.154106   \n",
       "1      0.532930         -0.538791 -0.250113  1.637829 -1.805774   \n",
       "2      1.140341          2.346335 -0.606778 -1.904319 -0.197504   \n",
       "3      1.156256         -0.538704  1.085869 -1.422624 -0.530532   \n",
       "4      1.129731         -0.538786  0.167003 -1.085130 -0.479878   \n",
       "\n",
       "             type                      id  \\\n",
       "0  audio_features  4BJqT0PrAfrxzMOxytFOIz   \n",
       "1  audio_features  7xPhfUan2yNtyFG0cUWkt8   \n",
       "2  audio_features  1o6I8BglA6ylDMrIELygv1   \n",
       "3  audio_features  3ftBPsC5vPBKxYSee08FDH   \n",
       "4  audio_features  4d6HGyGT8e121BsdKmw9v6   \n",
       "\n",
       "                                    uri  \\\n",
       "0  spotify:track:4BJqT0PrAfrxzMOxytFOIz   \n",
       "1  spotify:track:7xPhfUan2yNtyFG0cUWkt8   \n",
       "2  spotify:track:1o6I8BglA6ylDMrIELygv1   \n",
       "3  spotify:track:3ftBPsC5vPBKxYSee08FDH   \n",
       "4  spotify:track:4d6HGyGT8e121BsdKmw9v6   \n",
       "\n",
       "                                          track_href  \\\n",
       "0  https://api.spotify.com/v1/tracks/4BJqT0PrAfrx...   \n",
       "1  https://api.spotify.com/v1/tracks/7xPhfUan2yNt...   \n",
       "2  https://api.spotify.com/v1/tracks/1o6I8BglA6yl...   \n",
       "3  https://api.spotify.com/v1/tracks/3ftBPsC5vPBK...   \n",
       "4  https://api.spotify.com/v1/tracks/4d6HGyGT8e12...   \n",
       "\n",
       "                                        analysis_url  duration_ms  \\\n",
       "0  https://api.spotify.com/v1/audio-analysis/4BJq...     4.978012   \n",
       "1  https://api.spotify.com/v1/audio-analysis/7xPh...    -0.384110   \n",
       "2  https://api.spotify.com/v1/audio-analysis/1o6I...     2.247228   \n",
       "3  https://api.spotify.com/v1/audio-analysis/3ftB...    -0.141447   \n",
       "4  https://api.spotify.com/v1/audio-analysis/4d6H...    -0.498083   \n",
       "\n",
       "   time_signature                                               name  live  \n",
       "0        0.292319  Piano Concerto No. 3 in D Minor, Op. 30: III. ...     0  \n",
       "1        0.292319                            Clancy Lowered the Boom     0  \n",
       "2        0.292319                                          Gati Bali     0  \n",
       "3       -1.633903                                          Danny Boy     0  \n",
       "4        0.292319                        When Irish Eyes Are Smiling     0  "
      ]
     },
     "execution_count": 67,
     "metadata": {},
     "output_type": "execute_result"
    }
   ],
   "source": [
    "df2.head()"
   ]
  },
  {
   "cell_type": "markdown",
   "metadata": {},
   "source": [
    "Print out the number of live music or non live music"
   ]
  },
  {
   "cell_type": "code",
   "execution_count": null,
   "metadata": {},
   "outputs": [
    {
     "name": "stdout",
     "output_type": "stream",
     "text": [
      "total num           : 99000 \n",
      "live music num      : 1506 \n",
      "non live music num  : 97494 \n"
     ]
    }
   ],
   "source": [
    "fprint('total num', df2['live'].shape[0])\n",
    "fprint('live music num', df2['live'].sum())\n",
    "fprint('non live music num', df2['live'].shape[0]-df2['live'].sum())"
   ]
  },
  {
   "cell_type": "code",
   "execution_count": null,
   "metadata": {},
   "outputs": [],
   "source": [
    "live = df2[(df2['live'] == 1)]"
   ]
  },
  {
   "cell_type": "code",
   "execution_count": null,
   "metadata": {},
   "outputs": [
    {
     "data": {
      "image/png": "[encoded data removed]",
      "text/plain": [
       "<Figure size 720x576 with 1 Axes>"
      ]
     },
     "metadata": {},
     "output_type": "display_data"
    }
   ],
   "source": [
    "plot(df=live, x='liveness', plot_type='boxplot')"
   ]
  },
  {
   "cell_type": "markdown",
   "metadata": {},
   "source": [
    "Examining a distribution of the liveness value"
   ]
  },
  {
   "cell_type": "code",
   "execution_count": null,
   "metadata": {},
   "outputs": [
    {
     "data": {
      "image/png": "[encoded data removed]",
      "text/plain": [
       "<Figure size 720x576 with 1 Axes>"
      ]
     },
     "metadata": {},
     "output_type": "display_data"
    }
   ],
   "source": [
    "plot(df=df2, x='liveness', plot_type='boxplot')"
   ]
  },
  {
   "cell_type": "code",
   "execution_count": null,
   "metadata": {},
   "outputs": [
    {
     "data": {
      "image/png": "[encoded data removed]",
      "text/plain": [
       "<Figure size 720x576 with 1 Axes>"
      ]
     },
     "metadata": {},
     "output_type": "display_data"
    }
   ],
   "source": [
    "plot(df=df2, x='liveness', plot_type='histplot')"
   ]
  },
  {
   "cell_type": "markdown",
   "metadata": {},
   "source": [
    "Various info about liveness is shown as follows:"
   ]
  },
  {
   "cell_type": "code",
   "execution_count": null,
   "metadata": {},
   "outputs": [
    {
     "name": "stdout",
     "output_type": "stream",
     "text": [
      "[max/min/mean  ]----------------------------------------\n",
      "liveness max  : 4.821781899586773 \n",
      "liveness min  : -1.2173400946427888 \n",
      "liveness mean : 4.481622704818187e-16 \n",
      "[quantile      ]----------------------------------------\n",
      "0.05   -0.854026\n",
      "0.25   -0.617660\n",
      "0.50   -0.395197\n",
      "0.75    0.336268\n",
      "0.95    2.216315\n",
      "Name: liveness, dtype: float64\n"
     ]
    }
   ],
   "source": [
    "df_print_info(df2, item='liveness')"
   ]
  },
  {
   "cell_type": "code",
   "execution_count": null,
   "metadata": {},
   "outputs": [
    {
     "name": "stdout",
     "output_type": "stream",
     "text": [
      "Q1                            : -0.6176595122328062 \n",
      "Q2                            : -0.3951973606936191 \n",
      "Q3                            : 0.3362678658346861 \n",
      "IQR                           : 0.9539273780674924 \n",
      "(Q1-1.5*IQR)                  : -2.048550579334045 \n",
      "(Q3+1.5*IQR)                  : 1.7671589329359247 \n",
      "outlier [<(Q1-1.5*IQR)]       : 0 \n",
      "outlier [>(Q3+1.5*IQR)]       : 6319 \n",
      "outlier [<(Q1)]               : 416 \n",
      "outlier [>(Q3)]               : 24331 \n"
     ]
    }
   ],
   "source": [
    "def fprint(item, value):\n",
    "    print('{:30}: {} '.format(item, value))\n",
    "Q1 = df2['liveness'].quantile(0.25)\n",
    "Q2 = df2['liveness'].quantile(0.5)\n",
    "Q3 = df2['liveness'].quantile(0.75)\n",
    "IQR = Q3 - Q1\n",
    "fprint('Q1', Q1)\n",
    "fprint('Q2', Q2)\n",
    "fprint('Q3', Q3)\n",
    "fprint('IQR', IQR)\n",
    "fprint('(Q1-1.5*IQR)', Q1-1.5*IQR)\n",
    "fprint('(Q3+1.5*IQR)', Q3+1.5*IQR)\n",
    "fprint('outlier [<(Q1-1.5*IQR)]', df2[(df2['liveness']<(Q1-1.5*IQR)) & (df2['live']==1)].shape[0])\n",
    "fprint('outlier [>(Q3+1.5*IQR)]', df2[(df2['liveness']>(Q3+1.5*IQR)) & (df2['live']==0)].shape[0])\n",
    "fprint('outlier [<(Q1)]', df2[(df2['liveness']<(Q1)) & (df2['live']==1)].shape[0])\n",
    "fprint('outlier [>(Q3)]', df2[(df2['liveness']>(Q3)) & (df2['live']==0)].shape[0])\n",
    "# fprint('liveness > q0.95 & non live',df2[(df2['liveness']>2.216) & (df2['live']==0)].shape[0])\n",
    "# fprint('liveness > q0.5 & non live',df2[(df2['liveness']>-0.3951) & (df2['live']==0)].shape[0])\n",
    "# fprint('liveness < q0.05 & live',df2[(df2['liveness']<-0.8540) & (df2['live']==1)].shape[0])"
   ]
  },
  {
   "cell_type": "markdown",
   "metadata": {},
   "source": [
    "This is criterion regarding which data is considered as outliers."
   ]
  },
  {
   "cell_type": "code",
   "execution_count": null,
   "metadata": {},
   "outputs": [
    {
     "name": "stdout",
     "output_type": "stream",
     "text": [
      "the no. of outliers           : 24747 \n"
     ]
    }
   ],
   "source": [
    "lower = Q1\n",
    "upper = Q3\n",
    "df2['outlier'] = np.where((df2['liveness']<(lower)) & (df2['live']==1) | (df2['liveness']>(upper)) & (df2['live']==0), 1, 0 )\n",
    "\n",
    "fprint('the no. of outliers',df2['outlier'].sum())"
   ]
  },
  {
   "cell_type": "code",
   "execution_count": null,
   "metadata": {},
   "outputs": [
    {
     "ename": "KeyError",
     "evalue": "'outlier'",
     "output_type": "error",
     "traceback": [
      "\u001b[0;31m---------------------------------------------------------------------------\u001b[0m",
      "\u001b[0;31mKeyError\u001b[0m                                  Traceback (most recent call last)",
      "\u001b[0;32m~/opt/anaconda3/lib/python3.8/site-packages/pandas/core/indexes/base.py\u001b[0m in \u001b[0;36mget_loc\u001b[0;34m(self, key, method, tolerance)\u001b[0m\n\u001b[1;32m   3079\u001b[0m             \u001b[0;32mtry\u001b[0m\u001b[0;34m:\u001b[0m\u001b[0;34m\u001b[0m\u001b[0;34m\u001b[0m\u001b[0m\n\u001b[0;32m-> 3080\u001b[0;31m                 \u001b[0;32mreturn\u001b[0m \u001b[0mself\u001b[0m\u001b[0;34m.\u001b[0m\u001b[0m_engine\u001b[0m\u001b[0;34m.\u001b[0m\u001b[0mget_loc\u001b[0m\u001b[0;34m(\u001b[0m\u001b[0mcasted_key\u001b[0m\u001b[0;34m)\u001b[0m\u001b[0;34m\u001b[0m\u001b[0;34m\u001b[0m\u001b[0m\n\u001b[0m\u001b[1;32m   3081\u001b[0m             \u001b[0;32mexcept\u001b[0m \u001b[0mKeyError\u001b[0m \u001b[0;32mas\u001b[0m \u001b[0merr\u001b[0m\u001b[0;34m:\u001b[0m\u001b[0;34m\u001b[0m\u001b[0;34m\u001b[0m\u001b[0m\n",
      "\u001b[0;32mpandas/_libs/index.pyx\u001b[0m in \u001b[0;36mpandas._libs.index.IndexEngine.get_loc\u001b[0;34m()\u001b[0m\n",
      "\u001b[0;32mpandas/_libs/index.pyx\u001b[0m in \u001b[0;36mpandas._libs.index.IndexEngine.get_loc\u001b[0;34m()\u001b[0m\n",
      "\u001b[0;32mpandas/_libs/hashtable_class_helper.pxi\u001b[0m in \u001b[0;36mpandas._libs.hashtable.PyObjectHashTable.get_item\u001b[0;34m()\u001b[0m\n",
      "\u001b[0;32mpandas/_libs/hashtable_class_helper.pxi\u001b[0m in \u001b[0;36mpandas._libs.hashtable.PyObjectHashTable.get_item\u001b[0;34m()\u001b[0m\n",
      "\u001b[0;31mKeyError\u001b[0m: 'outlier'",
      "\nThe above exception was the direct cause of the following exception:\n",
      "\u001b[0;31mKeyError\u001b[0m                                  Traceback (most recent call last)",
      "\u001b[0;32m<ipython-input-78-a2e8e47a132b>\u001b[0m in \u001b[0;36m<module>\u001b[0;34m\u001b[0m\n\u001b[0;32m----> 1\u001b[0;31m \u001b[0moutlier\u001b[0m\u001b[0;34m=\u001b[0m \u001b[0mdf2\u001b[0m\u001b[0;34m[\u001b[0m\u001b[0;34m(\u001b[0m\u001b[0mdf2\u001b[0m\u001b[0;34m[\u001b[0m\u001b[0;34m'outlier'\u001b[0m\u001b[0;34m]\u001b[0m\u001b[0;34m==\u001b[0m\u001b[0;36m1\u001b[0m\u001b[0;34m)\u001b[0m\u001b[0;34m]\u001b[0m\u001b[0;34m\u001b[0m\u001b[0;34m\u001b[0m\u001b[0m\n\u001b[0m\u001b[1;32m      2\u001b[0m \u001b[0mplot\u001b[0m\u001b[0;34m(\u001b[0m\u001b[0mdf\u001b[0m\u001b[0;34m=\u001b[0m\u001b[0moutlier\u001b[0m\u001b[0;34m,\u001b[0m \u001b[0mx\u001b[0m\u001b[0;34m=\u001b[0m\u001b[0;34m'liveness'\u001b[0m\u001b[0;34m,\u001b[0m \u001b[0mplot_type\u001b[0m\u001b[0;34m=\u001b[0m\u001b[0;34m'histplot'\u001b[0m\u001b[0;34m)\u001b[0m\u001b[0;34m\u001b[0m\u001b[0;34m\u001b[0m\u001b[0m\n",
      "\u001b[0;32m~/opt/anaconda3/lib/python3.8/site-packages/pandas/core/frame.py\u001b[0m in \u001b[0;36m__getitem__\u001b[0;34m(self, key)\u001b[0m\n\u001b[1;32m   3022\u001b[0m             \u001b[0;32mif\u001b[0m \u001b[0mself\u001b[0m\u001b[0;34m.\u001b[0m\u001b[0mcolumns\u001b[0m\u001b[0;34m.\u001b[0m\u001b[0mnlevels\u001b[0m \u001b[0;34m>\u001b[0m \u001b[0;36m1\u001b[0m\u001b[0;34m:\u001b[0m\u001b[0;34m\u001b[0m\u001b[0;34m\u001b[0m\u001b[0m\n\u001b[1;32m   3023\u001b[0m                 \u001b[0;32mreturn\u001b[0m \u001b[0mself\u001b[0m\u001b[0;34m.\u001b[0m\u001b[0m_getitem_multilevel\u001b[0m\u001b[0;34m(\u001b[0m\u001b[0mkey\u001b[0m\u001b[0;34m)\u001b[0m\u001b[0;34m\u001b[0m\u001b[0;34m\u001b[0m\u001b[0m\n\u001b[0;32m-> 3024\u001b[0;31m             \u001b[0mindexer\u001b[0m \u001b[0;34m=\u001b[0m \u001b[0mself\u001b[0m\u001b[0;34m.\u001b[0m\u001b[0mcolumns\u001b[0m\u001b[0;34m.\u001b[0m\u001b[0mget_loc\u001b[0m\u001b[0;34m(\u001b[0m\u001b[0mkey\u001b[0m\u001b[0;34m)\u001b[0m\u001b[0;34m\u001b[0m\u001b[0;34m\u001b[0m\u001b[0m\n\u001b[0m\u001b[1;32m   3025\u001b[0m             \u001b[0;32mif\u001b[0m \u001b[0mis_integer\u001b[0m\u001b[0;34m(\u001b[0m\u001b[0mindexer\u001b[0m\u001b[0;34m)\u001b[0m\u001b[0;34m:\u001b[0m\u001b[0;34m\u001b[0m\u001b[0;34m\u001b[0m\u001b[0m\n\u001b[1;32m   3026\u001b[0m                 \u001b[0mindexer\u001b[0m \u001b[0;34m=\u001b[0m \u001b[0;34m[\u001b[0m\u001b[0mindexer\u001b[0m\u001b[0;34m]\u001b[0m\u001b[0;34m\u001b[0m\u001b[0;34m\u001b[0m\u001b[0m\n",
      "\u001b[0;32m~/opt/anaconda3/lib/python3.8/site-packages/pandas/core/indexes/base.py\u001b[0m in \u001b[0;36mget_loc\u001b[0;34m(self, key, method, tolerance)\u001b[0m\n\u001b[1;32m   3080\u001b[0m                 \u001b[0;32mreturn\u001b[0m \u001b[0mself\u001b[0m\u001b[0;34m.\u001b[0m\u001b[0m_engine\u001b[0m\u001b[0;34m.\u001b[0m\u001b[0mget_loc\u001b[0m\u001b[0;34m(\u001b[0m\u001b[0mcasted_key\u001b[0m\u001b[0;34m)\u001b[0m\u001b[0;34m\u001b[0m\u001b[0;34m\u001b[0m\u001b[0m\n\u001b[1;32m   3081\u001b[0m             \u001b[0;32mexcept\u001b[0m \u001b[0mKeyError\u001b[0m \u001b[0;32mas\u001b[0m \u001b[0merr\u001b[0m\u001b[0;34m:\u001b[0m\u001b[0;34m\u001b[0m\u001b[0;34m\u001b[0m\u001b[0m\n\u001b[0;32m-> 3082\u001b[0;31m                 \u001b[0;32mraise\u001b[0m \u001b[0mKeyError\u001b[0m\u001b[0;34m(\u001b[0m\u001b[0mkey\u001b[0m\u001b[0;34m)\u001b[0m \u001b[0;32mfrom\u001b[0m \u001b[0merr\u001b[0m\u001b[0;34m\u001b[0m\u001b[0;34m\u001b[0m\u001b[0m\n\u001b[0m\u001b[1;32m   3083\u001b[0m \u001b[0;34m\u001b[0m\u001b[0m\n\u001b[1;32m   3084\u001b[0m         \u001b[0;32mif\u001b[0m \u001b[0mtolerance\u001b[0m \u001b[0;32mis\u001b[0m \u001b[0;32mnot\u001b[0m \u001b[0;32mNone\u001b[0m\u001b[0;34m:\u001b[0m\u001b[0;34m\u001b[0m\u001b[0;34m\u001b[0m\u001b[0m\n",
      "\u001b[0;31mKeyError\u001b[0m: 'outlier'"
     ]
    }
   ],
   "source": [
    "outlier= df2[(df2['outlier']==1)]\n",
    "plot(df=outlier, x='liveness', plot_type='histplot')"
   ]
  },
  {
   "cell_type": "markdown",
   "metadata": {},
   "source": [
    "data columns were selected for model input data."
   ]
  },
  {
   "cell_type": "code",
   "execution_count": 38,
   "metadata": {},
   "outputs": [
    {
     "data": {
      "text/html": [
       "<div>\n",
       "<style scoped>\n",
       "    .dataframe tbody tr th:only-of-type {\n",
       "        vertical-align: middle;\n",
       "    }\n",
       "\n",
       "    .dataframe tbody tr th {\n",
       "        vertical-align: top;\n",
       "    }\n",
       "\n",
       "    .dataframe thead th {\n",
       "        text-align: right;\n",
       "    }\n",
       "</style>\n",
       "<table border=\"1\" class=\"dataframe\">\n",
       "  <thead>\n",
       "    <tr style=\"text-align: right;\">\n",
       "      <th></th>\n",
       "      <th>danceability</th>\n",
       "      <th>energy</th>\n",
       "      <th>key</th>\n",
       "      <th>loudness</th>\n",
       "      <th>mode</th>\n",
       "      <th>speechiness</th>\n",
       "      <th>acousticness</th>\n",
       "      <th>instrumentalness</th>\n",
       "      <th>liveness</th>\n",
       "      <th>valence</th>\n",
       "      <th>tempo</th>\n",
       "      <th>duration_ms</th>\n",
       "      <th>time_signature</th>\n",
       "      <th>live</th>\n",
       "      <th>outlier</th>\n",
       "    </tr>\n",
       "  </thead>\n",
       "  <tbody>\n",
       "    <tr>\n",
       "      <th>0</th>\n",
       "      <td>-1.509609</td>\n",
       "      <td>-0.950819</td>\n",
       "      <td>1.371512</td>\n",
       "      <td>-1.484222</td>\n",
       "      <td>0.640996</td>\n",
       "      <td>-0.381994</td>\n",
       "      <td>1.196042</td>\n",
       "      <td>2.235733</td>\n",
       "      <td>2.802696</td>\n",
       "      <td>-1.827616</td>\n",
       "      <td>-1.154106</td>\n",
       "      <td>4.978012</td>\n",
       "      <td>0.292319</td>\n",
       "      <td>0</td>\n",
       "      <td>1</td>\n",
       "    </tr>\n",
       "    <tr>\n",
       "      <th>1</th>\n",
       "      <td>1.588714</td>\n",
       "      <td>-0.458713</td>\n",
       "      <td>0.515464</td>\n",
       "      <td>-0.133135</td>\n",
       "      <td>0.640996</td>\n",
       "      <td>1.764213</td>\n",
       "      <td>0.532930</td>\n",
       "      <td>-0.538791</td>\n",
       "      <td>-0.250113</td>\n",
       "      <td>1.637829</td>\n",
       "      <td>-1.805774</td>\n",
       "      <td>-0.384110</td>\n",
       "      <td>0.292319</td>\n",
       "      <td>0</td>\n",
       "      <td>0</td>\n",
       "    </tr>\n",
       "    <tr>\n",
       "      <th>2</th>\n",
       "      <td>-1.228465</td>\n",
       "      <td>-1.121164</td>\n",
       "      <td>-0.625932</td>\n",
       "      <td>-0.558317</td>\n",
       "      <td>0.640996</td>\n",
       "      <td>-0.397308</td>\n",
       "      <td>1.140341</td>\n",
       "      <td>2.346335</td>\n",
       "      <td>-0.606778</td>\n",
       "      <td>-1.904319</td>\n",
       "      <td>-0.197504</td>\n",
       "      <td>2.247228</td>\n",
       "      <td>0.292319</td>\n",
       "      <td>0</td>\n",
       "      <td>0</td>\n",
       "    </tr>\n",
       "    <tr>\n",
       "      <th>3</th>\n",
       "      <td>-1.532560</td>\n",
       "      <td>-0.579847</td>\n",
       "      <td>-0.055234</td>\n",
       "      <td>0.418419</td>\n",
       "      <td>0.640996</td>\n",
       "      <td>-0.388801</td>\n",
       "      <td>1.156256</td>\n",
       "      <td>-0.538704</td>\n",
       "      <td>1.085869</td>\n",
       "      <td>-1.422624</td>\n",
       "      <td>-0.530532</td>\n",
       "      <td>-0.141447</td>\n",
       "      <td>-1.633903</td>\n",
       "      <td>0</td>\n",
       "      <td>1</td>\n",
       "    </tr>\n",
       "    <tr>\n",
       "      <th>4</th>\n",
       "      <td>-0.712078</td>\n",
       "      <td>-1.018957</td>\n",
       "      <td>-0.625932</td>\n",
       "      <td>0.280751</td>\n",
       "      <td>0.640996</td>\n",
       "      <td>-0.374054</td>\n",
       "      <td>1.129731</td>\n",
       "      <td>-0.538786</td>\n",
       "      <td>0.167003</td>\n",
       "      <td>-1.085130</td>\n",
       "      <td>-0.479878</td>\n",
       "      <td>-0.498083</td>\n",
       "      <td>0.292319</td>\n",
       "      <td>0</td>\n",
       "      <td>0</td>\n",
       "    </tr>\n",
       "  </tbody>\n",
       "</table>\n",
       "</div>"
      ],
      "text/plain": [
       "   danceability    energy       key  loudness      mode  speechiness  \\\n",
       "0     -1.509609 -0.950819  1.371512 -1.484222  0.640996    -0.381994   \n",
       "1      1.588714 -0.458713  0.515464 -0.133135  0.640996     1.764213   \n",
       "2     -1.228465 -1.121164 -0.625932 -0.558317  0.640996    -0.397308   \n",
       "3     -1.532560 -0.579847 -0.055234  0.418419  0.640996    -0.388801   \n",
       "4     -0.712078 -1.018957 -0.625932  0.280751  0.640996    -0.374054   \n",
       "\n",
       "   acousticness  instrumentalness  liveness   valence     tempo  duration_ms  \\\n",
       "0      1.196042          2.235733  2.802696 -1.827616 -1.154106     4.978012   \n",
       "1      0.532930         -0.538791 -0.250113  1.637829 -1.805774    -0.384110   \n",
       "2      1.140341          2.346335 -0.606778 -1.904319 -0.197504     2.247228   \n",
       "3      1.156256         -0.538704  1.085869 -1.422624 -0.530532    -0.141447   \n",
       "4      1.129731         -0.538786  0.167003 -1.085130 -0.479878    -0.498083   \n",
       "\n",
       "   time_signature  live  outlier  \n",
       "0        0.292319     0        1  \n",
       "1        0.292319     0        0  \n",
       "2        0.292319     0        0  \n",
       "3       -1.633903     0        1  \n",
       "4        0.292319     0        0  "
      ]
     },
     "execution_count": 38,
     "metadata": {},
     "output_type": "execute_result"
    }
   ],
   "source": [
    "selected_cols = cfg.selected_cols\n",
    "data = df2[selected_cols]\n",
    "data.head(5)"
   ]
  },
  {
   "cell_type": "code",
   "execution_count": 39,
   "metadata": {},
   "outputs": [
    {
     "data": {
      "text/plain": [
       "danceability        float64\n",
       "energy              float64\n",
       "key                 float64\n",
       "loudness            float64\n",
       "mode                float64\n",
       "speechiness         float64\n",
       "acousticness        float64\n",
       "instrumentalness    float64\n",
       "liveness            float64\n",
       "valence             float64\n",
       "tempo               float64\n",
       "duration_ms         float64\n",
       "time_signature      float64\n",
       "live                  int64\n",
       "outlier               int64\n",
       "dtype: object"
      ]
     },
     "execution_count": 39,
     "metadata": {},
     "output_type": "execute_result"
    }
   ],
   "source": [
    "#check types\n",
    "data.dtypes"
   ]
  },
  {
   "cell_type": "code",
   "execution_count": 40,
   "metadata": {},
   "outputs": [
    {
     "name": "stdout",
     "output_type": "stream",
     "text": [
      "is there null value?:\n",
      " danceability        0\n",
      "energy              0\n",
      "key                 0\n",
      "loudness            0\n",
      "mode                0\n",
      "speechiness         0\n",
      "acousticness        0\n",
      "instrumentalness    0\n",
      "liveness            0\n",
      "valence             0\n",
      "tempo               0\n",
      "duration_ms         0\n",
      "time_signature      0\n",
      "live                0\n",
      "outlier             0\n",
      "dtype: int64\n"
     ]
    }
   ],
   "source": [
    "#data preparation and preprocessiong                                                                                                                                                                                                                                                                                                                                                                                                                                                                                                                                                                                                                                                                                                                                                                                                                                                                                                                                                                                                                                                                                                                                                                                                                       \n",
    "print('is there null value?:\\n', data.isna().sum()) # check null values"
   ]
  },
  {
   "cell_type": "code",
   "execution_count": 28,
   "metadata": {},
   "outputs": [
    {
     "name": "stdout",
     "output_type": "stream",
     "text": [
      "data.csv  file created at  /Users/KC/My Drive/soundmouse/data/data.csv\n"
     ]
    }
   ],
   "source": [
    "write_df(cfg, data, \"data.csv\")"
   ]
  }
 ],
 "metadata": {
  "interpreter": {
   "hash": "45d80257ccf4ae77bb116447a323b4ded5c7d4f4eb3ea993cf039511269910c8"
  },
  "kernelspec": {
   "display_name": "Python 3.8.8 64-bit ('base': conda)",
   "language": "python",
   "name": "python3"
  },
  "language_info": {
   "codemirror_mode": {
    "name": "ipython",
    "version": 3
   },
   "file_extension": ".py",
   "mimetype": "text/x-python",
   "name": "python",
   "nbconvert_exporter": "python",
   "pygments_lexer": "ipython3",
   "version": "3.8.8"
  },
  "orig_nbformat": 4
 },
 "nbformat": 4,
 "nbformat_minor": 2
}
